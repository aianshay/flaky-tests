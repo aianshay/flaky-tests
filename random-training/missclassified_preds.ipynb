{
 "cells": [
  {
   "cell_type": "markdown",
   "metadata": {},
   "source": [
    "This notebook saves to a .csv file only the cases where the model failed to make a correct prediction"
   ]
  },
  {
   "cell_type": "code",
   "execution_count": 10,
   "metadata": {},
   "outputs": [],
   "source": [
    "from sklearn.model_selection import train_test_split, ShuffleSplit\n",
    "from sklearn.naive_bayes import MultinomialNB, GaussianNB\n",
    "from sklearn.linear_model import SGDClassifier\n",
    "from sklearn.feature_extraction.text import CountVectorizer\n",
    "from sklearn.pipeline import Pipeline, make_pipeline\n",
    "from sklearn.metrics import classification_report\n",
    "from sklearn.model_selection import cross_validate\n",
    "import pandas as pd\n",
    "import seaborn as sns\n",
    "from matplotlib import pyplot as plt"
   ]
  },
  {
   "cell_type": "code",
   "execution_count": 11,
   "metadata": {},
   "outputs": [
    {
     "name": "stdout",
     "output_type": "stream",
     "text": [
      "(2806, 3) (1632, 3)\n"
     ]
    }
   ],
   "source": [
    "msr_data = pd.read_csv('../data/msr/msr_data.csv')\n",
    "new_data = pd.read_csv('../data/new/new_data.csv')\n",
    "print(msr_data.shape, new_data.shape)"
   ]
  },
  {
   "cell_type": "code",
   "execution_count": 12,
   "metadata": {},
   "outputs": [
    {
     "name": "stdout",
     "output_type": "stream",
     "text": [
      "(2771, 3) (1464, 3)\n"
     ]
    }
   ],
   "source": [
    "msr_no_duplicates = msr_data.drop_duplicates()\n",
    "new_no_duplicates = new_data.drop_duplicates()\n",
    "print(msr_no_duplicates.shape ,new_no_duplicates.shape)"
   ]
  },
  {
   "cell_type": "code",
   "execution_count": 13,
   "metadata": {
    "jupyter": {
     "source_hidden": true
    }
   },
   "outputs": [],
   "source": [
    "def preprocess(token):\n",
    "    token = str(token) \n",
    "    token_lowered = token.lower()\n",
    "    \n",
    "    #token_lowered = re.sub(r'(\\brow\\b)|(\\btable\\b)|(\\binsert\\b)|(\\bid\\b)', 'dbms', token_lowered)\n",
    "    \n",
    "    url_pattern = '(https?:\\/\\/(?:www\\.|(?!www))[a-zA-Z0-9][a-zA-Z0-9-]+[a-zA-Z0-9]\\.[^\\s]{2,}|www\\.[a-zA-Z0-9][a-zA-Z0-9-]+[a-zA-Z0-9]\\.[^\\s]{2,}|https?:\\/\\/(?:www\\.|(?!www))[a-zA-Z0-9]+\\.[^\\s]{2,}|www\\.[a-zA-Z0-9]+\\.[^\\s]{2,})'\n",
    "    token_url = re.sub(url_pattern, 'urllink', token_lowered)\n",
    "    \n",
    "    date_pattern = '([12]\\d{3}/(0[1-9]|1[0-2])/(0[1-9]|[12]\\d|3[01]))|([12]\\d{3}-(0[1-9]|1[0-2])-(0[1-9]|[12]\\d|3[01]))|([12]\\d{3}/(0[1-9]|1[0-2])/(0[1-9]|[12]\\d|3[01]))'\n",
    "    token_dates = re.sub(date_pattern, 'date', token_url)\n",
    "    \n",
    "    ip_pattern = '(([0-9]|[1-9][0-9]|1[0-9]{2}|2[0-4][0-9]|25[0-5])\\.){3}([0-9]|[1-9][0-9]|1[0-9]{2}|2[0-4][0-9]|25[0-5])'\n",
    "    token_ip = re.sub(ip_pattern, ' ipaddrezz ', token_dates)\n",
    "    \n",
    "    token_num = re.sub(r'\\b[0-9]+\\b', ' ', token_ip)\n",
    "    \n",
    "    special_character_pattern = '[^A-Za-z0-9]+'\n",
    "    token_char = re.sub(special_character_pattern, ' ', token_num)\n",
    "    \n",
    "    return token_char"
   ]
  },
  {
   "cell_type": "code",
   "execution_count": 14,
   "metadata": {},
   "outputs": [],
   "source": [
    "y_msr = msr_no_duplicates['flaky']\n",
    "X_msr = msr_no_duplicates['token'].values.astype('U')"
   ]
  },
  {
   "cell_type": "code",
   "execution_count": 15,
   "metadata": {},
   "outputs": [],
   "source": [
    "pipeline = make_pipeline(CountVectorizer(), MultinomialNB())\n",
    "cv = ShuffleSplit(n_splits=5, test_size=0.2, random_state=0)\n",
    "scores = cross_validate(pipeline, X_msr, y_msr, \n",
    "                        cv=cv, return_estimator=True, scoring=['f1',\n",
    "                                                               'accuracy',\n",
    "                                                               'precision',\n",
    "                                                               'recall'])"
   ]
  },
  {
   "cell_type": "code",
   "execution_count": 16,
   "metadata": {},
   "outputs": [
    {
     "data": {
      "text/plain": [
       "{'fit_time': array([2.97004867, 1.6984973 , 1.39062476, 1.28843999, 1.28944826]),\n",
       " 'score_time': array([0.26562762, 0.23910022, 0.21875644, 0.19099593, 0.20570922]),\n",
       " 'estimator': (Pipeline(steps=[('countvectorizer', CountVectorizer()),\n",
       "                  ('multinomialnb', MultinomialNB())]),\n",
       "  Pipeline(steps=[('countvectorizer', CountVectorizer()),\n",
       "                  ('multinomialnb', MultinomialNB())]),\n",
       "  Pipeline(steps=[('countvectorizer', CountVectorizer()),\n",
       "                  ('multinomialnb', MultinomialNB())]),\n",
       "  Pipeline(steps=[('countvectorizer', CountVectorizer()),\n",
       "                  ('multinomialnb', MultinomialNB())]),\n",
       "  Pipeline(steps=[('countvectorizer', CountVectorizer()),\n",
       "                  ('multinomialnb', MultinomialNB())])),\n",
       " 'test_f1': array([0.91778203, 0.93761141, 0.93900185, 0.91262136, 0.92164179]),\n",
       " 'test_accuracy': array([0.92252252, 0.93693694, 0.94054054, 0.91891892, 0.92432432]),\n",
       " 'test_precision': array([0.96      , 0.95985401, 0.95849057, 0.97107438, 0.97628458]),\n",
       " 'test_recall': array([0.87912088, 0.91637631, 0.92028986, 0.86080586, 0.87279152])}"
      ]
     },
     "execution_count": 16,
     "metadata": {},
     "output_type": "execute_result"
    }
   ],
   "source": [
    "scores"
   ]
  },
  {
   "cell_type": "code",
   "execution_count": 17,
   "metadata": {},
   "outputs": [],
   "source": [
    "y_new = new_no_duplicates['flaky']\n",
    "X_new = new_no_duplicates['token'].values.astype('U')"
   ]
  },
  {
   "cell_type": "code",
   "execution_count": 18,
   "metadata": {},
   "outputs": [
    {
     "name": "stdout",
     "output_type": "stream",
     "text": [
      "              precision    recall  f1-score   support\n",
      "\n",
      "           0       0.63      0.63      0.63       734\n",
      "           1       0.63      0.63      0.63       730\n",
      "\n",
      "    accuracy                           0.63      1464\n",
      "   macro avg       0.63      0.63      0.63      1464\n",
      "weighted avg       0.63      0.63      0.63      1464\n",
      "\n"
     ]
    }
   ],
   "source": [
    "classifier = scores['estimator'][0]\n",
    "new_preds = classifier.predict(X_new)\n",
    "print(classification_report(y_new, new_preds))"
   ]
  },
  {
   "cell_type": "code",
   "execution_count": 19,
   "metadata": {},
   "outputs": [
    {
     "data": {
      "text/plain": [
       "array([1, 0, 1, ..., 0, 0, 1], dtype=int64)"
      ]
     },
     "execution_count": 19,
     "metadata": {},
     "output_type": "execute_result"
    }
   ],
   "source": [
    "new_preds"
   ]
  },
  {
   "cell_type": "code",
   "execution_count": 20,
   "metadata": {},
   "outputs": [
    {
     "name": "stderr",
     "output_type": "stream",
     "text": [
      "c:\\users\\aian\\appdata\\local\\programs\\python\\python37\\lib\\site-packages\\ipykernel_launcher.py:1: SettingWithCopyWarning: \n",
      "A value is trying to be set on a copy of a slice from a DataFrame.\n",
      "Try using .loc[row_indexer,col_indexer] = value instead\n",
      "\n",
      "See the caveats in the documentation: http://pandas.pydata.org/pandas-docs/stable/user_guide/indexing.html#returning-a-view-versus-a-copy\n",
      "  \"\"\"Entry point for launching an IPython kernel.\n"
     ]
    }
   ],
   "source": [
    "new_no_duplicates['prediction'] = new_preds"
   ]
  },
  {
   "cell_type": "code",
   "execution_count": 21,
   "metadata": {},
   "outputs": [],
   "source": [
    "wrong_predictions = new_no_duplicates.query('flaky != prediction')"
   ]
  },
  {
   "cell_type": "code",
   "execution_count": 22,
   "metadata": {},
   "outputs": [
    {
     "data": {
      "text/plain": [
       "hadoop          130\n",
       "okhttp           65\n",
       "spring-boot      64\n",
       "ambari           52\n",
       "alluxio          40\n",
       "logback          28\n",
       "hector           26\n",
       "httpcore         21\n",
       "http-request     18\n",
       "commons-exec     16\n",
       "wroj4            15\n",
       "dubbo            15\n",
       "jackrabbit        9\n",
       "wildfly           6\n",
       "activiti          6\n",
       "orbit             6\n",
       "achilles          5\n",
       "websocket         5\n",
       "undertow          4\n",
       "zxing             3\n",
       "ninja             2\n",
       "togglz            2\n",
       "elasticjob        2\n",
       "handlebars        1\n",
       "Name: project, dtype: int64"
      ]
     },
     "execution_count": 22,
     "metadata": {},
     "output_type": "execute_result"
    }
   ],
   "source": [
    "wrong_predictions['project'].value_counts()"
   ]
  },
  {
   "cell_type": "code",
   "execution_count": 63,
   "metadata": {},
   "outputs": [],
   "source": [
    "def plot_word_count(data, n):\n",
    "    counter = CountVectorizer()\n",
    "    bow = counter.fit_transform(data)\n",
    "    sparse_matrix = pd.DataFrame(bow.toarray(), columns = counter.get_feature_names())\n",
    "    counts = sparse_matrix.sum().sort_values(ascending=False)\n",
    "\n",
    "    sns.barplot(x=counts.index[:n], y=counts.values[:n], palette='Blues_d')\n",
    "    plt.xticks(rotation=90)\n",
    "    plt.title('Word frequency in corpus')"
   ]
  },
  {
   "cell_type": "code",
   "execution_count": 64,
   "metadata": {},
   "outputs": [
    {
     "data": {
      "image/png": "[encoded data removed]",
      "text/plain": [
       "<Figure size 432x288 with 1 Axes>"
      ]
     },
     "metadata": {
      "needs_background": "light"
     },
     "output_type": "display_data"
    }
   ],
   "source": [
    "plot_word_count(wrong_predictions['token'], n=40)"
   ]
  },
  {
   "cell_type": "code",
   "execution_count": 65,
   "metadata": {},
   "outputs": [],
   "source": [
    "wrong2 = pd.read_csv('wrong_predicitons.csv')"
   ]
  },
  {
   "cell_type": "code",
   "execution_count": 66,
   "metadata": {},
   "outputs": [
    {
     "data": {
      "image/png": "[encoded data removed]",
      "text/plain": [
       "<Figure size 432x288 with 1 Axes>"
      ]
     },
     "metadata": {
      "needs_background": "light"
     },
     "output_type": "display_data"
    }
   ],
   "source": [
    "plot_word_count(wrong2['token'], n=40)"
   ]
  }
 ],
 "metadata": {
  "kernelspec": {
   "display_name": "Python 3",
   "language": "python",
   "name": "python3"
  },
  "language_info": {
   "codemirror_mode": {
    "name": "ipython",
    "version": 3
   },
   "file_extension": ".py",
   "mimetype": "text/x-python",
   "name": "python",
   "nbconvert_exporter": "python",
   "pygments_lexer": "ipython3",
   "version": "3.7.4"
  }
 },
 "nbformat": 4,
 "nbformat_minor": 4
}
