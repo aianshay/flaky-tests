{
 "cells": [
  {
   "cell_type": "code",
   "execution_count": 2,
   "metadata": {},
   "outputs": [],
   "source": [
    "import pandas as pd\n",
    "from sklearn.model_selection import train_test_split\n",
    "from sklearn.ensemble import RandomForestClassifier\n",
    "from sklearn.feature_extraction.text import CountVectorizer\n",
    "from sklearn.metrics import classification_report"
   ]
  },
  {
   "cell_type": "code",
   "execution_count": 3,
   "metadata": {},
   "outputs": [],
   "source": [
    "msr_data = pd.read_csv('../msr_results/tokenslockeywordskeywordcount.csv', encoding = 'ANSI')\n",
    "y_msr = msr_data['class']\n",
    "msr = msr_data.drop(columns=['class'])"
   ]
  },
  {
   "cell_type": "code",
   "execution_count": 4,
   "metadata": {},
   "outputs": [],
   "source": [
    "new_data = pd.read_csv('../new_data/dataset.csv')\n",
    "y_new = new_data['class']\n",
    "new = new_data.drop(columns=['class'])"
   ]
  },
  {
   "cell_type": "markdown",
   "metadata": {},
   "source": [
    "### Merging datasets"
   ]
  },
  {
   "cell_type": "code",
   "execution_count": 5,
   "metadata": {},
   "outputs": [
    {
     "name": "stdout",
     "output_type": "stream",
     "text": [
      "              precision    recall  f1-score   support\n",
      "\n",
      "           0       0.90      0.94      0.92       443\n",
      "           1       0.93      0.89      0.91       410\n",
      "\n",
      "    accuracy                           0.92       853\n",
      "   macro avg       0.92      0.92      0.92       853\n",
      "weighted avg       0.92      0.92      0.92       853\n",
      "\n"
     ]
    }
   ],
   "source": [
    "merged = pd.DataFrame()\n",
    "merged['token'] = pd.concat([msr_data['token'], new_data['token']], axis=0)\n",
    "merged['loc'] = pd.concat([msr_data['loc'], new_data['loc']], axis=0)\n",
    "merged['class'] = pd.concat([msr_data['class'], new_data['class']], axis=0)\n",
    "\n",
    "merged_dropped = merged.drop(columns='class')\n",
    "y_merge = merged['class']\n",
    "\n",
    "X_train, X_test, y_train, y_test = train_test_split(merged_dropped, y_merge, train_size=0.8, \n",
    "                                                    random_state=33, shuffle=True)\n",
    "\n",
    "vectorizer = CountVectorizer(max_features=1000)\n",
    "X_train_c = vectorizer.fit_transform(X_train['token'])\n",
    "X_test_c = vectorizer.transform(X_test['token'])\n",
    "\n",
    "merged_model = RandomForestClassifier(n_estimators=100)\n",
    "merged_model.fit(X_train_c, y_train)\n",
    "preds = merged_model.predict(X_test_c)\n",
    "print(classification_report(y_test, preds))"
   ]
  },
  {
   "cell_type": "code",
   "execution_count": 6,
   "metadata": {},
   "outputs": [
    {
     "data": {
      "text/html": [
       "<div>\n",
       "<style scoped>\n",
       "    .dataframe tbody tr th:only-of-type {\n",
       "        vertical-align: middle;\n",
       "    }\n",
       "\n",
       "    .dataframe tbody tr th {\n",
       "        vertical-align: top;\n",
       "    }\n",
       "\n",
       "    .dataframe thead th {\n",
       "        text-align: right;\n",
       "    }\n",
       "</style>\n",
       "<table border=\"1\" class=\"dataframe\">\n",
       "  <thead>\n",
       "    <tr style=\"text-align: right;\">\n",
       "      <th></th>\n",
       "      <th>importance</th>\n",
       "    </tr>\n",
       "  </thead>\n",
       "  <tbody>\n",
       "    <tr>\n",
       "      <td>table</td>\n",
       "      <td>0.023458</td>\n",
       "    </tr>\n",
       "    <tr>\n",
       "      <td>job</td>\n",
       "      <td>0.022046</td>\n",
       "    </tr>\n",
       "    <tr>\n",
       "      <td>test</td>\n",
       "      <td>0.021412</td>\n",
       "    </tr>\n",
       "    <tr>\n",
       "      <td>action</td>\n",
       "      <td>0.017885</td>\n",
       "    </tr>\n",
       "    <tr>\n",
       "      <td>xml</td>\n",
       "      <td>0.013800</td>\n",
       "    </tr>\n",
       "    <tr>\n",
       "      <td>services</td>\n",
       "      <td>0.013083</td>\n",
       "    </tr>\n",
       "    <tr>\n",
       "      <td>assert</td>\n",
       "      <td>0.012921</td>\n",
       "    </tr>\n",
       "    <tr>\n",
       "      <td>mtfs</td>\n",
       "      <td>0.012631</td>\n",
       "    </tr>\n",
       "    <tr>\n",
       "      <td>cluster</td>\n",
       "      <td>0.012088</td>\n",
       "    </tr>\n",
       "    <tr>\n",
       "      <td>getfilesystem</td>\n",
       "      <td>0.011129</td>\n",
       "    </tr>\n",
       "  </tbody>\n",
       "</table>\n",
       "</div>"
      ],
      "text/plain": [
       "               importance\n",
       "table            0.023458\n",
       "job              0.022046\n",
       "test             0.021412\n",
       "action           0.017885\n",
       "xml              0.013800\n",
       "services         0.013083\n",
       "assert           0.012921\n",
       "mtfs             0.012631\n",
       "cluster          0.012088\n",
       "getfilesystem    0.011129"
      ]
     },
     "execution_count": 6,
     "metadata": {},
     "output_type": "execute_result"
    }
   ],
   "source": [
    "importances = pd.DataFrame(merged_model.feature_importances_, index = vectorizer.get_feature_names(),\n",
    "                            columns=['importance']).sort_values('importance',ascending=False)\n",
    "\n",
    "importances[:10]"
   ]
  }
 ],
 "metadata": {
  "kernelspec": {
   "display_name": "Python 3",
   "language": "python",
   "name": "python3"
  },
  "language_info": {
   "codemirror_mode": {
    "name": "ipython",
    "version": 3
   },
   "file_extension": ".py",
   "mimetype": "text/x-python",
   "name": "python",
   "nbconvert_exporter": "python",
   "pygments_lexer": "ipython3",
   "version": "3.7.4"
  }
 },
 "nbformat": 4,
 "nbformat_minor": 4
}
