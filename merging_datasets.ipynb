{
 "cells": [
  {
   "cell_type": "code",
   "execution_count": 1,
   "metadata": {},
   "outputs": [],
   "source": [
    "import pandas as pd\n",
    "from sklearn.model_selection import train_test_split\n",
    "from sklearn.ensemble import RandomForestClassifier\n",
    "from sklearn.feature_extraction.text import CountVectorizer\n",
    "from sklearn.metrics import classification_report"
   ]
  },
  {
   "cell_type": "code",
   "execution_count": 2,
   "metadata": {},
   "outputs": [],
   "source": [
    "msr_data = pd.read_csv('data/msr/raw_msr_dataset.csv', encoding = 'ANSI')\n",
    "y_msr = msr_data['class']\n",
    "msr = msr_data.drop(columns=['class'])"
   ]
  },
  {
   "cell_type": "code",
   "execution_count": 3,
   "metadata": {},
   "outputs": [],
   "source": [
    "new_data = pd.read_csv('data/new/raw_new_dataset.csv')\n",
    "y_new = new_data['class']\n",
    "new = new_data.drop(columns=['class'])"
   ]
  },
  {
   "cell_type": "markdown",
   "metadata": {},
   "source": [
    "### Merging datasets\n",
    "\n",
    "This approach aims to investigate if the most important features to the model change if both (msr and new) datasets are merged."
   ]
  },
  {
   "cell_type": "code",
   "execution_count": 4,
   "metadata": {},
   "outputs": [],
   "source": [
    "merged = pd.DataFrame()\n",
    "merged['token'] = pd.concat([msr_data['token'], new_data['token']], axis=0)\n",
    "merged['loc'] = pd.concat([msr_data['loc'], new_data['loc']], axis=0)\n",
    "merged['class'] = pd.concat([msr_data['class'], new_data['class']], axis=0)\n",
    "\n",
    "merged_dropped = merged.drop(columns='class')\n",
    "y_merge = merged['class']\n",
    "\n",
    "X_train, X_test, y_train, y_test = train_test_split(merged_dropped['token'], y_merge, \n",
    "                                                    train_size=0.8, random_state=33,\n",
    "                                                    shuffle=True)"
   ]
  },
  {
   "cell_type": "code",
   "execution_count": 11,
   "metadata": {},
   "outputs": [],
   "source": [
    "from sklearn.model_selection import cross_val_score\n",
    "from sklearn.metrics import classification_report\n",
    "from sklearn.pipeline import Pipeline\n",
    "from sklearn.naive_bayes import MultinomialNB\n",
    "\n",
    "text_clf = Pipeline([\n",
    "                      ('vectorizer', CountVectorizer(stop_words='english')),\n",
    "                      ('model', MultinomialNB())])\n",
    "\n",
    "merged_dropped['class'] = y_merge\n",
    "merged_shuffled = merged_dropped.sample(frac=1)"
   ]
  },
  {
   "cell_type": "code",
   "execution_count": 12,
   "metadata": {},
   "outputs": [
    {
     "name": "stdout",
     "output_type": "stream",
     "text": [
      "Accuracy: 0.90 (+/- 0.03)\n",
      "[0.88745604 0.8898007  0.9144197  0.88511137 0.91324736]\n"
     ]
    }
   ],
   "source": [
    "scores = cross_val_score(text_clf, merged_shuffled['token'], merged_shuffled['class'], cv=5)\n",
    "print(\"Accuracy: %0.2f (+/- %0.2f)\" % (scores.mean(), scores.std() * 2))\n",
    "print(scores)"
   ]
  },
  {
   "cell_type": "code",
   "execution_count": 13,
   "metadata": {},
   "outputs": [
    {
     "name": "stdout",
     "output_type": "stream",
     "text": [
      "              precision    recall  f1-score   support\n",
      "\n",
      "           0       0.88      0.91      0.89       443\n",
      "           1       0.89      0.86      0.88       410\n",
      "\n",
      "    accuracy                           0.88       853\n",
      "   macro avg       0.88      0.88      0.88       853\n",
      "weighted avg       0.88      0.88      0.88       853\n",
      "\n"
     ]
    }
   ],
   "source": [
    "text_clf.fit(X_train, y_train)\n",
    "preds = text_clf.predict(X_test)\n",
    "print(classification_report(y_test, preds))"
   ]
  },
  {
   "cell_type": "code",
   "execution_count": 19,
   "metadata": {},
   "outputs": [
    {
     "name": "stdout",
     "output_type": "stream",
     "text": [
      "-4.117594170779464 job\n",
      "-4.171218639895159 test\n",
      "-4.240872549235573 action\n",
      "-4.409403254347518 assert\n",
      "-4.427169535912808 coord\n",
      "-4.578788568818287 file\n",
      "-4.7976744459564316 set\n",
      "-4.989641108749589 workflow\n",
      "-5.007919635922204 add\n",
      "-5.061771130732794 assertequals\n",
      "-5.065877912685447 xml\n",
      "-5.089824918535958 conf\n",
      "-5.14840999887103 id\n",
      "-5.198821588572511 equals\n",
      "-5.204714357539663 create\n",
      "-5.220200074979043 table\n",
      "-5.220200074979043 2009\n",
      "-5.3014439839982135 oozie\n",
      "-5.30535788331935 services\n",
      "-5.327830739171408 wf\n",
      "-5.37715580573391 app\n",
      "-5.381378190613758 coordinator\n",
      "-5.411444879212542 start\n",
      "-5.459072928201797 fail\n",
      "-5.504287176512965 status\n",
      "-5.52850143463356 time\n",
      "-5.568506769247259 value\n",
      "-5.592604320826319 data\n",
      "-5.619084243990787 path\n",
      "-5.644447922482642 bundle\n",
      "-5.674245285287586 record\n",
      "-5.678033168604523 asserttrue\n",
      "-5.679932504408176 service\n",
      "-5.720675287870526 execute\n",
      "-5.738657790420958 close\n",
      "-5.744724543103196 fs\n",
      "-5.750828326041214 dir\n",
      "-5.7610848262084025 size\n",
      "-5.788254731560331 true\n",
      "-5.790375623129468 end\n",
      "-5.80319631155853 run\n",
      "-5.809668826064147 user\n",
      "-5.865300522050296 client\n",
      "-5.876808128901775 node\n",
      "-5.876808128901775 date\n",
      "-5.886110521564089 purged\n",
      "-5.907362797223748 property\n",
      "-5.9145484568846225 02\n",
      "-5.946297155199203 cluster\n",
      "-5.951272289839316 check\n",
      "-5.966347952244764 log\n",
      "-6.012988529697875 expected\n",
      "-6.031730711507616 write\n",
      "-6.0371507789769545 null\n",
      "-6.0647007307451855 01\n",
      "-6.08444749368002 uri\n",
      "-6.093031237371411 server\n",
      "-6.116288099535678 url\n",
      "-6.122187821662867 list\n",
      "-6.122187821662867 block\n",
      "-6.128122557182682 case\n",
      "-6.140098748229398 utils\n",
      "-6.143115341768823 error\n",
      "-6.155273546248632 init\n",
      "-6.180042614361041 cmd\n",
      "-6.199030526605733 contains\n",
      "-6.205440804966652 instance\n",
      "-6.208661419666694 assertnotnull\n",
      "-6.21189244024814 string\n",
      "-6.234806699771016 info\n",
      "-6.265061108128818 delete\n",
      "-6.28227323700994 new\n",
      "-6.28227323700994 input\n",
      "-6.2962594789846795 build\n",
      "-6.31402193532452 exception\n",
      "-6.31402193532452 configuration\n",
      "-6.332105610757815 wait\n",
      "-6.335761921960926 00\n",
      "-6.392274132224268 getid\n",
      "-6.407899450127349 message\n",
      "-6.419780778014102 sleep\n",
      "-6.439902181213523 connection\n",
      "-6.443975506601158 thread\n",
      "-6.443975506601158 hcat\n",
      "-6.456295990989199 shutdown\n",
      "-6.468770165214375 tostring\n",
      "-6.472963043474411 stream\n",
      "-6.481401912120275 foo\n",
      "-6.481401912120275 evaluate\n",
      "-6.485648203001727 map\n",
      "-6.489912601788184 response\n",
      "-6.489912601788184 00z\n",
      "-6.50715440822269 java\n",
      "-6.515888088191445 update\n",
      "-6.515888088191445 code\n",
      "-6.533587665290846 long\n",
      "-6.538061945685767 false\n",
      "-6.560738654356797 type\n",
      "-6.565336363605426 context\n",
      "-6.565336363605426 bytes\n"
     ]
    }
   ],
   "source": [
    "def show_most_informative_features(vectorizer, clf, n=100):\n",
    "    feature_names = vectorizer.get_feature_names()\n",
    "    coefs_with_fns = sorted(zip(clf.coef_[0], feature_names))\n",
    "    top = zip(coefs_with_fns[:n], coefs_with_fns[:-(n + 1):-1])\n",
    "    \n",
    "    for (coef_1, fn_1), (coef_2, fn_2) in top:\n",
    "        #print(\"\\t%.4f\\t%-15s\\t\\t%.4f\\t%-15s\" % (coef_1, fn_1, coef_2, fn_2))\n",
    "        print(coef_2, fn_2)\n",
    "        \n",
    "show_most_informative_features(text_clf['vectorizer'], text_clf['model'])"
   ]
  }
 ],
 "metadata": {
  "kernelspec": {
   "display_name": "Python 3",
   "language": "python",
   "name": "python3"
  },
  "language_info": {
   "codemirror_mode": {
    "name": "ipython",
    "version": 3
   },
   "file_extension": ".py",
   "mimetype": "text/x-python",
   "name": "python",
   "nbconvert_exporter": "python",
   "pygments_lexer": "ipython3",
   "version": "3.7.4"
  }
 },
 "nbformat": 4,
 "nbformat_minor": 4
}
