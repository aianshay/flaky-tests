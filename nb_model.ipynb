{
 "cells": [
  {
   "cell_type": "code",
   "execution_count": 29,
   "metadata": {},
   "outputs": [],
   "source": [
    "from sklearn.model_selection import train_test_split\n",
    "from sklearn.ensemble import RandomForestClassifier\n",
    "from sklearn.naive_bayes import MultinomialNB\n",
    "from sklearn.naive_bayes import ComplementNB\n",
    "from sklearn.linear_model import SGDClassifier\n",
    "from sklearn.feature_extraction.text import CountVectorizer\n",
    "from sklearn.feature_extraction.text import TfidfVectorizer\n",
    "from sklearn.pipeline import Pipeline\n",
    "from sklearn.metrics import classification_report, f1_score\n",
    "import pandas as pd"
   ]
  },
  {
   "cell_type": "markdown",
   "metadata": {},
   "source": [
    "### Training on MSR data"
   ]
  },
  {
   "cell_type": "code",
   "execution_count": 5,
   "metadata": {},
   "outputs": [],
   "source": [
    "msr_data = pd.read_csv('data/msr_dataset.csv', encoding = 'ANSI')\n",
    "y_msr = msr_data['class']\n",
    "msr = msr_data.drop(columns=['class'])"
   ]
  },
  {
   "cell_type": "code",
   "execution_count": 6,
   "metadata": {},
   "outputs": [
    {
     "name": "stdout",
     "output_type": "stream",
     "text": [
      "              precision    recall  f1-score   support\n",
      "\n",
      "           0       0.92      0.98      0.95       283\n",
      "           1       0.98      0.91      0.94       278\n",
      "\n",
      "    accuracy                           0.94       561\n",
      "   macro avg       0.95      0.94      0.94       561\n",
      "weighted avg       0.95      0.94      0.94       561\n",
      "\n"
     ]
    }
   ],
   "source": [
    "X_train, X_test, y_train, y_test = train_test_split(msr_data['token'], \n",
    "                                                    y_msr, train_size=0.8, \n",
    "                                                    random_state=33, shuffle=True)\n",
    "\n",
    "text_clf1 = Pipeline([\n",
    "    ('vectorizer', TfidfVectorizer(norm='l1', use_idf=False, \n",
    "                                   token_pattern=r'(?u)\\b[A-Za-z]+\\b', stop_words='english')),\n",
    "    ('model', RandomForestClassifier())])\n",
    "\n",
    "text_clf1.fit(X_train, y_train)\n",
    "preds = text_clf1.predict(X_test)\n",
    "print(classification_report(y_test, preds))"
   ]
  },
  {
   "cell_type": "markdown",
   "metadata": {},
   "source": [
    "### Evaluating on new data "
   ]
  },
  {
   "cell_type": "code",
   "execution_count": 7,
   "metadata": {},
   "outputs": [
    {
     "name": "stdout",
     "output_type": "stream",
     "text": [
      "              precision    recall  f1-score   support\n",
      "\n",
      "           0       0.52      0.87      0.65       724\n",
      "           1       0.61      0.20      0.31       737\n",
      "\n",
      "    accuracy                           0.53      1461\n",
      "   macro avg       0.57      0.54      0.48      1461\n",
      "weighted avg       0.57      0.53      0.48      1461\n",
      "\n"
     ]
    }
   ],
   "source": [
    "new_data = pd.read_csv('data/new_dataset.csv')\n",
    "y_new = new_data['class']\n",
    "\n",
    "new_preds = text_clf1.predict(new_data['token'])\n",
    "print(classification_report(y_new, new_preds))"
   ]
  },
  {
   "cell_type": "markdown",
   "metadata": {},
   "source": [
    "### Testing MultinomialNB model with TfIdf approach"
   ]
  },
  {
   "cell_type": "code",
   "execution_count": 43,
   "metadata": {},
   "outputs": [
    {
     "name": "stdout",
     "output_type": "stream",
     "text": [
      "              precision    recall  f1-score   support\n",
      "\n",
      "           0       0.91      0.81      0.86       283\n",
      "           1       0.83      0.92      0.87       278\n",
      "\n",
      "    accuracy                           0.86       561\n",
      "   macro avg       0.87      0.87      0.86       561\n",
      "weighted avg       0.87      0.86      0.86       561\n",
      "\n"
     ]
    }
   ],
   "source": [
    "text_clf2 = Pipeline([\n",
    "    ('vectorizer', TfidfVectorizer(norm='l1', token_pattern=r'(?u)\\b[A-Za-z]+\\b',\n",
    "                                   stop_words='english', ngram_range=(1,20))),\n",
    "    ('model', MultinomialNB())])\n",
    "\n",
    "text_clf2.fit(X_train, y_train)\n",
    "preds = text_clf2.predict(X_test)\n",
    "\n",
    "print(classification_report(y_test, preds))"
   ]
  },
  {
   "cell_type": "code",
   "execution_count": 44,
   "metadata": {},
   "outputs": [
    {
     "name": "stdout",
     "output_type": "stream",
     "text": [
      "              precision    recall  f1-score   support\n",
      "\n",
      "           0       0.69      0.55      0.61       724\n",
      "           1       0.63      0.76      0.69       737\n",
      "\n",
      "    accuracy                           0.66      1461\n",
      "   macro avg       0.66      0.66      0.65      1461\n",
      "weighted avg       0.66      0.66      0.65      1461\n",
      "\n",
      "f1 0.6912669126691267\n"
     ]
    }
   ],
   "source": [
    "new_preds = text_clf2.predict(new_data['token'])\n",
    "print(classification_report(y_new, new_preds))\n",
    "print('f1', f1_score(y_new, new_preds))"
   ]
  },
  {
   "cell_type": "markdown",
   "metadata": {},
   "source": [
    "### Testing SGDClassifier"
   ]
  },
  {
   "cell_type": "code",
   "execution_count": 31,
   "metadata": {},
   "outputs": [
    {
     "name": "stdout",
     "output_type": "stream",
     "text": [
      "              precision    recall  f1-score   support\n",
      "\n",
      "           0       0.68      0.51      0.58       724\n",
      "           1       0.61      0.76      0.68       737\n",
      "\n",
      "    accuracy                           0.64      1461\n",
      "   macro avg       0.64      0.64      0.63      1461\n",
      "weighted avg       0.64      0.64      0.63      1461\n",
      "\n",
      "0.6783767413688673\n"
     ]
    }
   ],
   "source": [
    "text_clf3 = Pipeline([\n",
    "    ('vectorizer', TfidfVectorizer(norm='l1', use_idf=False, \n",
    "                                   token_pattern=r'(?u)\\b[A-Za-z]+\\b', stop_words='english')),\n",
    "    ('model', SGDClassifier(loss='hinge', penalty='l2',\n",
    "                          alpha=1e-3, random_state=42,\n",
    "                          max_iter=5, tol=None))])\n",
    "\n",
    "text_clf3.fit(X_train, y_train)\n",
    "new_preds = text_clf2.predict(new_data['token'])\n",
    "print(classification_report(y_new, new_preds))\n",
    "print(f1_score(y_new, new_preds))"
   ]
  }
 ],
 "metadata": {
  "kernelspec": {
   "display_name": "Python 3",
   "language": "python",
   "name": "python3"
  },
  "language_info": {
   "codemirror_mode": {
    "name": "ipython",
    "version": 3
   },
   "file_extension": ".py",
   "mimetype": "text/x-python",
   "name": "python",
   "nbconvert_exporter": "python",
   "pygments_lexer": "ipython3",
   "version": "3.7.4"
  }
 },
 "nbformat": 4,
 "nbformat_minor": 4
}
