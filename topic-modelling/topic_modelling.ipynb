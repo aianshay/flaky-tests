{
 "cells": [
  {
   "cell_type": "markdown",
   "metadata": {},
   "source": [
    "Based on yesterday's call, here's what I'm thinking in terms of methodology:\n",
    "\n",
    "- do topic modeling of source code identifiers from all flaky tests from all n projects, and on all flaky tests from a random subset of n/2 projects. Check if we're losing any potentially interesting topics by limiting it to n/2 projects -- hopefully not. This will give us k topics and a matrix of 'flaky tests x flaky topic'. We can use this matrix to identify each test's dominant topic. This will also help answer an exploratory research question about different kinds of flakiness.\n",
    "- use machine learning to build one classifier each for each of the k topics, on the same n/2 projects. We'll keep the remaining n/2 projects for validation only. These classifiers will take a test case as input and predict whether it's (a) not flaky or (b) flaky according to a specific kind of flakiness (i.e., topic).\n",
    "- validate the k classifiers on the remaining n/2 projects. I would suggest we do manual annotation for the flaky tests in this step, to determine for each test what kind of flakiness it is affected by. We can then report the performance of each of the k classifiers in terms of (a) how well it predicted flakiness, and (b) whether it picked up on the right kind of flakiness."
   ]
  },
  {
   "cell_type": "code",
   "execution_count": 1,
   "metadata": {},
   "outputs": [],
   "source": [
    "import pandas as pd\n",
    "import re"
   ]
  },
  {
   "cell_type": "code",
   "execution_count": 2,
   "metadata": {},
   "outputs": [
    {
     "data": {
      "text/html": [
       "<div>\n",
       "<style scoped>\n",
       "    .dataframe tbody tr th:only-of-type {\n",
       "        vertical-align: middle;\n",
       "    }\n",
       "\n",
       "    .dataframe tbody tr th {\n",
       "        vertical-align: top;\n",
       "    }\n",
       "\n",
       "    .dataframe thead th {\n",
       "        text-align: right;\n",
       "    }\n",
       "</style>\n",
       "<table border=\"1\" class=\"dataframe\">\n",
       "  <thead>\n",
       "    <tr style=\"text-align: right;\">\n",
       "      <th></th>\n",
       "      <th>token</th>\n",
       "      <th>project</th>\n",
       "      <th>flaky</th>\n",
       "    </tr>\n",
       "  </thead>\n",
       "  <tbody>\n",
       "    <tr>\n",
       "      <td>0</td>\n",
       "      <td>call testResourceGetPostParamGet POST MyJsonR...</td>\n",
       "      <td>oozie</td>\n",
       "      <td>1</td>\n",
       "    </tr>\n",
       "    <tr>\n",
       "      <td>1</td>\n",
       "      <td>cluster createTable getClusterStatus hcd TEST_...</td>\n",
       "      <td>hadoop</td>\n",
       "      <td>1</td>\n",
       "    </tr>\n",
       "    <tr>\n",
       "      <td>2</td>\n",
       "      <td>fail testSetMaxInvalid Assert setDefaultMaxPer...</td>\n",
       "      <td>httpcore</td>\n",
       "      <td>0</td>\n",
       "    </tr>\n",
       "    <tr>\n",
       "      <td>3</td>\n",
       "      <td>thinks that it is single rack assertSingleSwi...</td>\n",
       "      <td>hadoop</td>\n",
       "      <td>0</td>\n",
       "    </tr>\n",
       "    <tr>\n",
       "      <td>4</td>\n",
       "      <td>hcatUri2  checkCoordAction CoordELFunctions hc...</td>\n",
       "      <td>oozie</td>\n",
       "      <td>1</td>\n",
       "    </tr>\n",
       "  </tbody>\n",
       "</table>\n",
       "</div>"
      ],
      "text/plain": [
       "                                               token   project  flaky\n",
       "0   call testResourceGetPostParamGet POST MyJsonR...     oozie      1\n",
       "1  cluster createTable getClusterStatus hcd TEST_...    hadoop      1\n",
       "2  fail testSetMaxInvalid Assert setDefaultMaxPer...  httpcore      0\n",
       "3   thinks that it is single rack assertSingleSwi...    hadoop      0\n",
       "4  hcatUri2  checkCoordAction CoordELFunctions hc...     oozie      1"
      ]
     },
     "execution_count": 2,
     "metadata": {},
     "output_type": "execute_result"
    }
   ],
   "source": [
    "data = pd.read_csv('../data/msr/msr_data.csv')\n",
    "data = data.drop_duplicates()\n",
    "data.head()"
   ]
  },
  {
   "cell_type": "code",
   "execution_count": 3,
   "metadata": {},
   "outputs": [
    {
     "data": {
      "text/plain": [
       "(1383, 3)"
      ]
     },
     "execution_count": 3,
     "metadata": {},
     "output_type": "execute_result"
    }
   ],
   "source": [
    "positive_data = data.query('flaky == 1')\n",
    "positive_data.shape"
   ]
  },
  {
   "cell_type": "code",
   "execution_count": 4,
   "metadata": {},
   "outputs": [
    {
     "data": {
      "text/plain": [
       "(1388, 3)"
      ]
     },
     "execution_count": 4,
     "metadata": {},
     "output_type": "execute_result"
    }
   ],
   "source": [
    "negative_data = data.query('flaky == 0')\n",
    "negative_data.shape"
   ]
  },
  {
   "cell_type": "code",
   "execution_count": 5,
   "metadata": {},
   "outputs": [],
   "source": [
    "def preprocess(input_data):\n",
    "    text_data = pd.DataFrame()\n",
    "    #do camelcase splitting\n",
    "    text_data['camel_case_split'] = input_data['token'].astype('U').map(lambda x: re.sub('([A-Z][a-z]+)', r' \\1', re.sub('([A-Z]+)', r' \\1', x)))\n",
    "    #lowercase all test cases\n",
    "    text_data['lowered'] = [token.lower() for token in text_data['camel_case_split'].astype('U')]\n",
    "    #remove punctuations such as _,/.!?{}=: \n",
    "    text_data['no_punctuation'] = text_data['lowered'].map(lambda x: re.sub('[_,/.!?{}=:]', '', x))\n",
    "    #remove assert* tokens\n",
    "    text_data['no_assert'] = text_data['no_punctuation'].map(lambda x: re.sub('assert', '', x))\n",
    "    #remove equals* tokens\n",
    "    text_data['no_assert_equals'] = text_data['no_assert'].map(lambda x: re.sub('equals', '', x))\n",
    "    #remove test tokens\n",
    "    text_data['clean'] = text_data['no_assert_equals'].map(lambda x: re.sub('test', '', x))\n",
    "    return text_data, text_data['clean']\n",
    "\n",
    "#sample 50% for training topic modelling model\n",
    "lda_training_data = positive_data.sample(frac=0.5, random_state=7)\n",
    "nb_flaky_test_data = positive_data.query(f'index not in {list(lda_training_data.index)}')\n",
    "lda_processed_data, X_lda = preprocess(lda_training_data)"
   ]
  },
  {
   "cell_type": "code",
   "execution_count": 6,
   "metadata": {},
   "outputs": [
    {
     "data": {
      "text/html": [
       "<div>\n",
       "<style scoped>\n",
       "    .dataframe tbody tr th:only-of-type {\n",
       "        vertical-align: middle;\n",
       "    }\n",
       "\n",
       "    .dataframe tbody tr th {\n",
       "        vertical-align: top;\n",
       "    }\n",
       "\n",
       "    .dataframe thead th {\n",
       "        text-align: right;\n",
       "    }\n",
       "</style>\n",
       "<table border=\"1\" class=\"dataframe\">\n",
       "  <thead>\n",
       "    <tr style=\"text-align: right;\">\n",
       "      <th></th>\n",
       "      <th>camel_case_split</th>\n",
       "      <th>lowered</th>\n",
       "      <th>no_punctuation</th>\n",
       "      <th>no_assert</th>\n",
       "      <th>no_assert_equals</th>\n",
       "      <th>clean</th>\n",
       "    </tr>\n",
       "  </thead>\n",
       "  <tbody>\n",
       "    <tr>\n",
       "      <td>621</td>\n",
       "      <td>cluster tries get  Name   Checked if node was ...</td>\n",
       "      <td>cluster tries get  name   checked if node was ...</td>\n",
       "      <td>cluster tries get  name   checked if node was ...</td>\n",
       "      <td>cluster tries get  name   checked if node was ...</td>\n",
       "      <td>cluster tries get  name   checked if node was ...</td>\n",
       "      <td>cluster tries get  name   checked if node was ...</td>\n",
       "    </tr>\n",
       "    <tr>\n",
       "      <td>80</td>\n",
       "      <td>FS001  FS002 viewfs is a supported scheme.   ...</td>\n",
       "      <td>fs001  fs002 viewfs is a supported scheme.   ...</td>\n",
       "      <td>fs001  fs002 viewfs is a supported scheme   t...</td>\n",
       "      <td>fs001  fs002 viewfs is a supported scheme   t...</td>\n",
       "      <td>fs001  fs002 viewfs is a supported scheme   t...</td>\n",
       "      <td>fs001  fs002 viewfs is a supported scheme   t...</td>\n",
       "    </tr>\n",
       "    <tr>\n",
       "      <td>2242</td>\n",
       "      <td>the match calls a player event on it's deacti...</td>\n",
       "      <td>the match calls a player event on it's deacti...</td>\n",
       "      <td>the match calls a player event on it's deacti...</td>\n",
       "      <td>the match calls a player event on it's deacti...</td>\n",
       "      <td>the match calls a player event on it's deacti...</td>\n",
       "      <td>the match calls a player event on it's deacti...</td>\n",
       "    </tr>\n",
       "    <tr>\n",
       "      <td>1761</td>\n",
       "      <td>date script  Executor session    Given insert ...</td>\n",
       "      <td>date script  executor session    given insert ...</td>\n",
       "      <td>date script  executor session    given insert ...</td>\n",
       "      <td>date script  executor session    given insert ...</td>\n",
       "      <td>date script  executor session    given insert ...</td>\n",
       "      <td>date script  executor session    given insert ...</td>\n",
       "    </tr>\n",
       "    <tr>\n",
       "      <td>1172</td>\n",
       "      <td>Check for resolved conf test  Dry  Run  Pus...</td>\n",
       "      <td>check for resolved conf test  dry  run  pus...</td>\n",
       "      <td>check for resolved conf test  dry  run  pus...</td>\n",
       "      <td>check for resolved conf test  dry  run  pus...</td>\n",
       "      <td>check for resolved conf test  dry  run  pus...</td>\n",
       "      <td>check for resolved conf   dry  run  push  d...</td>\n",
       "    </tr>\n",
       "  </tbody>\n",
       "</table>\n",
       "</div>"
      ],
      "text/plain": [
       "                                       camel_case_split  \\\n",
       "621   cluster tries get  Name   Checked if node was ...   \n",
       "80     FS001  FS002 viewfs is a supported scheme.   ...   \n",
       "2242   the match calls a player event on it's deacti...   \n",
       "1761  date script  Executor session    Given insert ...   \n",
       "1172     Check for resolved conf test  Dry  Run  Pus...   \n",
       "\n",
       "                                                lowered  \\\n",
       "621   cluster tries get  name   checked if node was ...   \n",
       "80     fs001  fs002 viewfs is a supported scheme.   ...   \n",
       "2242   the match calls a player event on it's deacti...   \n",
       "1761  date script  executor session    given insert ...   \n",
       "1172     check for resolved conf test  dry  run  pus...   \n",
       "\n",
       "                                         no_punctuation  \\\n",
       "621   cluster tries get  name   checked if node was ...   \n",
       "80     fs001  fs002 viewfs is a supported scheme   t...   \n",
       "2242   the match calls a player event on it's deacti...   \n",
       "1761  date script  executor session    given insert ...   \n",
       "1172     check for resolved conf test  dry  run  pus...   \n",
       "\n",
       "                                              no_assert  \\\n",
       "621   cluster tries get  name   checked if node was ...   \n",
       "80     fs001  fs002 viewfs is a supported scheme   t...   \n",
       "2242   the match calls a player event on it's deacti...   \n",
       "1761  date script  executor session    given insert ...   \n",
       "1172     check for resolved conf test  dry  run  pus...   \n",
       "\n",
       "                                       no_assert_equals  \\\n",
       "621   cluster tries get  name   checked if node was ...   \n",
       "80     fs001  fs002 viewfs is a supported scheme   t...   \n",
       "2242   the match calls a player event on it's deacti...   \n",
       "1761  date script  executor session    given insert ...   \n",
       "1172     check for resolved conf test  dry  run  pus...   \n",
       "\n",
       "                                                  clean  \n",
       "621   cluster tries get  name   checked if node was ...  \n",
       "80     fs001  fs002 viewfs is a supported scheme   t...  \n",
       "2242   the match calls a player event on it's deacti...  \n",
       "1761  date script  executor session    given insert ...  \n",
       "1172     check for resolved conf   dry  run  push  d...  "
      ]
     },
     "execution_count": 6,
     "metadata": {},
     "output_type": "execute_result"
    }
   ],
   "source": [
    "lda_processed_data.head()"
   ]
  },
  {
   "cell_type": "markdown",
   "metadata": {},
   "source": [
    "### This LDA implementation is avaiable at \n",
    "https://towardsdatascience.com/evaluate-topic-model-in-python-latent-dirichlet-allocation-lda-7d57484bb5d0"
   ]
  },
  {
   "cell_type": "code",
   "execution_count": 7,
   "metadata": {
    "scrolled": true
   },
   "outputs": [
    {
     "data": {
      "image/png": "[encoded data removed]",
      "text/plain": [
       "<PIL.Image.Image image mode=RGB size=400x200 at 0x17EEA507C48>"
      ]
     },
     "execution_count": 7,
     "metadata": {},
     "output_type": "execute_result"
    }
   ],
   "source": [
    "#view most frequent words\n",
    "from wordcloud import WordCloud\n",
    "long_string = ','.join(X_lda)\n",
    "word_cloud = WordCloud(background_color=\"white\",\n",
    "                       max_words=5000, contour_width=3,\n",
    "                       contour_color='steelblue')\n",
    "\n",
    "word_cloud.generate(long_string)\n",
    "word_cloud.to_image()"
   ]
  },
  {
   "cell_type": "code",
   "execution_count": 8,
   "metadata": {},
   "outputs": [
    {
     "data": {
      "image/png": "[encoded data removed]",
      "text/plain": [
       "<Figure size 504x311.496 with 1 Axes>"
      ]
     },
     "metadata": {
      "needs_background": "light"
     },
     "output_type": "display_data"
    }
   ],
   "source": [
    "from sklearn.feature_extraction.text import CountVectorizer\n",
    "import numpy as np\n",
    "import matplotlib.pyplot as plt\n",
    "import seaborn as sns\n",
    "sns.set_style('whitegrid')\n",
    "%matplotlib inline\n",
    "\n",
    "# Helper function\n",
    "def plot_10_most_common_words(count_data, count_vectorizer):\n",
    "    import matplotlib.pyplot as plt\n",
    "    words = count_vectorizer.get_feature_names()\n",
    "    total_counts = np.zeros(len(words))\n",
    "    for t in count_data:\n",
    "        total_counts+=t.toarray()[0]\n",
    "    \n",
    "    count_dict = (zip(words, total_counts))\n",
    "    count_dict = sorted(count_dict, key=lambda x:x[1], reverse=True)[0:10]\n",
    "    words = [w[0] for w in count_dict]\n",
    "    counts = [w[1] for w in count_dict]\n",
    "    x_pos = np.arange(len(words)) \n",
    "    \n",
    "    plt.figure(2, figsize=(7, 7/1.6180))\n",
    "    plt.subplot(title='10 most common words')\n",
    "    sns.set_context(\"notebook\", font_scale=1.25, rc={\"lines.linewidth\": 2.5})\n",
    "    sns.barplot(x_pos, counts, palette='husl')\n",
    "    plt.xticks(x_pos, words, rotation=90) \n",
    "    plt.xlabel('words')\n",
    "    plt.ylabel('counts')\n",
    "    plt.show()\n",
    "    \n",
    "    \n",
    "# Initialise the count vectorizer with the English stop words\n",
    "count_vectorizer = CountVectorizer(stop_words='english')\n",
    "# Fit and transform the processed titles\n",
    "count_data = count_vectorizer.fit_transform(X_lda)\n",
    "# Visualise the 10 most common words\n",
    "plot_10_most_common_words(count_data, count_vectorizer)"
   ]
  },
  {
   "cell_type": "code",
   "execution_count": 9,
   "metadata": {},
   "outputs": [
    {
     "name": "stdout",
     "output_type": "stream",
     "text": [
      "[['cluster', 'tries', 'get', 'name', 'checked', 'if', 'node', 'was', 'recommissioned', 'conf', 'all', 'datanodes', 'must', 'be', 'alive', 'num', 'namenodes', 'start', 'cluster', 'sleep', 'decommissioned', 'nodes', 'wait', 'for', 'the', 'block', 'to', 'be', 'deleted', 'true', 'times', 'before', 'recommissioned', 'get', 'client', 'num', 'datanodes', 'write', 'file', 'cleanup', 'file', 'info', 'check', 'file', 'add', 'tried', 'get', 'dfs', 'client', 'log', 'datanode', 'report', 'replicas', 'decom', 'node', 'decommission', 'one', 'node', 'verify', 'that', 'node', 'is', 'decommissioned', 'ensure', 'decommissioned', 'datanode', 'is', 'not', 'automatically', 'shutdown', 'get', 'file', 'system', 'recommission', 'get', 'name', 'node', 'thread', 'admin', 'states', 'null', 'recomission', 'node', 'file', 'sys', 'file', 'starting', 'recommission', 'namenode', 'decom', 'list', 'stop', 'decommission', 'and', 'check', 'if', 'the', 'new', 'replicas', 'are', 'removed', 'times', 'decommission', 'node', 'shutdown', 'decommissiondat', 'datanode', 'report', 'type'], ['fs', 'fs', 'viewfs', 'is', 'supported', 'scheme', 'this', 'should', 'not', 'throw', 'exception', 'get', 'error', 'code', 'true', 'bla', 'get', 'hdfsviewfs', 'ing', 'schemes', 'supported', 'hdfsxbla', 'init', 'ae', 'validate', 'path', 'destroy', 'get', 'message', 'validate', 'path', 'viewfsbla', 'hadoop', 'accessor', 'service', 'fail', 'services', 'contains', 'ex', 'filebla', 'set', 'system', 'property', 'file', 'is', 'not', 'supported', 'scheme', 'this', 'should', 'throw', 'exception'], ['the', 'match', 'calls', 'player', 'event', 'on', 'it', 'deactivation', 'get', 'match', 'event', 'count', 'create', 'stage', 'mach', 'event', 'count', 'touching', 'the', 'player', 'to', 'prevent', 'it', 'deactivation', 'add', 'player', 'get', 'client', 'time', 'unit', 'to', 'millis', 'get', 'reference', 'not', 'player', 'increment', 'time', 'millis', 'create', 'client', 'deactivation', 'int', 'value', 'match', 'clock', 'stage', 'cleanup', 'actor', 'moving', 'the', 'time', 'ahead'], ['date', 'script', 'executor', 'session', 'given', 'insert', 'simple', 'select', 'value', 'from', 'simple', 'where', 'id', 'am', 'crud', 'when', 'of', 'with', 'insert', 'strategy', 'id', 'row', 'value', 'table', 'insert', 'strategy', 'execute', 'script', 'template', 'is', 'not', 'null', 'random', 'utils', 'manager', 'one', 'get', 'string', 'next', 'long', 'that', 'execute', 'simple', 'immutable', 'map', 'then', 'long', 'build', 'date', 'key', 'is', 'equal', 'to', 'entity'], ['check', 'for', 'resolved', 'conf', 'dry', 'run', 'push', 'dependencies', 'action', 'property', 'action', 'coord', 'job', 'for', 'action', 'input', 'checkxml', 'create', 'action', 'element', 'element', 'list', 'dry', 'run', 'coord', 'print', 'stack', 'trace', 'workflow', 'populate', 'table', 'get', 'child', 'parse', 'xml', 'hcat', 'dependency', 'fail', 'coordinator', 'job', 'get', 'children', 'get', 'namespace', 'file', 'dir', 'coord', 'command', 'utils', 'job', 'add', 'record', 'to', 'coord', 'job', 'table', 'for', 'waiting', 'make', 'sure', 'conf', 'is', 'not', 'resolved', 'as', 'dependencies', 'are', 'not', 'met', 'set', 'push', 'missing', 'dependencies', 'configuration', 'coorddata', 'in', 'app', 'path', 'create', 'coordinator', 'action', 'bean', 'action', 'xml', 'coord', 'default', 'coord', 'action', 'for', 'action', 'input', 'checkxml', 'get', 'tablename', 'value', 'action', 'bean', 'table', 'xml', 'utils', 'newaction', 'xml', 'get', 'message', 'coorddata', 'out', 'local', 'get', 'value', 'make', 'the', 'dependencies', 'available', 'config', 'elem', 'file', 'dir', 'file', 'dir', 'file', 'dir', 'file', 'dir', 'get', 'push', 'missing', 'dependencies', 'get', 'coord', 'action', 'xml', 'action', 'xml', 'only', 'to', 'check', 'whether', 'coord', 'conf', 'got', 'resolved', 'or', 'not', 'db', 'get', 'fs', 'case', 'dir']]\n"
     ]
    }
   ],
   "source": [
    "import gensim\n",
    "from gensim.utils import simple_preprocess\n",
    "\n",
    "#transforms sentences to individual words\n",
    "def sent_to_words(sentences):\n",
    "    for sentence in sentences:\n",
    "        yield(gensim.utils.simple_preprocess(str(sentence), deacc=True))  # deacc=True removes punctuations\n",
    "\n",
    "data = X_lda.values.tolist()\n",
    "data_words = list(sent_to_words(data))\n",
    "\n",
    "print(data_words[:5])"
   ]
  },
  {
   "cell_type": "code",
   "execution_count": 10,
   "metadata": {},
   "outputs": [],
   "source": [
    "# Build the bigram and trigram models\n",
    "bigram = gensim.models.Phrases(data_words, min_count=5, threshold=100) # higher threshold fewer phrases.\n",
    "trigram = gensim.models.Phrases(bigram[data_words], threshold=100)\n",
    "\n",
    "# Faster way to get a sentence clubbed as a trigram/bigram\n",
    "bigram_mod = gensim.models.phrases.Phraser(bigram)\n",
    "trigram_mod = gensim.models.phrases.Phraser(trigram)"
   ]
  },
  {
   "cell_type": "code",
   "execution_count": 11,
   "metadata": {},
   "outputs": [],
   "source": [
    "#using java reserved words as stop words\n",
    "stop_words = ['abstract', 'assert', 'boolean', 'break', 'byte', 'case', 'catch', 'char', 'class', \n",
    "              'const', 'continue','default', 'double', 'do', 'else', 'enum', 'extends', 'false', \n",
    "              'final', 'finally', 'float', 'for', 'goto', 'if', 'implements', 'import', 'instanceof', \n",
    "              'int', 'interface', 'long' ,'native', 'new', 'null', 'package', 'private', 'protected', \n",
    "              'public', 'return', 'short', 'static', 'strictfp', 'super', 'switch','synchronized', \n",
    "              'this', 'throw', 'throws','transient', 'true', 'try', 'void', 'volatile','while', 'test', 'get', 'set']\n",
    "\n",
    "# Define functions for stopwords, bigrams, trigrams and lemmatization\n",
    "def remove_stopwords(texts):\n",
    "    return [[word for word in simple_preprocess(str(doc)) if word not in stop_words] for doc in texts]\n",
    "\n",
    "def make_bigrams(texts):\n",
    "    return [bigram_mod[doc] for doc in texts]\n",
    "\n",
    "def make_trigrams(texts):\n",
    "    return [trigram_mod[bigram_mod[doc]] for doc in texts]"
   ]
  },
  {
   "cell_type": "code",
   "execution_count": 12,
   "metadata": {},
   "outputs": [
    {
     "name": "stdout",
     "output_type": "stream",
     "text": [
      "[['cluster', 'tries', 'name', 'checked', 'node', 'was', 'recommissioned', 'conf', 'all', 'datanodes', 'must', 'be', 'alive', 'num', 'namenodes', 'start', 'cluster', 'sleep', 'decommissioned', 'nodes', 'wait', 'the', 'block', 'to', 'be', 'deleted', 'times', 'before', 'recommissioned', 'client', 'num', 'datanodes', 'write', 'file', 'cleanup', 'file', 'info', 'check', 'file', 'add', 'tried', 'dfs', 'client', 'log', 'datanode_report', 'replicas', 'decom', 'node', 'decommission', 'one', 'node', 'verify', 'that', 'node', 'is', 'decommissioned', 'ensure', 'decommissioned', 'datanode', 'is', 'not', 'automatically', 'shutdown', 'file', 'system', 'recommission', 'name', 'node', 'thread', 'admin', 'states', 'recomission', 'node', 'file', 'sys', 'file', 'starting', 'recommission', 'namenode', 'decom', 'list', 'stop', 'decommission', 'and', 'check', 'the', 'replicas', 'are', 'removed', 'times', 'decommission', 'node', 'shutdown', 'decommissiondat', 'datanode_report', 'type']]\n"
     ]
    }
   ],
   "source": [
    "import spacy\n",
    "# Remove Stop Words\n",
    "data_words_nostops = remove_stopwords(data_words)\n",
    "\n",
    "# Form Bigrams\n",
    "data_words_bigrams = make_bigrams(data_words_nostops)\n",
    "\n",
    "print(data_words_bigrams[:1])"
   ]
  },
  {
   "cell_type": "code",
   "execution_count": 13,
   "metadata": {},
   "outputs": [
    {
     "name": "stdout",
     "output_type": "stream",
     "text": [
      "[[(0, 1), (1, 1), (2, 1), (3, 1), (4, 1), (5, 1), (6, 1), (7, 2), (8, 1), (9, 1), (10, 2), (11, 1), (12, 1), (13, 2), (14, 2), (15, 1), (16, 1), (17, 2), (18, 2), (19, 2), (20, 3), (21, 1), (22, 3), (23, 1), (24, 1), (25, 1), (26, 6), (27, 1), (28, 2), (29, 1), (30, 1), (31, 1), (32, 2), (33, 1), (34, 1), (35, 7), (36, 1), (37, 1), (38, 2), (39, 1), (40, 1), (41, 2), (42, 2), (43, 1), (44, 2), (45, 2), (46, 1), (47, 1), (48, 1), (49, 1), (50, 1), (51, 1), (52, 1), (53, 1), (54, 2), (55, 1), (56, 2), (57, 1), (58, 1), (59, 1), (60, 1), (61, 1), (62, 1), (63, 1), (64, 1)], [(26, 1), (28, 2), (37, 2), (52, 1), (65, 1), (66, 1), (67, 1), (68, 1), (69, 1), (70, 1), (71, 1), (72, 1), (73, 2), (74, 1), (75, 1), (76, 2), (77, 1), (78, 1), (79, 1), (80, 1), (81, 1), (82, 1), (83, 2), (84, 1), (85, 2), (86, 1), (87, 1), (88, 1), (89, 2), (90, 3), (91, 2), (92, 1), (93, 1)], [(0, 1), (12, 1), (13, 2), (37, 1), (54, 3), (57, 2), (94, 1), (95, 1), (96, 1), (97, 1), (98, 2), (99, 2), (100, 3), (101, 3), (102, 1), (103, 2), (104, 1), (105, 3), (106, 2), (107, 1), (108, 1), (109, 4), (110, 1), (111, 1), (112, 2), (113, 3), (114, 1), (115, 1), (116, 1)], [(28, 2), (37, 1), (39, 1), (53, 1), (57, 1), (116, 2), (117, 1), (118, 1), (119, 1), (120, 2), (121, 1), (122, 1), (123, 2), (124, 1), (125, 1), (126, 2), (127, 3), (128, 1), (129, 1), (130, 1), (131, 1), (132, 1), (133, 1), (134, 1), (135, 1), (136, 1), (137, 1), (138, 1), (139, 2), (140, 1), (141, 2), (142, 1), (143, 1), (144, 1), (145, 1), (146, 1), (147, 1), (148, 1)], [(0, 1), (5, 1), (10, 2), (15, 3), (26, 5), (28, 1), (29, 1), (37, 3), (54, 1), (57, 2), (74, 1), (76, 1), (82, 1), (83, 1), (84, 1), (99, 2), (116, 2), (143, 3), (145, 2), (149, 11), (150, 1), (151, 1), (152, 1), (153, 2), (154, 2), (155, 1), (156, 1), (157, 1), (158, 1), (159, 1), (160, 8), (161, 2), (162, 2), (163, 1), (164, 5), (165, 1), (166, 6), (167, 2), (168, 1), (169, 2), (170, 1), (171, 1), (172, 1), (173, 2), (174, 4), (175, 1), (176, 1), (177, 1), (178, 1), (179, 1), (180, 1), (181, 1), (182, 1), (183, 1), (184, 1), (185, 1), (186, 1), (187, 1), (188, 2), (189, 1), (190, 3), (191, 2), (192, 1), (193, 1), (194, 1), (195, 1), (196, 1), (197, 6)]]\n"
     ]
    }
   ],
   "source": [
    "import gensim.corpora as corpora\n",
    "\n",
    "# Create Dictionary\n",
    "id2word = corpora.Dictionary(data_words_bigrams)\n",
    "\n",
    "# Create Corpus\n",
    "texts = data_words_bigrams\n",
    "\n",
    "# Term Document Frequency\n",
    "corpus = [id2word.doc2bow(text) for text in texts]\n",
    "\n",
    "# View\n",
    "print(corpus[:5])"
   ]
  },
  {
   "cell_type": "code",
   "execution_count": 14,
   "metadata": {},
   "outputs": [],
   "source": [
    "# Build LDA model\n",
    "lda_model = gensim.models.LdaMulticore(corpus=corpus,\n",
    "                                       id2word=id2word,\n",
    "                                       num_topics=4, \n",
    "                                       random_state=100,\n",
    "                                       chunksize=5000,\n",
    "                                       passes=10,\n",
    "                                       per_word_topics=True)"
   ]
  },
  {
   "cell_type": "code",
   "execution_count": 15,
   "metadata": {},
   "outputs": [
    {
     "name": "stdout",
     "output_type": "stream",
     "text": [
      "[(0,\n",
      "  '0.028*\"name\" + 0.024*\"job\" + 0.022*\"app\" + 0.017*\"conf\" + 0.014*\"user\" + '\n",
      "  '0.013*\"create\" + 0.013*\"property\" + 0.013*\"oozie\" + 0.012*\"value\" + '\n",
      "  '0.011*\"workflow\"'),\n",
      " (1,\n",
      "  '0.028*\"job\" + 0.028*\"id\" + 0.024*\"to\" + 0.020*\"coord\" + 0.015*\"status\" + '\n",
      "  '0.015*\"table\" + 0.013*\"action\" + 0.013*\"date\" + 0.012*\"execute\" + '\n",
      "  '0.012*\"add\"'),\n",
      " (2,\n",
      "  '0.075*\"action\" + 0.055*\"job\" + 0.038*\"coord\" + 0.022*\"wf\" + 0.021*\"to\" + '\n",
      "  '0.020*\"add\" + 0.019*\"should\" + 0.019*\"workflow\" + 0.017*\"table\" + '\n",
      "  '0.016*\"not\"'),\n",
      " (3,\n",
      "  '0.045*\"file\" + 0.022*\"the\" + 0.014*\"to\" + 0.014*\"create\" + 0.012*\"block\" + '\n",
      "  '0.011*\"system\" + 0.010*\"cluster\" + 0.010*\"data\" + 0.010*\"is\" + 0.009*\"dfs\"')]\n"
     ]
    }
   ],
   "source": [
    "from pprint import pprint\n",
    "\n",
    "# prints most relevant keywords with its weigh for each topic\n",
    "pprint(lda_model.print_topics())\n",
    "doc_lda = lda_model[corpus]"
   ]
  },
  {
   "cell_type": "code",
   "execution_count": 16,
   "metadata": {},
   "outputs": [
    {
     "name": "stdout",
     "output_type": "stream",
     "text": [
      "\n",
      "Coherence Score:  0.5233702548454152\n"
     ]
    }
   ],
   "source": [
    "from gensim.models import CoherenceModel\n",
    "\n",
    "# Compute Coherence Score (the higher the better)\n",
    "coherence_model_lda = CoherenceModel(model=lda_model, texts=data_words_bigrams, dictionary=id2word, coherence='c_v')\n",
    "coherence_lda = coherence_model_lda.get_coherence()\n",
    "print('\\nCoherence Score: ', coherence_lda)"
   ]
  },
  {
   "cell_type": "code",
   "execution_count": 17,
   "metadata": {},
   "outputs": [
    {
     "name": "stderr",
     "output_type": "stream",
     "text": [
      "c:\\users\\aian\\appdata\\local\\programs\\python\\python37\\lib\\site-packages\\pyLDAvis\\_prepare.py:257: FutureWarning: Sorting because non-concatenation axis is not aligned. A future version\n",
      "of pandas will change to not sort by default.\n",
      "\n",
      "To accept the future behavior, pass 'sort=False'.\n",
      "\n",
      "To retain the current behavior and silence the warning, pass 'sort=True'.\n",
      "\n",
      "  return pd.concat([default_term_info] + list(topic_dfs))\n"
     ]
    },
    {
     "data": {
      "text/html": [
       "\n",
       "<link rel=\"stylesheet\" type=\"text/css\" href=\"https://cdn.rawgit.com/bmabey/pyLDAvis/files/ldavis.v1.0.0.css\">\n",
       "\n",
       "\n",
       "<div id=\"ldavis_el569616445963995609104431046\"></div>\n",
       "<script type=\"text/javascript\">\n",
       "\n",
       "var ldavis_el569616445963995609104431046_data = {\"mdsDat\": {\"x\": [0.14231406243819633, 0.0472784270108354, -0.20000627934037002, 0.01041378989133844], \"y\": [0.044784172243819635, -0.15693868612085088, 0.0005776863933809321, 0.11157682748365047], \"topics\": [1, 2, 3, 4], \"cluster\": [1, 1, 1, 1], \"Freq\": [30.248441696166992, 25.546443939208984, 24.278215408325195, 19.926895141601562]}, \"tinfo\": {\"Category\": [\"Default\", \"Default\", \"Default\", \"Default\", \"Default\", \"Default\", \"Default\", \"Default\", \"Default\", \"Default\", \"Default\", \"Default\", \"Default\", \"Default\", \"Default\", \"Default\", \"Default\", \"Default\", \"Default\", \"Default\", \"Default\", \"Default\", \"Default\", \"Default\", \"Default\", \"Default\", \"Default\", \"Default\", \"Default\", \"Default\", \"Topic1\", \"Topic1\", \"Topic1\", \"Topic1\", \"Topic1\", \"Topic1\", \"Topic1\", \"Topic1\", \"Topic1\", \"Topic1\", \"Topic1\", \"Topic1\", \"Topic1\", \"Topic1\", \"Topic1\", \"Topic1\", \"Topic1\", \"Topic1\", \"Topic1\", \"Topic1\", \"Topic1\", \"Topic1\", \"Topic1\", \"Topic1\", \"Topic1\", \"Topic1\", \"Topic1\", \"Topic1\", \"Topic1\", \"Topic1\", \"Topic1\", \"Topic1\", \"Topic1\", \"Topic1\", \"Topic1\", \"Topic1\", \"Topic1\", \"Topic1\", \"Topic1\", \"Topic1\", \"Topic1\", \"Topic1\", \"Topic1\", \"Topic1\", \"Topic1\", \"Topic1\", \"Topic1\", \"Topic1\", \"Topic1\", \"Topic1\", \"Topic1\", \"Topic1\", \"Topic1\", \"Topic1\", \"Topic1\", \"Topic1\", \"Topic1\", \"Topic1\", \"Topic1\", \"Topic1\", \"Topic1\", \"Topic1\", \"Topic1\", \"Topic1\", \"Topic2\", \"Topic2\", \"Topic2\", \"Topic2\", \"Topic2\", \"Topic2\", \"Topic2\", \"Topic2\", \"Topic2\", \"Topic2\", \"Topic2\", \"Topic2\", \"Topic2\", \"Topic2\", \"Topic2\", \"Topic2\", \"Topic2\", \"Topic2\", \"Topic2\", \"Topic2\", \"Topic2\", \"Topic2\", \"Topic2\", \"Topic2\", \"Topic2\", \"Topic2\", \"Topic2\", \"Topic2\", \"Topic2\", \"Topic2\", \"Topic2\", \"Topic2\", \"Topic2\", \"Topic2\", \"Topic2\", \"Topic2\", \"Topic2\", \"Topic2\", \"Topic2\", \"Topic2\", \"Topic2\", \"Topic2\", \"Topic2\", \"Topic2\", \"Topic2\", \"Topic2\", \"Topic2\", \"Topic2\", \"Topic2\", \"Topic2\", \"Topic2\", \"Topic2\", \"Topic2\", \"Topic2\", \"Topic2\", \"Topic2\", \"Topic2\", \"Topic2\", \"Topic2\", \"Topic2\", \"Topic2\", \"Topic2\", \"Topic2\", \"Topic2\", \"Topic2\", \"Topic2\", \"Topic2\", \"Topic2\", \"Topic2\", \"Topic2\", \"Topic2\", \"Topic2\", \"Topic2\", \"Topic2\", \"Topic3\", \"Topic3\", \"Topic3\", \"Topic3\", \"Topic3\", \"Topic3\", \"Topic3\", \"Topic3\", \"Topic3\", \"Topic3\", \"Topic3\", \"Topic3\", \"Topic3\", \"Topic3\", \"Topic3\", \"Topic3\", \"Topic3\", \"Topic3\", \"Topic3\", \"Topic3\", \"Topic3\", \"Topic3\", \"Topic3\", \"Topic3\", \"Topic3\", \"Topic3\", \"Topic3\", \"Topic3\", \"Topic3\", \"Topic3\", \"Topic3\", \"Topic3\", \"Topic3\", \"Topic3\", \"Topic3\", \"Topic3\", \"Topic3\", \"Topic3\", \"Topic3\", \"Topic3\", \"Topic3\", \"Topic3\", \"Topic3\", \"Topic3\", \"Topic3\", \"Topic3\", \"Topic3\", \"Topic3\", \"Topic3\", \"Topic3\", \"Topic3\", \"Topic3\", \"Topic3\", \"Topic3\", \"Topic3\", \"Topic3\", \"Topic3\", \"Topic3\", \"Topic3\", \"Topic3\", \"Topic3\", \"Topic3\", \"Topic3\", \"Topic3\", \"Topic3\", \"Topic3\", \"Topic3\", \"Topic3\", \"Topic3\", \"Topic3\", \"Topic3\", \"Topic3\", \"Topic4\", \"Topic4\", \"Topic4\", \"Topic4\", \"Topic4\", \"Topic4\", \"Topic4\", \"Topic4\", \"Topic4\", \"Topic4\", \"Topic4\", \"Topic4\", \"Topic4\", \"Topic4\", \"Topic4\", \"Topic4\", \"Topic4\", \"Topic4\", \"Topic4\", \"Topic4\", \"Topic4\", \"Topic4\", \"Topic4\", \"Topic4\", \"Topic4\", \"Topic4\", \"Topic4\", \"Topic4\", \"Topic4\", \"Topic4\", \"Topic4\", \"Topic4\", \"Topic4\", \"Topic4\", \"Topic4\", \"Topic4\", \"Topic4\", \"Topic4\", \"Topic4\", \"Topic4\", \"Topic4\", \"Topic4\", \"Topic4\", \"Topic4\", \"Topic4\", \"Topic4\", \"Topic4\", \"Topic4\", \"Topic4\", \"Topic4\", \"Topic4\", \"Topic4\", \"Topic4\", \"Topic4\", \"Topic4\", \"Topic4\", \"Topic4\", \"Topic4\", \"Topic4\", \"Topic4\", \"Topic4\", \"Topic4\", \"Topic4\", \"Topic4\", \"Topic4\", \"Topic4\", \"Topic4\", \"Topic4\"], \"Freq\": [1200.0, 1228.0, 725.0, 767.0, 382.0, 306.0, 456.0, 196.0, 167.0, 377.0, 283.0, 222.0, 380.0, 217.0, 488.0, 315.0, 248.0, 369.0, 141.0, 144.0, 167.0, 444.0, 104.0, 133.0, 229.0, 126.0, 291.0, 200.0, 201.0, 260.0, 166.8682098388672, 42.16492462158203, 38.31757354736328, 49.167259216308594, 192.1110382080078, 23.50395393371582, 21.659732818603516, 21.641420364379883, 14.205520629882812, 14.204832077026367, 16.848939895629883, 14.185663223266602, 15.953615188598633, 13.263996124267578, 13.261666297912598, 14.141079902648926, 13.206101417541504, 12.322671890258789, 12.299054145812988, 11.400182723999023, 10.480369567871094, 10.472164154052734, 10.464557647705078, 10.449182510375977, 9.531907081604004, 9.527740478515625, 9.474160194396973, 8.609186172485352, 8.601166725158691, 8.599896430969238, 31.437963485717773, 65.38358306884766, 195.253173828125, 191.6676788330078, 974.4741821289062, 253.70053100585938, 285.551513671875, 501.28228759765625, 197.6667938232422, 721.6241455078125, 248.3546905517578, 184.98806762695312, 260.39813232421875, 217.2204132080078, 45.1285285949707, 204.2908172607422, 168.16314697265625, 135.58291625976562, 32.272377014160156, 22.07823944091797, 279.1903381347656, 110.74578094482422, 78.91249084472656, 130.1388702392578, 83.13911437988281, 89.56257629394531, 86.73265838623047, 160.67568969726562, 86.7503433227539, 110.4039535522461, 78.60604095458984, 105.81037139892578, 79.8947982788086, 94.93582153320312, 47.72049331665039, 39.253292083740234, 40.124935150146484, 23.996639251708984, 22.129106521606445, 20.274105072021484, 20.249666213989258, 26.666120529174805, 25.71346664428711, 18.329225540161133, 29.282142639160156, 20.117618560791016, 15.493768692016602, 14.563141822814941, 14.561604499816895, 22.737932205200195, 14.49082088470459, 12.632146835327148, 16.204437255859375, 16.16777229309082, 13.482902526855469, 11.677739143371582, 14.366454124450684, 10.725957870483398, 12.440580368041992, 9.76733112335205, 10.573182106018066, 8.816892623901367, 41.53050994873047, 8.7842435836792, 40.03761291503906, 38.5187873840332, 141.20396423339844, 19.923133850097656, 243.43902587890625, 48.80131149291992, 107.73431396484375, 41.31332778930664, 26.812185287475586, 37.05784225463867, 84.45723724365234, 158.81063842773438, 304.8608703613281, 73.16996765136719, 138.1474151611328, 37.014404296875, 89.70069885253906, 56.552330017089844, 49.792789459228516, 127.18712615966797, 65.25873565673828, 191.0725555419922, 83.09188842773438, 94.1811294555664, 119.61824798583984, 74.31964874267578, 73.96580505371094, 111.40948486328125, 89.20347595214844, 75.77283477783203, 146.6429901123047, 262.7305908203125, 122.41255950927734, 79.52778625488281, 92.89049530029297, 97.7579345703125, 65.14232635498047, 97.57955169677734, 114.32686614990234, 91.39227294921875, 113.06297302246094, 80.7670669555664, 92.41128540039062, 74.61906433105469, 43.15165328979492, 31.326763153076172, 24.345661163330078, 20.308456420898438, 21.27094841003418, 21.252063751220703, 22.02308464050293, 19.133752822875977, 14.29006290435791, 14.288042068481445, 32.316219329833984, 15.172223091125488, 13.229047775268555, 26.41452407836914, 14.167372703552246, 14.134493827819824, 11.298262596130371, 12.174924850463867, 12.165139198303223, 10.292085647583008, 10.28425407409668, 10.27389144897461, 10.254261016845703, 10.242208480834961, 10.23849105834961, 9.298931121826172, 9.290587425231934, 97.33087158203125, 10.217551231384277, 9.28730583190918, 24.87002182006836, 60.61656188964844, 126.41592407226562, 66.13554382324219, 35.1785774230957, 42.993751525878906, 19.840965270996094, 102.2079086303711, 14.598299980163574, 53.752384185791016, 62.5120849609375, 24.334070205688477, 33.12281036376953, 470.658447265625, 50.35941696166992, 70.36605834960938, 39.218711853027344, 228.63650512695312, 62.670108795166016, 28.343992233276367, 88.58067321777344, 77.81351470947266, 100.62419128417969, 113.09016418457031, 68.73587036132812, 61.16254425048828, 61.62493133544922, 141.5903778076172, 44.900787353515625, 73.468505859375, 41.08890914916992, 151.41769409179688, 100.24004364013672, 65.75592041015625, 73.12147521972656, 65.29415893554688, 51.982147216796875, 68.04993438720703, 70.43720245361328, 74.3319091796875, 75.75757598876953, 69.85132598876953, 26.73313331604004, 24.174556732177734, 39.851253509521484, 19.913782119750977, 19.896915435791016, 18.173721313476562, 18.1664981842041, 17.33977508544922, 18.1552734375, 17.298906326293945, 14.790759086608887, 15.601205825805664, 15.584611892700195, 13.920351028442383, 13.90446662902832, 13.052776336669922, 12.222847938537598, 11.349092483520508, 12.959856986999512, 18.577152252197266, 12.116515159606934, 9.635201454162598, 9.602578163146973, 8.777230262756348, 8.769986152648926, 14.347003936767578, 28.698244094848633, 7.924117565155029, 7.920331954956055, 7.900936126708984, 23.353364944458008, 25.898195266723633, 34.9403190612793, 35.637325286865234, 36.88042449951172, 103.84326171875, 45.67990493774414, 41.209712982177734, 240.81153869628906, 47.651084899902344, 38.26076889038086, 28.584789276123047, 111.59131622314453, 130.81573486328125, 58.564334869384766, 63.694000244140625, 99.95211029052734, 102.4430160522461, 205.30526733398438, 61.88814926147461, 129.2667236328125, 175.3511199951172, 241.40829467773438, 83.37748718261719, 100.9336929321289, 60.99217987060547, 51.03920364379883, 68.50931549072266, 49.29724884033203, 103.0515365600586, 95.71060943603516, 81.10934448242188, 66.81048583984375, 111.71086120605469, 63.267513275146484, 66.82498168945312, 48.059173583984375, 46.52793884277344], \"Term\": [\"action\", \"job\", \"coord\", \"file\", \"wf\", \"app\", \"id\", \"been\", \"purged\", \"workflow\", \"record\", \"cmd\", \"table\", \"have\", \"name\", \"should\", \"bundle\", \"the\", \"block\", \"execute\", \"property\", \"add\", \"dfs\", \"url\", \"user\", \"cluster\", \"coordinator\", \"oozie\", \"date\", \"status\", \"purged\", \"libs\", \"quota\", \"subwf\", \"been\", \"cat_dependency\", \"nqdir_qdir\", \"dependencies\", \"nqdir\", \"qdir_nqdir\", \"missing_dependencies\", \"snapshot\", \"argument\", \"composite\", \"push_missing\", \"space_quota\", \"year_month\", \"function\", \"hadoopcounters\", \"queue_uniqueness\", \"dt_countryus\", \"yes\", \"checkxml\", \"pipes\", \"diff_key\", \"days\", \"archives\", \"invoke_fork\", \"mater\", \"wfconf\", \"non\", \"child\", \"have\", \"cmd\", \"action\", \"should\", \"wf\", \"coord\", \"record\", \"job\", \"workflow\", \"coordinator\", \"add\", \"table\", \"reduce\", \"not\", \"time\", \"bundle\", \"deleted\", \"dependency\", \"to\", \"xml\", \"check\", \"dir\", \"fail\", \"services\", \"in\", \"file\", \"path\", \"create\", \"node\", \"id\", \"with\", \"conf\", \"security_enabled\", \"conn\", \"workflowxml\", \"mock_dag\", \"frequency_coorddays\", \"request_method\", \"timezone_utc\", \"points\", \"servlet_classes\", \"consumer\", \"template\", \"frequency\", \"locala\", \"sg_qaaad\", \"eaaaa_kbaaaap\", \"http_servlet\", \"parameter\", \"xmlns\", \"coordinatorxml\", \"params\", \"wc\", \"coordcurrent\", \"oozielog\", \"year_day\", \"unit_ing\", \"example_forkjoinwf\", \"auth_token\", \"execution_lifo\", \"reader\", \"oozieservice_proxy\", \"engine\", \"java\", \"property\", \"factory\", \"app\", \"dataset\", \"url\", \"proxy\", \"debug\", \"jms\", \"context\", \"user\", \"name\", \"configuration\", \"oozie\", \"session\", \"message\", \"group\", \"submit\", \"value\", \"connection\", \"conf\", \"info\", \"run\", \"path\", \"input\", \"type\", \"xml\", \"end\", \"instance\", \"create\", \"job\", \"workflow\", \"client\", \"start\", \"is\", \"call\", \"id\", \"file\", \"wf\", \"action\", \"dir\", \"to\", \"in\", \"headers\", \"play\", \"scanner\", \"family\", \"body\", \"rack\", \"replicas\", \"locations\", \"scan\", \"ping\", \"column\", \"flush\", \"cached\", \"lease\", \"enqueue\", \"actor\", \"peer\", \"http\", \"owner\", \"accept_frame\", \"articles\", \"fails\", \"working\", \"replication_factor\", \"location\", \"syn\", \"window\", \"dfs\", \"racks\", \"what_was\", \"replication\", \"bytes\", \"block\", \"shutdown\", \"we\", \"permission\", \"stage\", \"cluster\", \"replica\", \"read\", \"row\", \"rows\", \"datanode\", \"file\", \"verify\", \"nodes\", \"header\", \"the\", \"build\", \"util\", \"write\", \"close\", \"data\", \"system\", \"size\", \"that\", \"stream\", \"create\", \"count\", \"and\", \"request\", \"to\", \"is\", \"of\", \"node\", \"client\", \"num\", \"fs\", \"dir\", \"conf\", \"name\", \"add\", \"transit\", \"select\", \"where\", \"script_template\", \"bulk\", \"months\", \"current_dateafter\", \"session_given\", \"incrementing\", \"plus_month\", \"correct\", \"consistency\", \"eq\", \"entity\", \"dsl\", \"simple_immutable\", \"task_attempt\", \"crud\", \"killed\", \"master\", \"trx\", \"uuid\", \"restart\", \"updates\", \"suspended\", \"nn\", \"attempt\", \"updated\", \"consistencylist\", \"delegation_token\", \"runnable\", \"meta\", \"then\", \"sla\", \"manager\", \"execute\", \"state\", \"simple\", \"id\", \"update\", \"rerun\", \"random\", \"date\", \"status\", \"jpa\", \"from\", \"service\", \"bundle\", \"to\", \"wait\", \"table\", \"coord\", \"job\", \"start\", \"is\", \"list\", \"event\", \"utils\", \"map\", \"add\", \"not\", \"record\", \"services\", \"action\", \"coordinator\", \"the\", \"of\", \"with\"], \"Total\": [1200.0, 1228.0, 725.0, 767.0, 382.0, 306.0, 456.0, 196.0, 167.0, 377.0, 283.0, 222.0, 380.0, 217.0, 488.0, 315.0, 248.0, 369.0, 141.0, 144.0, 167.0, 444.0, 104.0, 133.0, 229.0, 126.0, 291.0, 200.0, 201.0, 260.0, 167.73397827148438, 42.870121002197266, 39.140960693359375, 50.33499526977539, 196.74853515625, 24.23110580444336, 22.36894989013672, 22.368732452392578, 14.914094924926758, 14.914045333862305, 17.712013244628906, 14.914713859558105, 16.785537719726562, 13.98263931274414, 13.982474327087402, 14.914292335510254, 13.981369972229004, 13.049521446228027, 13.050727844238281, 12.11897087097168, 11.186708450317383, 11.186976432800293, 11.186241149902344, 11.18734359741211, 10.25536060333252, 10.2547607421875, 10.25564193725586, 9.323125839233398, 9.323158264160156, 9.322351455688477, 34.30154037475586, 71.9546127319336, 217.83433532714844, 222.27288818359375, 1200.00634765625, 315.02362060546875, 382.15570068359375, 725.1925659179688, 283.9228820800781, 1228.0830078125, 377.20599365234375, 291.038818359375, 444.842529296875, 380.66937255859375, 61.260440826416016, 399.447021484375, 317.9604187011719, 248.67434692382812, 41.611839294433594, 26.22669792175293, 728.3245849609375, 240.25013732910156, 152.95852661132812, 315.515625, 181.83355712890625, 223.30392456054688, 236.46742248535156, 767.3706665039062, 250.24244689941406, 428.9758605957031, 205.6690216064453, 456.99615478515625, 215.75930786132812, 388.88995361328125, 48.69287872314453, 40.09897994995117, 41.04694747924805, 24.81232261657715, 22.907695770263672, 20.997783660888672, 20.997716903686523, 27.67611312866211, 26.72197723388672, 19.083240509033203, 30.504663467407227, 20.993759155273438, 16.2213077545166, 15.26671314239502, 15.266555786132812, 23.88198471069336, 15.260858535766602, 13.355052947998047, 17.172441482543945, 17.150541305541992, 14.313387870788574, 12.400639533996582, 15.275822639465332, 11.444914817810059, 13.360648155212402, 10.490020751953125, 11.431890487670898, 9.534306526184082, 44.94792556762695, 9.532862663269043, 43.614078521728516, 41.98920440673828, 167.75962829589844, 21.989727020263672, 306.3017883300781, 56.59596252441406, 133.98446655273438, 48.028831481933594, 30.28963851928711, 43.77202224731445, 110.55835723876953, 229.7013397216797, 488.61480712890625, 96.29251098632812, 200.17774963378906, 44.15582275390625, 122.59487915039062, 72.05427551269531, 65.18931579589844, 212.1025390625, 94.52792358398438, 388.88995361328125, 138.52481079101562, 172.92874145507812, 250.24244689941406, 129.1647491455078, 128.97183227539062, 240.25013732910156, 179.31350708007812, 138.1640167236328, 428.9758605957031, 1228.0830078125, 377.20599365234375, 166.37258911132812, 242.2957305908203, 338.50762939453125, 138.87518310546875, 456.99615478515625, 767.3706665039062, 382.15570068359375, 1200.00634765625, 315.515625, 728.3245849609375, 236.46742248535156, 44.17341613769531, 32.12881851196289, 25.08522605895996, 21.060039520263672, 22.063791275024414, 22.06129264831543, 23.029237747192383, 20.03335189819336, 15.022058486938477, 15.02328109741211, 33.98535919189453, 16.00958251953125, 14.010683059692383, 27.9783935546875, 15.017298698425293, 15.016297340393066, 12.00619125366211, 12.99411392211914, 12.994505882263184, 10.999527931213379, 10.998265266418457, 10.997908592224121, 10.994516372680664, 10.992470741271973, 10.991181373596191, 9.994365692138672, 9.992886543273926, 104.69251251220703, 10.99095344543457, 9.993206977844238, 26.913944244384766, 66.85786437988281, 141.8343048095703, 74.32831573486328, 38.81673049926758, 47.81560516357422, 21.95566749572754, 126.03456115722656, 15.927217483520508, 63.96217727661133, 77.056884765625, 27.660232543945312, 39.27192687988281, 767.3706665039062, 63.026023864746094, 92.39446258544922, 47.8129768371582, 369.88623046875, 91.31904602050781, 35.147300720214844, 152.05569458007812, 131.90805053710938, 220.4464569091797, 261.5480041503906, 130.4568634033203, 112.2686767578125, 114.84718322753906, 428.9758605957031, 70.82316589355469, 161.8757781982422, 62.5869140625, 728.3245849609375, 338.50762939453125, 153.92916870117188, 205.6690216064453, 166.37258911132812, 99.339111328125, 205.58804321289062, 315.515625, 388.88995361328125, 488.61480712890625, 444.842529296875, 27.54962158203125, 24.975547790527344, 41.38106155395508, 20.680612564086914, 20.682462692260742, 18.96491241455078, 18.96562957763672, 18.105728149414062, 18.966617584228516, 18.10809898376465, 15.528011322021484, 16.39350700378418, 16.393699645996094, 14.671418190002441, 14.67329216003418, 13.814312934875488, 12.952512741088867, 12.096282005310059, 13.822845458984375, 19.87221908569336, 12.963136672973633, 10.378969192504883, 10.382678985595703, 9.520989418029785, 9.521075248718262, 15.577608108520508, 31.20671272277832, 8.662409782409668, 8.663475036621094, 8.663956642150879, 25.97545623779297, 29.545202255249023, 41.062843322753906, 43.72794723510742, 45.90419387817383, 144.0707244873047, 58.87482833862305, 54.892887115478516, 456.99615478515625, 66.4666519165039, 51.06156921386719, 36.14602279663086, 201.3603973388672, 260.20587158203125, 99.37629699707031, 119.05426025390625, 237.37112426757812, 248.67434692382812, 728.3245849609375, 123.16299438476562, 380.66937255859375, 725.1925659179688, 1228.0830078125, 242.2957305908203, 338.50762939453125, 146.31153869628906, 108.09544372558594, 190.84710693359375, 102.45408630371094, 444.842529296875, 399.447021484375, 283.9228820800781, 223.30392456054688, 1200.00634765625, 291.038818359375, 369.88623046875, 153.92916870117188, 215.75930786132812], \"loglift\": [30.0, 29.0, 28.0, 27.0, 26.0, 25.0, 24.0, 23.0, 22.0, 21.0, 20.0, 19.0, 18.0, 17.0, 16.0, 15.0, 14.0, 13.0, 12.0, 11.0, 10.0, 9.0, 8.0, 7.0, 6.0, 5.0, 4.0, 3.0, 2.0, 1.0, 1.190600037574768, 1.1791000366210938, 1.1744999885559082, 1.1722999811172485, 1.1719000339508057, 1.1653000116348267, 1.1634999513626099, 1.1627000570297241, 1.1469999551773071, 1.1469999551773071, 1.145799994468689, 1.1455999612808228, 1.1448999643325806, 1.1430000066757202, 1.142799973487854, 1.1425000429153442, 1.138700008392334, 1.1383999586105347, 1.1363999843597412, 1.134600043296814, 1.1304999589920044, 1.129699945449829, 1.128999948501587, 1.127500057220459, 1.1225999593734741, 1.1222000122070312, 1.1165000200271606, 1.1160999536514282, 1.1151000261306763, 1.1151000261306763, 1.1086000204086304, 1.100000023841858, 1.086300015449524, 1.0476000308990479, 0.987500011920929, 0.979200005531311, 0.9042999744415283, 0.8264999985694885, 0.8335999846458435, 0.6639999747276306, 0.7778000235557556, 0.7426000237464905, 0.6601999998092651, 0.6347000002861023, 0.8901000022888184, 0.5252000093460083, 0.5587000250816345, 0.5892000198364258, 0.9416000247001648, 1.0234999656677246, 0.23690000176429749, 0.4212999939918518, 0.5339000225067139, 0.3100999891757965, 0.413100004196167, 0.28209999203681946, 0.19269999861717224, -0.367900013923645, 0.1362999975681305, -0.1615000069141388, 0.23389999568462372, -0.267300009727478, 0.20229999721050262, -0.21439999341964722, 1.344499945640564, 1.343400001525879, 1.3420000076293945, 1.3312000036239624, 1.3301000595092773, 1.3295999765396118, 1.3284000158309937, 1.3274999856948853, 1.326200008392334, 1.3243999481201172, 1.323799967765808, 1.3220000267028809, 1.3187999725341797, 1.3174999952316284, 1.3173999786376953, 1.315600037574768, 1.3128999471664429, 1.309000015258789, 1.3066999912261963, 1.3056999444961548, 1.304900050163269, 1.3046000003814697, 1.3033000230789185, 1.2998000383377075, 1.2933000326156616, 1.2933000326156616, 1.2865999937057495, 1.2863999605178833, 1.285599946975708, 1.2828999757766724, 1.279099941253662, 1.27839994430542, 1.1922999620437622, 1.2660000324249268, 1.1349999904632568, 1.2165000438690186, 1.1466000080108643, 1.2141000032424927, 1.2426999807357788, 1.198199987411499, 1.0953999757766724, 0.9955999851226807, 0.8930000066757202, 1.0901000499725342, 0.9937999844551086, 1.1883000135421753, 1.052299976348877, 1.1224000453948975, 1.0951999425888062, 0.8532999753952026, 0.9940999746322632, 0.6539999842643738, 0.853600025177002, 0.7570000290870667, 0.6265000104904175, 0.8119999766349792, 0.8087000250816345, 0.5961999893188477, 0.6664999723434448, 0.7639999985694885, 0.2912999987602234, -0.17739999294281006, 0.23929999768733978, 0.6265000104904175, 0.4059000015258789, 0.1225999966263771, 0.607699990272522, -0.179299995303154, -0.5392000079154968, -0.06599999964237213, -0.9975000023841858, 0.0020000000949949026, -0.6998000144958496, 0.21130000054836273, 1.392199993133545, 1.3903000354766846, 1.385699987411499, 1.3792999982833862, 1.378999948501587, 1.3782000541687012, 1.37090003490448, 1.3696000576019287, 1.3655999898910522, 1.365399956703186, 1.3652000427246094, 1.361899971961975, 1.358199954032898, 1.3581000566482544, 1.357300043106079, 1.3551000356674194, 1.3547999858856201, 1.3504999876022339, 1.3495999574661255, 1.3490999937057495, 1.3485000133514404, 1.347499966621399, 1.345900058746338, 1.3449000120162964, 1.3446999788284302, 1.343500018119812, 1.3427000045776367, 1.3427000045776367, 1.3425999879837036, 1.3423000574111938, 1.3365999460220337, 1.3176000118255615, 1.3005000352859497, 1.298799991607666, 1.317199945449829, 1.3092999458312988, 1.3142999410629272, 1.2059999704360962, 1.3285000324249268, 1.2417000532150269, 1.2064000368118286, 1.287500023841858, 1.245300054550171, 0.926800012588501, 1.1912000179290771, 1.1432000398635864, 1.2173999547958374, 0.934499979019165, 1.0391000509262085, 1.2005000114440918, 0.8752999901771545, 0.8877999782562256, 0.6312999725341797, 0.5771999955177307, 0.7748000025749207, 0.8082000017166138, 0.7930999994277954, 0.30709999799728394, 0.9599000215530396, 0.6255999803543091, 0.9947999715805054, -0.1551000028848648, 0.19859999418258667, 0.5649999976158142, 0.3813999891281128, 0.48030000925064087, 0.7680000066757202, 0.3100000023841858, -0.08389999717473984, -0.23919999599456787, -0.44839999079704285, -0.4357999861240387, 1.5829999446868896, 1.5805000066757202, 1.5753999948501587, 1.5752999782562256, 1.5743999481201172, 1.5705000162124634, 1.570099949836731, 1.5699000358581543, 1.5693999528884888, 1.5673999786376953, 1.5644999742507935, 1.563599944114685, 1.5625, 1.5606000423431396, 1.5592999458312988, 1.556399941444397, 1.5550999641418457, 1.549299955368042, 1.5485999584197998, 1.545699954032898, 1.5456000566482544, 1.538699984550476, 1.534999966621399, 1.5318000316619873, 1.530900001525879, 1.5307999849319458, 1.5292999744415283, 1.5240000486373901, 1.5233999490737915, 1.520900011062622, 1.506700038909912, 1.4814000129699707, 1.4515999555587769, 1.4084999561309814, 1.3941999673843384, 1.2856999635696411, 1.3593000173568726, 1.3264000415802002, 0.9724000096321106, 1.2803000211715698, 1.3244999647140503, 1.3783999681472778, 1.0227999687194824, 0.9254000186920166, 1.0843000411987305, 0.9876000285148621, 0.748199999332428, 0.7263000011444092, 0.34689998626708984, 0.9248999953269958, 0.5329999923706055, 0.19349999725818634, -0.01360000018030405, 0.5462999939918518, 0.40299999713897705, 0.738099992275238, 0.8626999855041504, 0.5885999798774719, 0.881600022315979, 0.15060000121593475, 0.1843000054359436, 0.3601999878883362, 0.40639999508857727, -0.7610999941825867, 0.08699999749660492, -0.09799999743700027, 0.4490000009536743, 0.07900000363588333], \"logprob\": [30.0, 29.0, 28.0, 27.0, 26.0, 25.0, 24.0, 23.0, 22.0, 21.0, 20.0, 19.0, 18.0, 17.0, 16.0, 15.0, 14.0, 13.0, 12.0, 11.0, 10.0, 9.0, 8.0, 7.0, 6.0, 5.0, 4.0, 3.0, 2.0, 1.0, -4.359600067138672, -5.735199928283691, -5.830900192260742, -5.581600189208984, -4.218699932098389, -6.3196001052856445, -6.401400089263916, -6.402200222015381, -6.823200225830078, -6.823200225830078, -6.652500152587891, -6.8246002197265625, -6.707099914550781, -6.8917999267578125, -6.891900062561035, -6.827700138092041, -6.896100044250488, -6.965400218963623, -6.967299938201904, -7.0432000160217285, -7.127299785614014, -7.1280999183654785, -7.128799915313721, -7.130300045013428, -7.2221999168396, -7.222599983215332, -7.2281999588012695, -7.323999881744385, -7.324900150299072, -7.325099945068359, -6.028800010681152, -5.296500205993652, -4.202499866485596, -4.2210001945495605, -2.594899892807007, -3.940700054168701, -3.8224000930786133, -3.2595999240875244, -4.190199851989746, -2.8952999114990234, -3.961899995803833, -4.256499767303467, -3.914599895477295, -4.095900058746338, -5.667300224304199, -4.157299995422363, -4.351900100708008, -4.567200183868408, -6.002600193023682, -6.382199764251709, -3.844899892807007, -4.769599914550781, -5.108500003814697, -4.6082000732421875, -5.056300163269043, -4.981900215148926, -5.013999938964844, -4.39739990234375, -5.013800144195557, -4.77269983291626, -5.112400054931641, -4.815199851989746, -5.096099853515625, -4.923600196838379, -5.442500114440918, -5.637800216674805, -5.615900039672852, -6.129899978637695, -6.210999965667725, -6.298500061035156, -6.299699783325195, -6.024499893188477, -6.060800075531006, -6.399400234222412, -5.9309000968933105, -6.306300163269043, -6.567399978637695, -6.62939977645874, -6.629499912261963, -6.183800220489502, -6.634300231933594, -6.771599769592285, -6.522600173950195, -6.524799823760986, -6.706399917602539, -6.850200176239014, -6.64300012588501, -6.935200214385986, -6.786900043487549, -7.028800010681152, -6.94950008392334, -7.131199836730957, -5.581399917602539, -7.134900093078613, -5.618000030517578, -5.656700134277344, -4.357699871063232, -6.315999984741211, -3.812999963760376, -5.420100212097168, -4.628200054168701, -5.586699962615967, -6.019000053405762, -5.695400238037109, -4.871600151062012, -4.240099906921387, -3.5880000591278076, -5.015100002288818, -4.379499912261963, -5.696599960327148, -4.811399936676025, -5.27269983291626, -5.400000095367432, -4.462200164794922, -5.129499912261963, -4.055200099945068, -4.887899875640869, -4.762599945068359, -4.523600101470947, -4.999499797821045, -5.004300117492676, -4.594600200653076, -4.81689977645874, -4.980100154876709, -4.319900035858154, -3.7367000579833984, -4.500500202178955, -4.93179988861084, -4.776400089263916, -4.725399971008301, -5.13129997253418, -4.727200031280518, -4.56879997253418, -4.792699813842773, -4.579899787902832, -4.916299819946289, -4.781599998474121, -4.995500087738037, -5.492199897766113, -5.8125, -6.064599990844727, -6.2459001541137695, -6.1996002197265625, -6.200500011444092, -6.16480016708374, -6.305500030517578, -6.597400188446045, -6.597499847412109, -5.781400203704834, -6.537499904632568, -6.674499988555908, -5.982999801635742, -6.605999946594238, -6.60830020904541, -6.832300186157227, -6.757599830627441, -6.758399963378906, -6.925600051879883, -6.926300048828125, -6.927299976348877, -6.929200172424316, -6.9303998947143555, -6.930799961090088, -7.0269999504089355, -7.027900218963623, -4.678800106048584, -6.932799816131592, -7.028299808502197, -6.043300151824951, -5.152400016784668, -4.417399883270264, -5.065199851989746, -5.696499824523926, -5.4959001541137695, -6.269199848175049, -4.629899978637695, -6.576000213623047, -5.272600173950195, -5.121600151062012, -6.065100193023682, -5.756700038909912, -3.102799892425537, -5.337800025939941, -5.003200054168701, -5.587800025939941, -3.8248000144958496, -5.119100093841553, -5.912499904632568, -4.7729997634887695, -4.902599811553955, -4.645500183105469, -4.528800010681152, -5.026700019836426, -5.143400192260742, -5.135900020599365, -4.303999900817871, -5.452499866485596, -4.960100173950195, -5.541200160980225, -4.2368998527526855, -4.649400234222412, -5.071000099182129, -4.964799880981445, -5.078000068664551, -5.306000232696533, -5.0366997718811035, -5.002200126647949, -4.948400020599365, -4.9293999671936035, -5.0106000900268555, -5.773499965667725, -5.874100208282471, -5.374300003051758, -6.067999839782715, -6.068900108337402, -6.1595001220703125, -6.159900188446045, -6.206399917602539, -6.1605000495910645, -6.208799839019775, -6.3653998374938965, -6.312099933624268, -6.3130998611450195, -6.42609977722168, -6.427199840545654, -6.4903998374938965, -6.556099891662598, -6.630300045013428, -6.497600078582764, -6.137499809265137, -6.564899921417236, -6.794000148773193, -6.797399997711182, -6.88730001449585, -6.8881001472473145, -6.395899772644043, -5.702600002288818, -6.989500045776367, -6.989999771118164, -6.992400169372559, -5.908699989318848, -5.805300235748291, -5.505799770355225, -5.486000061035156, -5.451700210571289, -4.416500091552734, -5.237800121307373, -5.340799808502197, -3.5754001140594482, -5.195499897003174, -5.414999961853027, -5.706600189208984, -4.344600200653076, -4.1855998039245605, -4.989299774169922, -4.905300140380859, -4.454699993133545, -4.430099964141846, -3.7348999977111816, -4.934100151062012, -4.1975998878479, -3.8926000595092773, -3.5729000568389893, -4.636099815368652, -4.445000171661377, -4.948699951171875, -5.126800060272217, -4.832499980926514, -5.161600112915039, -4.424200057983398, -4.4980998039245605, -4.663599967956543, -4.857600212097168, -4.343500137329102, -4.912099838256836, -4.857399940490723, -5.186999797821045, -5.219399929046631]}, \"token.table\": {\"Topic\": [3, 1, 2, 3, 4, 3, 1, 2, 3, 4, 1, 2, 3, 4, 1, 2, 3, 4, 1, 1, 3, 2, 3, 4, 2, 1, 3, 4, 1, 2, 3, 4, 3, 1, 2, 3, 4, 4, 1, 2, 4, 1, 2, 3, 4, 3, 1, 2, 3, 4, 1, 1, 2, 3, 4, 1, 1, 2, 3, 4, 1, 2, 3, 4, 1, 2, 3, 4, 1, 2, 3, 4, 1, 2, 3, 4, 3, 4, 1, 1, 2, 3, 4, 1, 2, 3, 4, 2, 1, 2, 3, 4, 4, 4, 2, 1, 2, 3, 4, 1, 2, 3, 4, 2, 1, 2, 4, 2, 4, 1, 2, 3, 4, 1, 2, 3, 4, 4, 4, 1, 2, 3, 4, 3, 4, 1, 2, 3, 1, 2, 3, 4, 1, 2, 3, 4, 4, 1, 3, 1, 1, 2, 3, 1, 3, 4, 1, 1, 2, 3, 4, 4, 1, 2, 1, 2, 3, 4, 2, 4, 3, 4, 4, 2, 3, 4, 2, 1, 2, 3, 4, 2, 2, 3, 1, 2, 3, 4, 3, 3, 1, 2, 3, 4, 3, 2, 2, 1, 2, 3, 4, 1, 2, 3, 4, 1, 1, 2, 3, 4, 1, 1, 2, 3, 4, 2, 3, 3, 3, 2, 3, 1, 2, 3, 4, 1, 2, 3, 4, 4, 1, 2, 3, 4, 1, 2, 3, 4, 1, 2, 3, 4, 1, 1, 2, 3, 4, 1, 2, 3, 1, 2, 1, 2, 3, 4, 1, 2, 4, 4, 3, 4, 1, 1, 2, 3, 4, 2, 3, 3, 2, 3, 4, 1, 2, 3, 4, 2, 4, 1, 1, 2, 3, 4, 1, 2, 4, 1, 2, 4, 1, 2, 3, 4, 4, 1, 2, 3, 4, 1, 2, 3, 4, 1, 4, 1, 2, 3, 4, 1, 1, 1, 3, 4, 1, 2, 3, 4, 1, 2, 3, 4, 2, 2, 3, 2, 2, 1, 2, 3, 4, 3, 1, 2, 3, 4, 3, 1, 3, 4, 2, 1, 2, 3, 4, 2, 4, 1, 1, 1, 1, 1, 3, 3, 2, 3, 4, 1, 2, 3, 4, 1, 2, 3, 1, 2, 4, 1, 2, 3, 4, 3, 4, 3, 1, 3, 4, 3, 2, 3, 4, 2, 1, 2, 4, 4, 3, 4, 3, 4, 1, 2, 3, 4, 1, 4, 3, 3, 4, 2, 4, 1, 2, 3, 4, 1, 2, 4, 2, 2, 4, 4, 2, 1, 2, 3, 4, 1, 3, 4, 1, 3, 4, 4, 1, 2, 3, 4, 1, 2, 4, 1, 1, 2, 3, 4, 1, 2, 3, 4, 1, 2, 3, 4, 1, 2, 3, 4, 2, 3, 1, 2, 4, 1, 2, 4, 3, 1, 2, 3, 4, 1, 2, 3, 4, 4, 2, 4, 1, 2, 3, 4, 1, 2, 3, 4, 1, 2, 3, 4, 1, 2, 3, 4, 2, 1, 2, 3, 4, 4, 4, 1, 2, 3, 4, 2, 1, 3, 4, 4, 4, 2, 3, 4, 1, 2, 3, 4, 1, 3, 4, 1, 2, 3, 4, 4, 1, 2, 3, 4, 1, 2, 3, 4, 1, 2, 3, 4, 2, 1, 3, 4, 1, 2, 3, 4, 1, 3, 3, 4, 3, 1, 2, 3, 4, 1, 2, 3, 4, 2, 3, 1, 2, 3, 4, 1, 2, 3, 4, 2, 2, 1, 1], \"Freq\": [0.9091299176216125, 0.8116623759269714, 0.09416616708040237, 0.0008333289297297597, 0.09333284199237823, 0.9323203563690186, 0.5844764709472656, 0.026975838467478752, 0.1573590487241745, 0.23154260218143463, 0.1667945683002472, 0.23474790155887604, 0.4509630799293518, 0.1420842558145523, 0.13711966574192047, 0.7933352589607239, 0.0032647540792822838, 0.06529507786035538, 0.8775657415390015, 0.9532015323638916, 0.9092342853546143, 0.032044388353824615, 0.032044388353824615, 0.9292872548103333, 0.9622205495834351, 0.9758649468421936, 0.015247889794409275, 0.0050826300866901875, 0.0352524034678936, 0.00705048069357872, 0.8883605599403381, 0.0705048069357872, 0.9517856240272522, 0.021901236847043037, 0.043802473694086075, 0.6898889541625977, 0.2518642246723175, 0.967002809047699, 0.5468999743461609, 0.04021323472261429, 0.41017499566078186, 0.059828415513038635, 0.014957103878259659, 0.9123833179473877, 0.014957103878259659, 0.9278634190559387, 0.3600355386734009, 0.4680461883544922, 0.02160213142633438, 0.15121492743492126, 0.9904624223709106, 0.5164798498153687, 0.18959388136863708, 0.20920704305171967, 0.08499035984277725, 0.8939553499221802, 0.9033472537994385, 0.04169294983148575, 0.04169294983148575, 0.013897649943828583, 0.012021210975944996, 0.48084843158721924, 0.39068934321403503, 0.11420150101184845, 0.10613454133272171, 0.18952596187591553, 0.5913209915161133, 0.10613454133272171, 0.023802995681762695, 0.007934331893920898, 0.8093017935752869, 0.16662096977233887, 0.8638030290603638, 0.004498974420130253, 0.008997948840260506, 0.12597127258777618, 0.9415819048881531, 0.029424434527754784, 0.9297243356704712, 0.24428504705429077, 0.49114149808883667, 0.19028519093990326, 0.07457122206687927, 0.12462028115987778, 0.7581067085266113, 0.08308018743991852, 0.031155070289969444, 0.9725933074951172, 0.010578884743154049, 0.6876274943351746, 0.2644721269607544, 0.03173665329813957, 0.975996196269989, 0.9234169721603394, 0.9432360529899597, 0.13567495346069336, 0.7597797513008118, 0.01808999292552471, 0.07235997170209885, 0.6908509731292725, 0.0648103728890419, 0.002757888287305832, 0.24131521582603455, 0.9676920175552368, 0.6356540322303772, 0.14431065320968628, 0.21646596491336823, 0.9317253828048706, 0.9659962058067322, 0.08471804112195969, 0.15531641244888306, 0.6353853344917297, 0.12707705795764923, 0.2564246952533722, 0.34267663955688477, 0.33102095127105713, 0.06993400305509567, 0.9093703627586365, 0.9490852952003479, 0.08165247738361359, 0.2631024420261383, 0.4581611454486847, 0.1950587034225464, 0.8402948975563049, 0.127317413687706, 0.035338208079338074, 0.8657861351966858, 0.10601463168859482, 0.26320964097976685, 0.14402037858963013, 0.039729759097099304, 0.5562165975570679, 0.975156843662262, 0.8913939595222473, 0.03301459178328514, 0.09904377162456512, 0.9233656525611877, 0.769011914730072, 0.2162846028804779, 0.983515739440918, 0.8388398885726929, 0.11438725888729095, 0.038129083812236786, 0.019103562459349632, 0.9265227913856506, 0.038207124918699265, 0.9750998020172119, 0.41202396154403687, 0.256722629070282, 0.22185905277729034, 0.10776011645793915, 0.9541144371032715, 0.893917977809906, 0.9825398921966553, 0.27326440811157227, 0.4963374137878418, 0.027884123846888542, 0.2007656842470169, 0.9171350598335266, 0.06878513097763062, 0.9322581887245178, 0.9542363286018372, 0.9759846925735474, 0.49030745029449463, 0.03700433671474457, 0.47180527448654175, 0.9532869458198547, 0.25681832432746887, 0.0069410353899002075, 0.013882070779800415, 0.7218676805496216, 0.9439595937728882, 0.9095156192779541, 0.045475780963897705, 0.4564613997936249, 0.3409711718559265, 0.09349209070205688, 0.10999070107936859, 0.9092637896537781, 0.9496658444404602, 0.20980733633041382, 0.14855924248695374, 0.6137841939926147, 0.02866932563483715, 0.9369388818740845, 0.9526640772819519, 0.960375964641571, 0.025198593735694885, 0.08399531245231628, 0.3527803122997284, 0.5375699996948242, 0.29184576869010925, 0.25779709219932556, 0.33075854182243347, 0.11673830449581146, 0.919573962688446, 0.02775685302913189, 0.7910703420639038, 0.16654112935066223, 0.013878426514565945, 0.9194889664649963, 0.8951756954193115, 0.018362578004598618, 0.06426902115345001, 0.022953223437070847, 0.16731859743595123, 0.8156781196594238, 0.9734361171722412, 0.9234950542449951, 0.9630690217018127, 0.04187256842851639, 0.23194943368434906, 0.21444381773471832, 0.028446629643440247, 0.527356743812561, 0.3679153621196747, 0.3171684145927429, 0.1903010606765747, 0.1268673688173294, 0.9490358233451843, 0.07940815389156342, 0.5991706252098083, 0.194910928606987, 0.12994061410427094, 0.3406502306461334, 0.5729117393493652, 0.07742050290107727, 0.0077420505695044994, 0.303986519575119, 0.5500708818435669, 0.08685329556465149, 0.05790219455957413, 0.9653414487838745, 0.11816572397947311, 0.2895060181617737, 0.2954143285751343, 0.2983684539794922, 0.047631289809942245, 0.928810179233551, 0.023815644904971123, 0.13707385957241058, 0.8452888131141663, 0.587908148765564, 0.2141548991203308, 0.0016285544261336327, 0.19624081254005432, 0.40251046419143677, 0.01006276160478592, 0.5937029719352722, 0.9404720664024353, 0.9292885065078735, 0.03574186563491821, 0.9797033071517944, 0.2597197890281677, 0.14352935552597046, 0.17770300805568695, 0.4169185757637024, 0.924709677696228, 0.9098203182220459, 0.9484184384346008, 0.021784501150250435, 0.17427600920200348, 0.8060265779495239, 0.4197002053260803, 0.05856281891465187, 0.039041876792907715, 0.4782630205154419, 0.05032150819897652, 0.9561086297035217, 0.9653381109237671, 0.14682506024837494, 0.7341252565383911, 0.07341253012418747, 0.04894168674945831, 0.03384644165635109, 0.06769288331270218, 0.8800075054168701, 0.9598005414009094, 0.9672613143920898, 0.9491211771965027, 0.15963494777679443, 0.6242135763168335, 0.15554174780845642, 0.061398059129714966, 0.8987259268760681, 0.38411229848861694, 0.19934941828250885, 0.35493922233581543, 0.06320834904909134, 0.05411579832434654, 0.010823159478604794, 0.757621169090271, 0.1731705516576767, 0.9037495255470276, 0.05830641835927963, 0.5107060074806213, 0.11515919864177704, 0.13518689572811127, 0.2403322458267212, 0.9387093186378479, 0.9835061430931091, 0.1912640482187271, 0.5234594941139221, 0.2818627953529358, 0.16890886425971985, 0.09095092117786407, 0.4287686347961426, 0.3118317425251007, 0.14986680448055267, 0.689387321472168, 0.004995560273528099, 0.15486235916614532, 0.9164808988571167, 0.9441025257110596, 0.923467218875885, 0.9173795580863953, 0.9329151511192322, 0.3476628363132477, 0.47953495383262634, 0.14785660803318024, 0.023976746946573257, 0.916193962097168, 0.04182734712958336, 0.02091367356479168, 0.8992879986763, 0.02091367356479168, 0.9318869709968567, 0.8938672542572021, 0.9648658633232117, 0.938806414604187, 0.9755704998970032, 0.08941364288330078, 0.8404882550239563, 0.011921819299459457, 0.05364818871021271, 0.8536539077758789, 0.12492496520280838, 0.9956241250038147, 0.9297353029251099, 0.9387124180793762, 0.9076678156852722, 0.9708499312400818, 0.9518934488296509, 0.9098391532897949, 0.0829966813325882, 0.11066224426031113, 0.802301287651062, 0.046902719885110855, 0.015634238719940186, 0.8442489504814148, 0.1094396784901619, 0.02224796824157238, 0.9344146251678467, 0.04449593648314476, 0.6973724365234375, 0.017610415816307068, 0.2852887213230133, 0.7345686554908752, 0.016323747113347054, 0.016323747113347054, 0.22853247821331024, 0.9417840838432312, 0.06278560310602188, 0.9553073644638062, 0.03715546056628227, 0.9288865327835083, 0.03715546056628227, 0.9097135663032532, 0.11184446513652802, 0.6550890207290649, 0.22368893027305603, 0.9524814486503601, 0.01958419941365719, 0.21542620658874512, 0.7441996335983276, 0.9631425738334656, 0.8175778388977051, 0.1816839575767517, 0.8676716685295105, 0.10845895856618881, 0.10987184941768646, 0.5435764789581299, 0.12143730372190475, 0.22552642226219177, 0.07699576020240784, 0.8854512572288513, 0.9319628477096558, 0.9567384123802185, 0.9670893549919128, 0.9857704043388367, 0.960939884185791, 0.2780456244945526, 0.29910966753959656, 0.0042128125205636024, 0.42128121852874756, 0.4030381441116333, 0.30003949999809265, 0.30003949999809265, 0.972981870174408, 0.837941586971283, 0.15852949023246765, 0.9389293789863586, 0.9825297594070435, 0.8062887191772461, 0.03174365311861038, 0.10475405305624008, 0.06031293794512749, 0.026907645165920258, 0.8879523277282715, 0.08072293549776077, 0.0910864844918251, 0.1639556735754013, 0.7469091415405273, 0.9410529732704163, 0.06898832321166992, 0.15330737829208374, 0.5289104580879211, 0.25295716524124146, 0.022868670523166656, 0.160080686211586, 0.8232721090316772, 0.9386703968048096, 0.9386969208717346, 0.04554632678627968, 0.9109265208244324, 0.04554632678627968, 0.1031796932220459, 0.38382846117019653, 0.16921469569206238, 0.34255659580230713, 0.01698518730700016, 0.1698518693447113, 0.03397037461400032, 0.7813186049461365, 0.19215553998947144, 0.2229004204273224, 0.08454843610525131, 0.5034475326538086, 0.4527755677700043, 0.5398477911949158, 0.16873930394649506, 0.7669968605041504, 0.061359748244285583, 0.9734777808189392, 0.01986689306795597, 0.945271372795105, 0.900507390499115, 0.25616711378097534, 0.23322679102420807, 0.43204304575920105, 0.08029118925333023, 0.5700485110282898, 0.015761708840727806, 0.0735546424984932, 0.33887675404548645, 0.9264611601829529, 0.950674295425415, 0.032781872898340225, 0.062350425869226456, 0.05344322323799133, 0.5433394312858582, 0.33847373723983765, 0.11084489524364471, 0.0919201523065567, 0.6191092729568481, 0.18113677203655243, 0.024352917447686195, 0.07305874675512314, 0.07305874675512314, 0.8523520827293396, 0.5283676385879517, 0.21386310458183289, 0.12580181658267975, 0.12894687056541443, 0.9524844884872437, 0.3830709755420685, 0.12631730735301971, 0.20732514560222626, 0.28146791458129883, 0.9800497889518738, 0.9257018566131592, 0.046521786600351334, 0.573768675327301, 0.2713770866394043, 0.10855083167552948, 0.8981600403785706, 0.1504513919353485, 0.1354062557220459, 0.7221666574478149, 0.9235305190086365, 0.9452798962593079, 0.8060635924339294, 0.18658879399299622, 0.007463551592081785, 0.047888271510601044, 0.692203164100647, 0.19590656459331512, 0.06094870716333389, 0.02845168672502041, 0.7966472506523132, 0.17071011662483215, 0.2724694311618805, 0.34058678150177, 0.026198983192443848, 0.36154595017433167, 0.9634867906570435, 0.06600581109523773, 0.5987669825553894, 0.21216154098510742, 0.11786752194166183, 0.03173292428255081, 0.07933230698108673, 0.7933230996131897, 0.07933230698108673, 0.12990915775299072, 0.11367050558328629, 0.25169897079467773, 0.5033979415893555, 0.9082406163215637, 0.051524173468351364, 0.9016730785369873, 0.051524173468351364, 0.7483860850334167, 0.2381228357553482, 0.00261673447676003, 0.01046693790704012, 0.9654216766357422, 0.9006117582321167, 0.024165643379092216, 0.9666257500648499, 0.9006406664848328, 0.3707835376262665, 0.19929614663124084, 0.21320053935050964, 0.21783533692359924, 0.6574656963348389, 0.32343071699142456, 0.002651071408763528, 0.015906428918242455, 0.9744939208030701, 0.9095443487167358, 0.1249542161822319, 0.2301788181066513, 0.5853118300437927, 0.0591888390481472, 0.4620184600353241, 0.4620184600353241, 0.06243492662906647, 0.012486985884606838, 0.9734143614768982, 0.9611255526542664, 0.9298087358474731, 0.8938965797424316], \"Term\": [\"accept_frame\", \"action\", \"action\", \"action\", \"action\", \"actor\", \"add\", \"add\", \"add\", \"add\", \"and\", \"and\", \"and\", \"and\", \"app\", \"app\", \"app\", \"app\", \"archives\", \"argument\", \"articles\", \"attempt\", \"attempt\", \"attempt\", \"auth_token\", \"been\", \"been\", \"been\", \"block\", \"block\", \"block\", \"block\", \"body\", \"build\", \"build\", \"build\", \"build\", \"bulk\", \"bundle\", \"bundle\", \"bundle\", \"bytes\", \"bytes\", \"bytes\", \"bytes\", \"cached\", \"call\", \"call\", \"call\", \"call\", \"cat_dependency\", \"check\", \"check\", \"check\", \"check\", \"checkxml\", \"child\", \"child\", \"child\", \"child\", \"client\", \"client\", \"client\", \"client\", \"close\", \"close\", \"close\", \"close\", \"cluster\", \"cluster\", \"cluster\", \"cluster\", \"cmd\", \"cmd\", \"cmd\", \"cmd\", \"column\", \"column\", \"composite\", \"conf\", \"conf\", \"conf\", \"conf\", \"configuration\", \"configuration\", \"configuration\", \"configuration\", \"conn\", \"connection\", \"connection\", \"connection\", \"connection\", \"consistency\", \"consistencylist\", \"consumer\", \"context\", \"context\", \"context\", \"context\", \"coord\", \"coord\", \"coord\", \"coord\", \"coordcurrent\", \"coordinator\", \"coordinator\", \"coordinator\", \"coordinatorxml\", \"correct\", \"count\", \"count\", \"count\", \"count\", \"create\", \"create\", \"create\", \"create\", \"crud\", \"current_dateafter\", \"data\", \"data\", \"data\", \"data\", \"datanode\", \"datanode\", \"dataset\", \"dataset\", \"dataset\", \"date\", \"date\", \"date\", \"date\", \"days\", \"debug\", \"debug\", \"debug\", \"delegation_token\", \"deleted\", \"deleted\", \"dependencies\", \"dependency\", \"dependency\", \"dependency\", \"dfs\", \"dfs\", \"dfs\", \"diff_key\", \"dir\", \"dir\", \"dir\", \"dir\", \"dsl\", \"dt_countryus\", \"eaaaa_kbaaaap\", \"end\", \"end\", \"end\", \"end\", \"engine\", \"engine\", \"enqueue\", \"entity\", \"eq\", \"event\", \"event\", \"event\", \"example_forkjoinwf\", \"execute\", \"execute\", \"execute\", \"execute\", \"execution_lifo\", \"factory\", \"factory\", \"fail\", \"fail\", \"fail\", \"fail\", \"fails\", \"family\", \"file\", \"file\", \"file\", \"file\", \"flush\", \"frequency\", \"frequency_coorddays\", \"from\", \"from\", \"from\", \"from\", \"fs\", \"fs\", \"fs\", \"fs\", \"function\", \"group\", \"group\", \"group\", \"group\", \"hadoopcounters\", \"have\", \"have\", \"have\", \"have\", \"header\", \"header\", \"headers\", \"http\", \"http_servlet\", \"http_servlet\", \"id\", \"id\", \"id\", \"id\", \"in\", \"in\", \"in\", \"in\", \"incrementing\", \"info\", \"info\", \"info\", \"info\", \"input\", \"input\", \"input\", \"input\", \"instance\", \"instance\", \"instance\", \"instance\", \"invoke_fork\", \"is\", \"is\", \"is\", \"is\", \"java\", \"java\", \"java\", \"jms\", \"jms\", \"job\", \"job\", \"job\", \"job\", \"jpa\", \"jpa\", \"jpa\", \"killed\", \"lease\", \"lease\", \"libs\", \"list\", \"list\", \"list\", \"list\", \"locala\", \"location\", \"locations\", \"manager\", \"manager\", \"manager\", \"map\", \"map\", \"map\", \"map\", \"master\", \"master\", \"mater\", \"message\", \"message\", \"message\", \"message\", \"meta\", \"meta\", \"meta\", \"missing_dependencies\", \"mock_dag\", \"months\", \"name\", \"name\", \"name\", \"name\", \"nn\", \"node\", \"node\", \"node\", \"node\", \"nodes\", \"nodes\", \"nodes\", \"nodes\", \"non\", \"non\", \"not\", \"not\", \"not\", \"not\", \"nqdir\", \"nqdir_qdir\", \"num\", \"num\", \"num\", \"of\", \"of\", \"of\", \"of\", \"oozie\", \"oozie\", \"oozie\", \"oozie\", \"oozielog\", \"oozieservice_proxy\", \"owner\", \"parameter\", \"params\", \"path\", \"path\", \"path\", \"path\", \"peer\", \"permission\", \"permission\", \"permission\", \"permission\", \"ping\", \"pipes\", \"play\", \"plus_month\", \"points\", \"property\", \"property\", \"property\", \"property\", \"proxy\", \"proxy\", \"purged\", \"push_missing\", \"qdir_nqdir\", \"queue_uniqueness\", \"quota\", \"rack\", \"racks\", \"random\", \"random\", \"random\", \"read\", \"read\", \"read\", \"read\", \"reader\", \"reader\", \"reader\", \"record\", \"record\", \"record\", \"reduce\", \"reduce\", \"reduce\", \"reduce\", \"replica\", \"replica\", \"replicas\", \"replication\", \"replication\", \"replication\", \"replication_factor\", \"request\", \"request\", \"request\", \"request_method\", \"rerun\", \"rerun\", \"rerun\", \"restart\", \"row\", \"row\", \"rows\", \"rows\", \"run\", \"run\", \"run\", \"run\", \"runnable\", \"runnable\", \"scan\", \"scanner\", \"script_template\", \"security_enabled\", \"select\", \"service\", \"service\", \"service\", \"service\", \"services\", \"services\", \"services\", \"servlet_classes\", \"session\", \"session\", \"session_given\", \"sg_qaaad\", \"should\", \"should\", \"should\", \"should\", \"shutdown\", \"shutdown\", \"shutdown\", \"simple\", \"simple\", \"simple\", \"simple_immutable\", \"size\", \"size\", \"size\", \"size\", \"sla\", \"sla\", \"sla\", \"snapshot\", \"space_quota\", \"stage\", \"stage\", \"stage\", \"start\", \"start\", \"start\", \"start\", \"state\", \"state\", \"state\", \"state\", \"status\", \"status\", \"status\", \"status\", \"stream\", \"stream\", \"submit\", \"submit\", \"submit\", \"subwf\", \"subwf\", \"suspended\", \"syn\", \"system\", \"system\", \"system\", \"system\", \"table\", \"table\", \"table\", \"table\", \"task_attempt\", \"template\", \"template\", \"that\", \"that\", \"that\", \"that\", \"the\", \"the\", \"the\", \"the\", \"then\", \"then\", \"then\", \"then\", \"time\", \"time\", \"time\", \"time\", \"timezone_utc\", \"to\", \"to\", \"to\", \"to\", \"transit\", \"trx\", \"type\", \"type\", \"type\", \"type\", \"unit_ing\", \"update\", \"update\", \"update\", \"updated\", \"updates\", \"url\", \"url\", \"url\", \"user\", \"user\", \"user\", \"user\", \"util\", \"util\", \"util\", \"utils\", \"utils\", \"utils\", \"utils\", \"uuid\", \"value\", \"value\", \"value\", \"value\", \"verify\", \"verify\", \"verify\", \"verify\", \"wait\", \"wait\", \"wait\", \"wait\", \"wc\", \"we\", \"we\", \"we\", \"wf\", \"wf\", \"wf\", \"wf\", \"wfconf\", \"what_was\", \"where\", \"where\", \"window\", \"with\", \"with\", \"with\", \"with\", \"workflow\", \"workflow\", \"workflow\", \"workflow\", \"workflowxml\", \"working\", \"write\", \"write\", \"write\", \"write\", \"xml\", \"xml\", \"xml\", \"xml\", \"xmlns\", \"year_day\", \"year_month\", \"yes\"]}, \"R\": 30, \"lambda.step\": 0.01, \"plot.opts\": {\"xlab\": \"PC1\", \"ylab\": \"PC2\"}, \"topic.order\": [3, 1, 4, 2]};\n",
       "\n",
       "function LDAvis_load_lib(url, callback){\n",
       "  var s = document.createElement('script');\n",
       "  s.src = url;\n",
       "  s.async = true;\n",
       "  s.onreadystatechange = s.onload = callback;\n",
       "  s.onerror = function(){console.warn(\"failed to load library \" + url);};\n",
       "  document.getElementsByTagName(\"head\")[0].appendChild(s);\n",
       "}\n",
       "\n",
       "if(typeof(LDAvis) !== \"undefined\"){\n",
       "   // already loaded: just create the visualization\n",
       "   !function(LDAvis){\n",
       "       new LDAvis(\"#\" + \"ldavis_el569616445963995609104431046\", ldavis_el569616445963995609104431046_data);\n",
       "   }(LDAvis);\n",
       "}else if(typeof define === \"function\" && define.amd){\n",
       "   // require.js is available: use it to load d3/LDAvis\n",
       "   require.config({paths: {d3: \"https://cdnjs.cloudflare.com/ajax/libs/d3/3.5.5/d3.min\"}});\n",
       "   require([\"d3\"], function(d3){\n",
       "      window.d3 = d3;\n",
       "      LDAvis_load_lib(\"https://cdn.rawgit.com/bmabey/pyLDAvis/files/ldavis.v1.0.0.js\", function(){\n",
       "        new LDAvis(\"#\" + \"ldavis_el569616445963995609104431046\", ldavis_el569616445963995609104431046_data);\n",
       "      });\n",
       "    });\n",
       "}else{\n",
       "    // require.js not available: dynamically load d3 & LDAvis\n",
       "    LDAvis_load_lib(\"https://cdnjs.cloudflare.com/ajax/libs/d3/3.5.5/d3.min.js\", function(){\n",
       "         LDAvis_load_lib(\"https://cdn.rawgit.com/bmabey/pyLDAvis/files/ldavis.v1.0.0.js\", function(){\n",
       "                 new LDAvis(\"#\" + \"ldavis_el569616445963995609104431046\", ldavis_el569616445963995609104431046_data);\n",
       "            })\n",
       "         });\n",
       "}\n",
       "</script>"
      ],
      "text/plain": [
       "PreparedData(topic_coordinates=              x         y  topics  cluster       Freq\n",
       "topic                                                \n",
       "2      0.142314  0.044784       1        1  30.248442\n",
       "0      0.047278 -0.156939       2        1  25.546444\n",
       "3     -0.200006  0.000578       3        1  24.278215\n",
       "1      0.010414  0.111577       4        1  19.926895, topic_info=    Category         Freq         Term        Total  loglift  logprob\n",
       "149  Default  1200.000000       action  1200.000000  30.0000  30.0000\n",
       "174  Default  1228.000000          job  1228.000000  29.0000  29.0000\n",
       "160  Default   725.000000        coord   725.000000  28.0000  28.0000\n",
       "26   Default   767.000000         file   767.000000  27.0000  27.0000\n",
       "279  Default   382.000000           wf   382.000000  26.0000  26.0000\n",
       "..       ...          ...          ...          ...      ...      ...\n",
       "149   Topic4   111.710861       action  1200.006348  -0.7611  -4.3435\n",
       "162   Topic4    63.267513  coordinator   291.038818   0.0870  -4.9121\n",
       "54    Topic4    66.824982          the   369.886230  -0.0980  -4.8574\n",
       "132   Topic4    48.059174           of   153.929169   0.4490  -5.1870\n",
       "148   Topic4    46.527939         with   215.759308   0.0790  -5.2194\n",
       "\n",
       "[308 rows x 6 columns], token_table=      Topic      Freq          Term\n",
       "term                               \n",
       "588       3  0.909130  accept_frame\n",
       "149       1  0.811662        action\n",
       "149       2  0.094166        action\n",
       "149       3  0.000833        action\n",
       "149       4  0.093333        action\n",
       "...     ...       ...           ...\n",
       "197       4  0.012487           xml\n",
       "705       2  0.973414         xmlns\n",
       "748       2  0.961126      year_day\n",
       "976       1  0.929809    year_month\n",
       "1065      1  0.893897           yes\n",
       "\n",
       "[553 rows x 3 columns], R=30, lambda_step=0.01, plot_opts={'xlab': 'PC1', 'ylab': 'PC2'}, topic_order=[3, 1, 4, 2])"
      ]
     },
     "execution_count": 17,
     "metadata": {},
     "output_type": "execute_result"
    }
   ],
   "source": [
    "import pyLDAvis.gensim\n",
    "import pickle \n",
    "import pyLDAvis\n",
    "\n",
    "# Visualize the topics, the higher the coherence more separated the topics will tend to be\n",
    "pyLDAvis.enable_notebook()\n",
    "LDAvis_prepared = pyLDAvis.gensim.prepare(lda_model, corpus, id2word)\n",
    "LDAvis_prepared"
   ]
  },
  {
   "cell_type": "code",
   "execution_count": 18,
   "metadata": {},
   "outputs": [
    {
     "data": {
      "text/html": [
       "<div>\n",
       "<style scoped>\n",
       "    .dataframe tbody tr th:only-of-type {\n",
       "        vertical-align: middle;\n",
       "    }\n",
       "\n",
       "    .dataframe tbody tr th {\n",
       "        vertical-align: top;\n",
       "    }\n",
       "\n",
       "    .dataframe thead th {\n",
       "        text-align: right;\n",
       "    }\n",
       "</style>\n",
       "<table border=\"1\" class=\"dataframe\">\n",
       "  <thead>\n",
       "    <tr style=\"text-align: right;\">\n",
       "      <th></th>\n",
       "      <th>camel_case_split</th>\n",
       "      <th>lowered</th>\n",
       "      <th>no_punctuation</th>\n",
       "      <th>no_assert</th>\n",
       "      <th>no_assert_equals</th>\n",
       "      <th>clean</th>\n",
       "      <th>topic</th>\n",
       "    </tr>\n",
       "  </thead>\n",
       "  <tbody>\n",
       "    <tr>\n",
       "      <td>621</td>\n",
       "      <td>cluster tries get  Name   Checked if node was ...</td>\n",
       "      <td>cluster tries get  name   checked if node was ...</td>\n",
       "      <td>cluster tries get  name   checked if node was ...</td>\n",
       "      <td>cluster tries get  name   checked if node was ...</td>\n",
       "      <td>cluster tries get  name   checked if node was ...</td>\n",
       "      <td>cluster tries get  name   checked if node was ...</td>\n",
       "      <td>3</td>\n",
       "    </tr>\n",
       "    <tr>\n",
       "      <td>80</td>\n",
       "      <td>FS001  FS002 viewfs is a supported scheme.   ...</td>\n",
       "      <td>fs001  fs002 viewfs is a supported scheme.   ...</td>\n",
       "      <td>fs001  fs002 viewfs is a supported scheme   t...</td>\n",
       "      <td>fs001  fs002 viewfs is a supported scheme   t...</td>\n",
       "      <td>fs001  fs002 viewfs is a supported scheme   t...</td>\n",
       "      <td>fs001  fs002 viewfs is a supported scheme   t...</td>\n",
       "      <td>2</td>\n",
       "    </tr>\n",
       "    <tr>\n",
       "      <td>2242</td>\n",
       "      <td>the match calls a player event on it's deacti...</td>\n",
       "      <td>the match calls a player event on it's deacti...</td>\n",
       "      <td>the match calls a player event on it's deacti...</td>\n",
       "      <td>the match calls a player event on it's deacti...</td>\n",
       "      <td>the match calls a player event on it's deacti...</td>\n",
       "      <td>the match calls a player event on it's deacti...</td>\n",
       "      <td>3</td>\n",
       "    </tr>\n",
       "    <tr>\n",
       "      <td>1761</td>\n",
       "      <td>date script  Executor session    Given insert ...</td>\n",
       "      <td>date script  executor session    given insert ...</td>\n",
       "      <td>date script  executor session    given insert ...</td>\n",
       "      <td>date script  executor session    given insert ...</td>\n",
       "      <td>date script  executor session    given insert ...</td>\n",
       "      <td>date script  executor session    given insert ...</td>\n",
       "      <td>1</td>\n",
       "    </tr>\n",
       "    <tr>\n",
       "      <td>1172</td>\n",
       "      <td>Check for resolved conf test  Dry  Run  Pus...</td>\n",
       "      <td>check for resolved conf test  dry  run  pus...</td>\n",
       "      <td>check for resolved conf test  dry  run  pus...</td>\n",
       "      <td>check for resolved conf test  dry  run  pus...</td>\n",
       "      <td>check for resolved conf test  dry  run  pus...</td>\n",
       "      <td>check for resolved conf   dry  run  push  d...</td>\n",
       "      <td>2</td>\n",
       "    </tr>\n",
       "  </tbody>\n",
       "</table>\n",
       "</div>"
      ],
      "text/plain": [
       "                                       camel_case_split  \\\n",
       "621   cluster tries get  Name   Checked if node was ...   \n",
       "80     FS001  FS002 viewfs is a supported scheme.   ...   \n",
       "2242   the match calls a player event on it's deacti...   \n",
       "1761  date script  Executor session    Given insert ...   \n",
       "1172     Check for resolved conf test  Dry  Run  Pus...   \n",
       "\n",
       "                                                lowered  \\\n",
       "621   cluster tries get  name   checked if node was ...   \n",
       "80     fs001  fs002 viewfs is a supported scheme.   ...   \n",
       "2242   the match calls a player event on it's deacti...   \n",
       "1761  date script  executor session    given insert ...   \n",
       "1172     check for resolved conf test  dry  run  pus...   \n",
       "\n",
       "                                         no_punctuation  \\\n",
       "621   cluster tries get  name   checked if node was ...   \n",
       "80     fs001  fs002 viewfs is a supported scheme   t...   \n",
       "2242   the match calls a player event on it's deacti...   \n",
       "1761  date script  executor session    given insert ...   \n",
       "1172     check for resolved conf test  dry  run  pus...   \n",
       "\n",
       "                                              no_assert  \\\n",
       "621   cluster tries get  name   checked if node was ...   \n",
       "80     fs001  fs002 viewfs is a supported scheme   t...   \n",
       "2242   the match calls a player event on it's deacti...   \n",
       "1761  date script  executor session    given insert ...   \n",
       "1172     check for resolved conf test  dry  run  pus...   \n",
       "\n",
       "                                       no_assert_equals  \\\n",
       "621   cluster tries get  name   checked if node was ...   \n",
       "80     fs001  fs002 viewfs is a supported scheme   t...   \n",
       "2242   the match calls a player event on it's deacti...   \n",
       "1761  date script  executor session    given insert ...   \n",
       "1172     check for resolved conf test  dry  run  pus...   \n",
       "\n",
       "                                                  clean  topic  \n",
       "621   cluster tries get  name   checked if node was ...      3  \n",
       "80     fs001  fs002 viewfs is a supported scheme   t...      2  \n",
       "2242   the match calls a player event on it's deacti...      3  \n",
       "1761  date script  executor session    given insert ...      1  \n",
       "1172     check for resolved conf   dry  run  push  d...      2  "
      ]
     },
     "execution_count": 18,
     "metadata": {},
     "output_type": "execute_result"
    }
   ],
   "source": [
    "from operator import itemgetter\n",
    "\n",
    "#associates each test case to its given topic by the model at the ``topic`` column\n",
    "topics = []\n",
    "for test_case in corpus:\n",
    "    prob_distribution = lda_model.get_document_topics(test_case)\n",
    "    topics.append(max(prob_distribution, key=itemgetter(1))[0])\n",
    "\n",
    "lda_processed_data['topic'] = topics\n",
    "lda_processed_data.head()"
   ]
  },
  {
   "cell_type": "code",
   "execution_count": 19,
   "metadata": {},
   "outputs": [
    {
     "data": {
      "text/plain": [
       "0    0.271676\n",
       "3    0.257225\n",
       "2    0.257225\n",
       "1    0.213873\n",
       "Name: topic, dtype: float64"
      ]
     },
     "execution_count": 19,
     "metadata": {},
     "output_type": "execute_result"
    }
   ],
   "source": [
    "#view the proportion of each topic\n",
    "lda_processed_data['topic'].value_counts(normalize=True)"
   ]
  },
  {
   "cell_type": "code",
   "execution_count": 20,
   "metadata": {},
   "outputs": [
    {
     "data": {
      "text/html": [
       "<div>\n",
       "<style scoped>\n",
       "    .dataframe tbody tr th:only-of-type {\n",
       "        vertical-align: middle;\n",
       "    }\n",
       "\n",
       "    .dataframe tbody tr th {\n",
       "        vertical-align: top;\n",
       "    }\n",
       "\n",
       "    .dataframe thead th {\n",
       "        text-align: right;\n",
       "    }\n",
       "</style>\n",
       "<table border=\"1\" class=\"dataframe\">\n",
       "  <thead>\n",
       "    <tr style=\"text-align: right;\">\n",
       "      <th></th>\n",
       "      <th>camel_case_split</th>\n",
       "      <th>lowered</th>\n",
       "      <th>no_punctuation</th>\n",
       "      <th>no_assert</th>\n",
       "      <th>no_assert_equals</th>\n",
       "      <th>clean</th>\n",
       "      <th>topic</th>\n",
       "      <th>flaky</th>\n",
       "    </tr>\n",
       "  </thead>\n",
       "  <tbody>\n",
       "    <tr>\n",
       "      <td>621</td>\n",
       "      <td>cluster tries get  Name   Checked if node was ...</td>\n",
       "      <td>cluster tries get  name   checked if node was ...</td>\n",
       "      <td>cluster tries get  name   checked if node was ...</td>\n",
       "      <td>cluster tries get  name   checked if node was ...</td>\n",
       "      <td>cluster tries get  name   checked if node was ...</td>\n",
       "      <td>cluster tries get  name   checked if node was ...</td>\n",
       "      <td>3</td>\n",
       "      <td>4</td>\n",
       "    </tr>\n",
       "    <tr>\n",
       "      <td>80</td>\n",
       "      <td>FS001  FS002 viewfs is a supported scheme.   ...</td>\n",
       "      <td>fs001  fs002 viewfs is a supported scheme.   ...</td>\n",
       "      <td>fs001  fs002 viewfs is a supported scheme   t...</td>\n",
       "      <td>fs001  fs002 viewfs is a supported scheme   t...</td>\n",
       "      <td>fs001  fs002 viewfs is a supported scheme   t...</td>\n",
       "      <td>fs001  fs002 viewfs is a supported scheme   t...</td>\n",
       "      <td>2</td>\n",
       "      <td>3</td>\n",
       "    </tr>\n",
       "    <tr>\n",
       "      <td>2242</td>\n",
       "      <td>the match calls a player event on it's deacti...</td>\n",
       "      <td>the match calls a player event on it's deacti...</td>\n",
       "      <td>the match calls a player event on it's deacti...</td>\n",
       "      <td>the match calls a player event on it's deacti...</td>\n",
       "      <td>the match calls a player event on it's deacti...</td>\n",
       "      <td>the match calls a player event on it's deacti...</td>\n",
       "      <td>3</td>\n",
       "      <td>4</td>\n",
       "    </tr>\n",
       "    <tr>\n",
       "      <td>1761</td>\n",
       "      <td>date script  Executor session    Given insert ...</td>\n",
       "      <td>date script  executor session    given insert ...</td>\n",
       "      <td>date script  executor session    given insert ...</td>\n",
       "      <td>date script  executor session    given insert ...</td>\n",
       "      <td>date script  executor session    given insert ...</td>\n",
       "      <td>date script  executor session    given insert ...</td>\n",
       "      <td>1</td>\n",
       "      <td>2</td>\n",
       "    </tr>\n",
       "    <tr>\n",
       "      <td>1172</td>\n",
       "      <td>Check for resolved conf test  Dry  Run  Pus...</td>\n",
       "      <td>check for resolved conf test  dry  run  pus...</td>\n",
       "      <td>check for resolved conf test  dry  run  pus...</td>\n",
       "      <td>check for resolved conf test  dry  run  pus...</td>\n",
       "      <td>check for resolved conf test  dry  run  pus...</td>\n",
       "      <td>check for resolved conf   dry  run  push  d...</td>\n",
       "      <td>2</td>\n",
       "      <td>3</td>\n",
       "    </tr>\n",
       "  </tbody>\n",
       "</table>\n",
       "</div>"
      ],
      "text/plain": [
       "                                       camel_case_split  \\\n",
       "621   cluster tries get  Name   Checked if node was ...   \n",
       "80     FS001  FS002 viewfs is a supported scheme.   ...   \n",
       "2242   the match calls a player event on it's deacti...   \n",
       "1761  date script  Executor session    Given insert ...   \n",
       "1172     Check for resolved conf test  Dry  Run  Pus...   \n",
       "\n",
       "                                                lowered  \\\n",
       "621   cluster tries get  name   checked if node was ...   \n",
       "80     fs001  fs002 viewfs is a supported scheme.   ...   \n",
       "2242   the match calls a player event on it's deacti...   \n",
       "1761  date script  executor session    given insert ...   \n",
       "1172     check for resolved conf test  dry  run  pus...   \n",
       "\n",
       "                                         no_punctuation  \\\n",
       "621   cluster tries get  name   checked if node was ...   \n",
       "80     fs001  fs002 viewfs is a supported scheme   t...   \n",
       "2242   the match calls a player event on it's deacti...   \n",
       "1761  date script  executor session    given insert ...   \n",
       "1172     check for resolved conf test  dry  run  pus...   \n",
       "\n",
       "                                              no_assert  \\\n",
       "621   cluster tries get  name   checked if node was ...   \n",
       "80     fs001  fs002 viewfs is a supported scheme   t...   \n",
       "2242   the match calls a player event on it's deacti...   \n",
       "1761  date script  executor session    given insert ...   \n",
       "1172     check for resolved conf test  dry  run  pus...   \n",
       "\n",
       "                                       no_assert_equals  \\\n",
       "621   cluster tries get  name   checked if node was ...   \n",
       "80     fs001  fs002 viewfs is a supported scheme   t...   \n",
       "2242   the match calls a player event on it's deacti...   \n",
       "1761  date script  executor session    given insert ...   \n",
       "1172     check for resolved conf test  dry  run  pus...   \n",
       "\n",
       "                                                  clean  topic  flaky  \n",
       "621   cluster tries get  name   checked if node was ...      3      4  \n",
       "80     fs001  fs002 viewfs is a supported scheme   t...      2      3  \n",
       "2242   the match calls a player event on it's deacti...      3      4  \n",
       "1761  date script  executor session    given insert ...      1      2  \n",
       "1172     check for resolved conf   dry  run  push  d...      2      3  "
      ]
     },
     "execution_count": 20,
     "metadata": {},
     "output_type": "execute_result"
    }
   ],
   "source": [
    "#topics were assigned from 0 to 4, this part changes to 1 to 5, 0 now will indicate non flakiness\n",
    "\n",
    "lda_processed_data['flaky'] = [topic + 1 for topic in topics]\n",
    "lda_processed_data.head()"
   ]
  },
  {
   "cell_type": "markdown",
   "metadata": {},
   "source": [
    "Now the data is ready to train the classificator, in this case, MultinomialNB, the classifier will learn to assign topics from 0 to 5 for new unseen data."
   ]
  },
  {
   "cell_type": "markdown",
   "metadata": {},
   "source": [
    "The data is splitted as follows:\n",
    "\n",
    "![data split](./data_split.png)\n"
   ]
  },
  {
   "cell_type": "code",
   "execution_count": 21,
   "metadata": {},
   "outputs": [],
   "source": [
    "from sklearn.naive_bayes import MultinomialNB\n",
    "from sklearn.feature_extraction.text import CountVectorizer\n",
    "from sklearn.pipeline import Pipeline\n",
    "from sklearn.metrics import accuracy_score, classification_report, f1_score\n",
    "from sklearn.model_selection import train_test_split\n",
    "\n",
    "#train data\n",
    "nb_pos_train_data = lda_processed_data.drop(columns='topic')\n",
    "nb_neg_train_data_sample = negative_data.sample(n=len(lda_processed_data), random_state=7)\n",
    "nb_neg_train_data, _ = preprocess(nb_neg_train_data_sample)\n",
    "nb_neg_train_data['flaky'] = 0\n",
    "nb_train_data = nb_pos_train_data.append(nb_neg_train_data)\n",
    "nb_train_data_shuffled = nb_train_data.sample(frac=1, random_state=7)\n",
    "\n",
    "X_train = nb_train_data_shuffled['clean']\n",
    "y_train = nb_train_data_shuffled['flaky']\n",
    "\n",
    "#test_data\n",
    "nb_pos_test_data, _ = preprocess(nb_flaky_test_data)\n",
    "nb_pos_test_data['flaky'] = 1\n",
    "nb_neg_test_data_sample = negative_data.query(f'index not in {list(nb_neg_train_data_sample.index)}')\n",
    "nb_neg_test_data, _ = preprocess(nb_neg_test_data_sample)\n",
    "nb_neg_test_data['flaky'] = 0\n",
    "nb_test_data = nb_pos_test_data.append(nb_neg_test_data)\n",
    "nb_test_data_shuffled = nb_test_data.sample(frac=1, random_state=11)\n",
    "\n",
    "X_test = nb_test_data_shuffled['clean']\n",
    "y_test = nb_test_data_shuffled['flaky']\n",
    "\n",
    "text_clf = Pipeline([('vectorizer', CountVectorizer()),\n",
    "                     ('model', MultinomialNB())])\n",
    "text_clf.fit(X_train, y_train)\n",
    "preds = text_clf.predict(X_test)"
   ]
  },
  {
   "cell_type": "markdown",
   "metadata": {},
   "source": [
    "For the evaluation of the model, the accuracy is used, but, as we dont't have the ground truth topic of each test case, any positive topic will be converted to 1 in the cell below."
   ]
  },
  {
   "cell_type": "code",
   "execution_count": 22,
   "metadata": {},
   "outputs": [
    {
     "name": "stdout",
     "output_type": "stream",
     "text": [
      "accuracy 0.4426820475847152\n"
     ]
    }
   ],
   "source": [
    "predictions = [1 if value > 0 else 0 for value in preds]\n",
    "acc = sum(predictions & nb_test_data_shuffled['flaky'])/len(nb_test_data_shuffled)\n",
    "print('accuracy', acc)"
   ]
  },
  {
   "cell_type": "markdown",
   "metadata": {},
   "source": [
    "## In this part, another kind of LDA is tested, the tutorial is avaiable at \n",
    "https://thinkinfi.com/guide-to-build-best-lda-model-using-gensim-python/\n",
    "\n",
    "Make sure you have java installed and adjust to the correct path"
   ]
  },
  {
   "cell_type": "code",
   "execution_count": 31,
   "metadata": {},
   "outputs": [
    {
     "name": "stdout",
     "output_type": "stream",
     "text": [
      "--- 49.80779576301575 seconds ---\n"
     ]
    }
   ],
   "source": [
    "import os\n",
    "import time\n",
    "     \n",
    "os.environ.update({'MALLET_HOME':r'C:/Users/Aian/Documents/college/research/flaky-tests/topic-modelling/mallet-2.0.8'})\n",
    "mallet_path = 'C:/Users/Aian/Documents/college/research/flaky-tests/topic-modelling/mallet-2.0.8/bin/mallet'\n",
    "\n",
    "start_time = time.time()\n",
    "\n",
    "## Train LDA with mallet\n",
    "lda_mallet = gensim.models.wrappers.LdaMallet(mallet_path,\n",
    "                                              corpus=corpus,\n",
    "                                              id2word=id2word,\n",
    "                                              num_topics=4)\n",
    "\n",
    "## Print time taken to train the model\n",
    "print(\"--- %s seconds ---\" % (time.time() - start_time))"
   ]
  },
  {
   "cell_type": "code",
   "execution_count": 28,
   "metadata": {},
   "outputs": [
    {
     "name": "stdout",
     "output_type": "stream",
     "text": [
      "nCoherence Score:  0.5335603578510384\n"
     ]
    }
   ],
   "source": [
    "# Compute Coherence Score for mallet\n",
    "coherence_model_lda = gensim.models.CoherenceModel(model=lda_mallet, texts=data_words_bigrams, dictionary=id2word, coherence='c_v')\n",
    "coherence_lda = coherence_model_lda.get_coherence()\n",
    "print('nCoherence Score: ', coherence_lda)"
   ]
  }
 ],
 "metadata": {
  "kernelspec": {
   "display_name": "Python 3",
   "language": "python",
   "name": "python3"
  },
  "language_info": {
   "codemirror_mode": {
    "name": "ipython",
    "version": 3
   },
   "file_extension": ".py",
   "mimetype": "text/x-python",
   "name": "python",
   "nbconvert_exporter": "python",
   "pygments_lexer": "ipython3",
   "version": "3.7.4"
  }
 },
 "nbformat": 4,
 "nbformat_minor": 4
}
