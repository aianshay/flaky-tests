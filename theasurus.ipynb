{
 "cells": [
  {
   "cell_type": "code",
   "execution_count": 4,
   "metadata": {},
   "outputs": [],
   "source": [
    "from sklearn.model_selection import train_test_split\n",
    "from sklearn.ensemble import RandomForestClassifier\n",
    "from sklearn.naive_bayes import MultinomialNB, ComplementNB\n",
    "from sklearn.feature_extraction.text import CountVectorizer\n",
    "from sklearn.metrics import f1_score\n",
    "from sklearn.metrics import plot_roc_curve\n",
    "from sklearn.metrics import classification_report\n",
    "from nltk.tokenize import word_tokenize\n",
    "import pandas as pd\n",
    "import numpy as np\n",
    "import seaborn as sns\n",
    "from matplotlib import pyplot as plt\n",
    "import preprocessing as pp"
   ]
  },
  {
   "cell_type": "markdown",
   "metadata": {},
   "source": [
    "## Using thesaurus' semantic related words"
   ]
  },
  {
   "cell_type": "code",
   "execution_count": 5,
   "metadata": {},
   "outputs": [],
   "source": [
    "msr_data = pd.read_csv('data/msr_dataset.csv', encoding = 'ANSI')\n",
    "msr_data['processed_token'] = pp.preprocess_tokens(msr_data)\n",
    "y_msr = msr_data['class']\n",
    "msr = msr_data.drop(columns=['class'])"
   ]
  },
  {
   "cell_type": "code",
   "execution_count": 7,
   "metadata": {},
   "outputs": [
    {
     "name": "stderr",
     "output_type": "stream",
     "text": [
      "c:\\users\\aian\\appdata\\local\\programs\\python\\python37\\lib\\site-packages\\ipykernel_launcher.py:9: FutureWarning: DataFrame.to_sparse is deprecated and will be removed in a future version\n",
      "  if __name__ == '__main__':\n",
      "c:\\users\\aian\\appdata\\local\\programs\\python\\python37\\lib\\site-packages\\ipykernel_launcher.py:14: FutureWarning: DataFrame.to_sparse is deprecated and will be removed in a future version\n",
      "  \n",
      "c:\\users\\aian\\appdata\\local\\programs\\python\\python37\\lib\\site-packages\\pandas\\core\\frame.py:3456: FutureWarning: SparseSeries is deprecated and will be removed in a future version.\n",
      "Use a Series with sparse values instead.\n",
      "\n",
      "    >>> series = pd.Series(pd.SparseArray(...))\n",
      "\n",
      "See http://pandas.pydata.org/pandas-docs/stable/user_guide/sparse.html#migrating for more.\n",
      "\n",
      "  return klass(values, index=self.index, name=items, fastpath=True)\n",
      "c:\\users\\aian\\appdata\\local\\programs\\python\\python37\\lib\\site-packages\\pandas\\core\\frame.py:3456: FutureWarning: SparseSeries is deprecated and will be removed in a future version.\n",
      "Use a Series with sparse values instead.\n",
      "\n",
      "    >>> series = pd.Series(pd.SparseArray(...))\n",
      "\n",
      "See http://pandas.pydata.org/pandas-docs/stable/user_guide/sparse.html#migrating for more.\n",
      "\n",
      "  return klass(values, index=self.index, name=items, fastpath=True)\n"
     ]
    },
    {
     "name": "stdout",
     "output_type": "stream",
     "text": [
      "              precision    recall  f1-score   support\n",
      "\n",
      "           0       0.90      0.90      0.90       283\n",
      "           1       0.90      0.90      0.90       278\n",
      "\n",
      "    accuracy                           0.90       561\n",
      "   macro avg       0.90      0.90      0.90       561\n",
      "weighted avg       0.90      0.90      0.90       561\n",
      "\n"
     ]
    }
   ],
   "source": [
    "X_train, X_test, y_train, y_test = train_test_split(msr, y_msr, train_size=0.8, \n",
    "                                                    random_state=33, shuffle=True)\n",
    "\n",
    "msr_vectorizer = CountVectorizer()\n",
    "\n",
    "bow_train = msr_vectorizer.fit_transform(X_train['processed_token'])\n",
    "sparse_matrix_train = pd.DataFrame(bow_train.toarray(), columns = msr_vectorizer.get_feature_names())\n",
    "#X_train_count = pp.concat_loc_sum(sparse_matrix_train, X_train)\n",
    "sparse_matrix_train = sparse_matrix_train.to_sparse()\n",
    "\n",
    "bow_test = msr_vectorizer.transform(X_test['processed_token'])\n",
    "sparse_matrix_test = pd.DataFrame(bow_test.toarray(), columns = msr_vectorizer.get_feature_names())\n",
    "#X_test_count = pp.concat_loc_sum(sparse_matrix_test, X_test)\n",
    "sparse_matrix_test = sparse_matrix_test.to_sparse()\n",
    "\n",
    "msr_model = MultinomialNB()\n",
    "msr_model.fit(sparse_matrix_train, y_train)\n",
    "preds = msr_model.predict(sparse_matrix_test)\n",
    "\n",
    "print(classification_report(y_test, preds))"
   ]
  },
  {
   "cell_type": "code",
   "execution_count": 8,
   "metadata": {},
   "outputs": [
    {
     "name": "stdout",
     "output_type": "stream",
     "text": [
      "23327\n"
     ]
    }
   ],
   "source": [
    "print(len(msr_vectorizer.get_feature_names()))"
   ]
  },
  {
   "cell_type": "code",
   "execution_count": 12,
   "metadata": {},
   "outputs": [
    {
     "data": {
      "text/plain": [
       "\"'context  get  class  get  resource  css  test  folder  test  expected  expected  folder  get  file  get  config  url  test  from  folder  set  ignore  missing  resources  get  wro  test  utils  compare  from  different  folders  by  extension  css  import  victim  context  getclass  getresource  css  testfolder  test  expected  expectedfolder  getfile  getconfig  url  testfromfolder  setignoremissingresources  get  wrotestutils  comparefromdifferentfoldersbyextension  cssimport  victim'\""
      ]
     },
     "execution_count": 12,
     "metadata": {},
     "output_type": "execute_result"
    }
   ],
   "source": [
    "msr_data['token'][333]"
   ]
  },
  {
   "cell_type": "code",
   "execution_count": 13,
   "metadata": {},
   "outputs": [
    {
     "data": {
      "text/plain": [
       "\"'context gets classa clases gets resourcex rescource resourcce resources resourcse csss tests foolder folderd forlder tests expeceted exprected expectedd exspected exppected expeceted exprected expectedd exspected exppected foolder folderd forlder gets filei gets congfig config# configs urlt tests from foolder folderd forlder sett ingnore ignor ignores mmissing missings misssing missinng resources gets wro tests utils compared comparet compaire compares from different folders by extensioin extenision externsion extenssion exetension extensiosn extendion extesnsion extention exntension enxtension extensions extensiion extenstion extentsion extensione exstension csss imprort imports importo victim context getclazz getclasses getclassb getclassa getclassc getressource getresourceset getresouces getresourse getresources getresouce csss test folders tests folder testfolders test folder tests expeceted exprected expectedd exspected exppected expectedfolder getfile getconf getconfigs urlt testfromfolder setignoremissingresources gets wrotestutils comparefromdifferentfoldersbyextension cssimport victim '\""
      ]
     },
     "execution_count": 13,
     "metadata": {},
     "output_type": "execute_result"
    }
   ],
   "source": [
    "msr_data['processed_token'][333]"
   ]
  },
  {
   "cell_type": "code",
   "execution_count": 9,
   "metadata": {},
   "outputs": [
    {
     "data": {
      "image/png": "[encoded data removed]",
      "text/plain": [
       "<Figure size 432x288 with 1 Axes>"
      ]
     },
     "metadata": {
      "needs_background": "light"
     },
     "output_type": "display_data"
    }
   ],
   "source": [
    "roc = plot_roc_curve(msr_model, sparse_matrix_test, y_test)"
   ]
  },
  {
   "cell_type": "code",
   "execution_count": 10,
   "metadata": {},
   "outputs": [
    {
     "data": {
      "text/html": [
       "<div>\n",
       "<style scoped>\n",
       "    .dataframe tbody tr th:only-of-type {\n",
       "        vertical-align: middle;\n",
       "    }\n",
       "\n",
       "    .dataframe tbody tr th {\n",
       "        vertical-align: top;\n",
       "    }\n",
       "\n",
       "    .dataframe thead th {\n",
       "        text-align: right;\n",
       "    }\n",
       "</style>\n",
       "<table border=\"1\" class=\"dataframe\">\n",
       "  <thead>\n",
       "    <tr style=\"text-align: right;\">\n",
       "      <th></th>\n",
       "      <th>importance</th>\n",
       "    </tr>\n",
       "  </thead>\n",
       "  <tbody>\n",
       "    <tr>\n",
       "      <td>actions</td>\n",
       "      <td>0.013986</td>\n",
       "    </tr>\n",
       "    <tr>\n",
       "      <td>jobf</td>\n",
       "      <td>0.013062</td>\n",
       "    </tr>\n",
       "    <tr>\n",
       "      <td>tabele</td>\n",
       "      <td>0.011908</td>\n",
       "    </tr>\n",
       "    <tr>\n",
       "      <td>coord</td>\n",
       "      <td>0.010971</td>\n",
       "    </tr>\n",
       "    <tr>\n",
       "      <td>services</td>\n",
       "      <td>0.010861</td>\n",
       "    </tr>\n",
       "    <tr>\n",
       "      <td>actioin</td>\n",
       "      <td>0.009654</td>\n",
       "    </tr>\n",
       "    <tr>\n",
       "      <td>anction</td>\n",
       "      <td>0.008847</td>\n",
       "    </tr>\n",
       "    <tr>\n",
       "      <td>oozies</td>\n",
       "      <td>0.008578</td>\n",
       "    </tr>\n",
       "    <tr>\n",
       "      <td>clusterf</td>\n",
       "      <td>0.007593</td>\n",
       "    </tr>\n",
       "    <tr>\n",
       "      <td>ooozie</td>\n",
       "      <td>0.006960</td>\n",
       "    </tr>\n",
       "    <tr>\n",
       "      <td>getiid</td>\n",
       "      <td>0.005679</td>\n",
       "    </tr>\n",
       "    <tr>\n",
       "      <td>systemn</td>\n",
       "      <td>0.005441</td>\n",
       "    </tr>\n",
       "    <tr>\n",
       "      <td>oozie</td>\n",
       "      <td>0.005338</td>\n",
       "    </tr>\n",
       "    <tr>\n",
       "      <td>coordinator</td>\n",
       "      <td>0.005333</td>\n",
       "    </tr>\n",
       "    <tr>\n",
       "      <td>worfkflow</td>\n",
       "      <td>0.005235</td>\n",
       "    </tr>\n",
       "  </tbody>\n",
       "</table>\n",
       "</div>"
      ],
      "text/plain": [
       "             importance\n",
       "actions        0.013986\n",
       "jobf           0.013062\n",
       "tabele         0.011908\n",
       "coord          0.010971\n",
       "services       0.010861\n",
       "actioin        0.009654\n",
       "anction        0.008847\n",
       "oozies         0.008578\n",
       "clusterf       0.007593\n",
       "ooozie         0.006960\n",
       "getiid         0.005679\n",
       "systemn        0.005441\n",
       "oozie          0.005338\n",
       "coordinator    0.005333\n",
       "worfkflow      0.005235"
      ]
     },
     "execution_count": 10,
     "metadata": {},
     "output_type": "execute_result"
    }
   ],
   "source": [
    "importances = pd.DataFrame(msr_model.feature_importances_, index = sparse_matrix_train.columns,\n",
    "                            columns=['importance']).sort_values('importance', ascending=False)\n",
    "\n",
    "importances[:15]"
   ]
  },
  {
   "cell_type": "code",
   "execution_count": 33,
   "metadata": {},
   "outputs": [
    {
     "data": {
      "text/plain": [
       "Text(0, 0.5, 'Token')"
      ]
     },
     "execution_count": 33,
     "metadata": {},
     "output_type": "execute_result"
    },
    {
     "data": {
      "image/png": "[encoded data removed]",
      "text/plain": [
       "<Figure size 432x288 with 1 Axes>"
      ]
     },
     "metadata": {
      "needs_background": "light"
     },
     "output_type": "display_data"
    }
   ],
   "source": [
    "sns.barplot(y=importances.index[:10], x=importances['importance'][:10])\n",
    "plt.title('Top 10 features')\n",
    "plt.ylabel('Token')"
   ]
  },
  {
   "cell_type": "markdown",
   "metadata": {},
   "source": [
    "### Evaluating MSR model on new data"
   ]
  },
  {
   "cell_type": "code",
   "execution_count": 9,
   "metadata": {},
   "outputs": [],
   "source": [
    "new_data = pd.read_csv('data/new_dataset.csv')\n",
    "new_data['processed_token'] = pp.preprocess_tokens(new_data)\n",
    "y_new = new_data['class']\n",
    "new_data = new_data.drop(columns=['class'])"
   ]
  },
  {
   "cell_type": "code",
   "execution_count": 10,
   "metadata": {},
   "outputs": [
    {
     "name": "stderr",
     "output_type": "stream",
     "text": [
      "c:\\users\\aian\\appdata\\local\\programs\\python\\python37\\lib\\site-packages\\ipykernel_launcher.py:3: FutureWarning: DataFrame.to_sparse is deprecated and will be removed in a future version\n",
      "  This is separate from the ipykernel package so we can avoid doing imports until\n",
      "c:\\users\\aian\\appdata\\local\\programs\\python\\python37\\lib\\site-packages\\pandas\\core\\frame.py:3456: FutureWarning: SparseSeries is deprecated and will be removed in a future version.\n",
      "Use a Series with sparse values instead.\n",
      "\n",
      "    >>> series = pd.Series(pd.SparseArray(...))\n",
      "\n",
      "See http://pandas.pydata.org/pandas-docs/stable/user_guide/sparse.html#migrating for more.\n",
      "\n",
      "  return klass(values, index=self.index, name=items, fastpath=True)\n"
     ]
    },
    {
     "name": "stdout",
     "output_type": "stream",
     "text": [
      "              precision    recall  f1-score   support\n",
      "\n",
      "           0       0.63      0.48      0.54       724\n",
      "           1       0.59      0.72      0.64       737\n",
      "\n",
      "    accuracy                           0.60      1461\n",
      "   macro avg       0.61      0.60      0.59      1461\n",
      "weighted avg       0.61      0.60      0.60      1461\n",
      "\n"
     ]
    }
   ],
   "source": [
    "X_new = msr_vectorizer.transform(new_data['processed_token'])\n",
    "sparse_matrix_new = pd.DataFrame(X_new.toarray(), columns = msr_vectorizer.get_feature_names())\n",
    "sparse_matrix_new = sparse_matrix_new.to_sparse()\n",
    "#X_new_count = pp.concat_loc_sum(sparse_matrix_new, new_data)\n",
    "\n",
    "new_preds = msr_model.predict(sparse_matrix_new)\n",
    "print(classification_report(y_new, new_preds))"
   ]
  },
  {
   "cell_type": "markdown",
   "metadata": {},
   "source": [
    "## Using thesaurus synonims"
   ]
  },
  {
   "cell_type": "code",
   "execution_count": 18,
   "metadata": {},
   "outputs": [],
   "source": [
    "msr_data = pd.read_csv('data/msr_dataset.csv', encoding = 'ANSI')\n",
    "msr_data['processed_token'] = pp.preprocess_tokens(msr_data, synset_option=1)\n",
    "y_msr = msr_data['class']\n",
    "msr = msr_data.drop(columns=['class'])"
   ]
  },
  {
   "cell_type": "code",
   "execution_count": 19,
   "metadata": {},
   "outputs": [
    {
     "name": "stdout",
     "output_type": "stream",
     "text": [
      "              precision    recall  f1-score   support\n",
      "\n",
      "           0       0.92      0.98      0.95       283\n",
      "           1       0.97      0.91      0.94       278\n",
      "\n",
      "    accuracy                           0.94       561\n",
      "   macro avg       0.95      0.94      0.94       561\n",
      "weighted avg       0.95      0.94      0.94       561\n",
      "\n"
     ]
    }
   ],
   "source": [
    "X_train, X_test, y_train, y_test = train_test_split(msr, y_msr, train_size=0.8, \n",
    "                                                    random_state=33, shuffle=True)\n",
    "\n",
    "msr_vectorizer = CountVectorizer()\n",
    "\n",
    "bow_train = msr_vectorizer.fit_transform(X_train['processed_token'])\n",
    "sparse_matrix_train = pd.DataFrame(bow_train.toarray(), columns = msr_vectorizer.get_feature_names())\n",
    "X_train_count = pp.concat_loc_sum(sparse_matrix_train, X_train)\n",
    "\n",
    "bow_test = msr_vectorizer.transform(X_test['processed_token'])\n",
    "sparse_matrix_test = pd.DataFrame(bow_test.toarray(), columns = msr_vectorizer.get_feature_names())\n",
    "X_test_count = pp.concat_loc_sum(sparse_matrix_test, X_test)\n",
    "\n",
    "msr_model = RandomForestClassifier(random_state=33)\n",
    "msr_model.fit(X_train_count, y_train)\n",
    "preds = msr_model.predict(X_test_count)\n",
    "\n",
    "print(classification_report(y_test, preds))"
   ]
  },
  {
   "cell_type": "code",
   "execution_count": 20,
   "metadata": {},
   "outputs": [
    {
     "data": {
      "image/png": "[encoded data removed]",
      "text/plain": [
       "<Figure size 432x288 with 1 Axes>"
      ]
     },
     "metadata": {
      "needs_background": "light"
     },
     "output_type": "display_data"
    }
   ],
   "source": [
    "roc = plot_roc_curve(msr_model, X_test_count, y_test)"
   ]
  },
  {
   "cell_type": "code",
   "execution_count": 21,
   "metadata": {},
   "outputs": [
    {
     "data": {
      "text/html": [
       "<div>\n",
       "<style scoped>\n",
       "    .dataframe tbody tr th:only-of-type {\n",
       "        vertical-align: middle;\n",
       "    }\n",
       "\n",
       "    .dataframe tbody tr th {\n",
       "        vertical-align: top;\n",
       "    }\n",
       "\n",
       "    .dataframe thead th {\n",
       "        text-align: right;\n",
       "    }\n",
       "</style>\n",
       "<table border=\"1\" class=\"dataframe\">\n",
       "  <thead>\n",
       "    <tr style=\"text-align: right;\">\n",
       "      <th></th>\n",
       "      <th>importance</th>\n",
       "    </tr>\n",
       "  </thead>\n",
       "  <tbody>\n",
       "    <tr>\n",
       "      <td>services</td>\n",
       "      <td>0.014499</td>\n",
       "    </tr>\n",
       "    <tr>\n",
       "      <td>jobf</td>\n",
       "      <td>0.012866</td>\n",
       "    </tr>\n",
       "    <tr>\n",
       "      <td>tabele</td>\n",
       "      <td>0.011417</td>\n",
       "    </tr>\n",
       "    <tr>\n",
       "      <td>loc</td>\n",
       "      <td>0.008101</td>\n",
       "    </tr>\n",
       "    <tr>\n",
       "      <td>anction</td>\n",
       "      <td>0.007904</td>\n",
       "    </tr>\n",
       "    <tr>\n",
       "      <td>actions</td>\n",
       "      <td>0.007840</td>\n",
       "    </tr>\n",
       "    <tr>\n",
       "      <td>coord</td>\n",
       "      <td>0.006929</td>\n",
       "    </tr>\n",
       "    <tr>\n",
       "      <td>clustera</td>\n",
       "      <td>0.006501</td>\n",
       "    </tr>\n",
       "    <tr>\n",
       "      <td>oozies</td>\n",
       "      <td>0.006274</td>\n",
       "    </tr>\n",
       "    <tr>\n",
       "      <td>getiid</td>\n",
       "      <td>0.005965</td>\n",
       "    </tr>\n",
       "    <tr>\n",
       "      <td>clusterf</td>\n",
       "      <td>0.005718</td>\n",
       "    </tr>\n",
       "    <tr>\n",
       "      <td>ooozie</td>\n",
       "      <td>0.005716</td>\n",
       "    </tr>\n",
       "    <tr>\n",
       "      <td>worfkflow</td>\n",
       "      <td>0.005610</td>\n",
       "    </tr>\n",
       "    <tr>\n",
       "      <td>gets</td>\n",
       "      <td>0.005409</td>\n",
       "    </tr>\n",
       "    <tr>\n",
       "      <td>getfilesystem</td>\n",
       "      <td>0.005372</td>\n",
       "    </tr>\n",
       "  </tbody>\n",
       "</table>\n",
       "</div>"
      ],
      "text/plain": [
       "               importance\n",
       "services         0.014499\n",
       "jobf             0.012866\n",
       "tabele           0.011417\n",
       "loc              0.008101\n",
       "anction          0.007904\n",
       "actions          0.007840\n",
       "coord            0.006929\n",
       "clustera         0.006501\n",
       "oozies           0.006274\n",
       "getiid           0.005965\n",
       "clusterf         0.005718\n",
       "ooozie           0.005716\n",
       "worfkflow        0.005610\n",
       "gets             0.005409\n",
       "getfilesystem    0.005372"
      ]
     },
     "execution_count": 21,
     "metadata": {},
     "output_type": "execute_result"
    }
   ],
   "source": [
    "importances = pd.DataFrame(msr_model.feature_importances_, index = X_train_count.columns,\n",
    "                            columns=['importance']).sort_values('importance', ascending=False)\n",
    "\n",
    "importances[:15]"
   ]
  },
  {
   "cell_type": "code",
   "execution_count": 22,
   "metadata": {},
   "outputs": [
    {
     "data": {
      "text/plain": [
       "Text(0, 0.5, 'Token')"
      ]
     },
     "execution_count": 22,
     "metadata": {},
     "output_type": "execute_result"
    },
    {
     "data": {
      "image/png": "[encoded data removed]",
      "text/plain": [
       "<Figure size 432x288 with 1 Axes>"
      ]
     },
     "metadata": {
      "needs_background": "light"
     },
     "output_type": "display_data"
    }
   ],
   "source": [
    "sns.barplot(y=importances.index[:10], x=importances['importance'][:10])\n",
    "plt.title('Top 10 features')\n",
    "plt.ylabel('Token')"
   ]
  },
  {
   "cell_type": "markdown",
   "metadata": {},
   "source": [
    "### Evaluating MSR model on new data"
   ]
  },
  {
   "cell_type": "code",
   "execution_count": 23,
   "metadata": {},
   "outputs": [],
   "source": [
    "new_data = pd.read_csv('data/new_dataset.csv')\n",
    "new_data['processed_token'] = pp.preprocess_tokens(new_data, synset_option=1)\n",
    "y_new = new_data['class']\n",
    "new_data = new_data.drop(columns=['class'])"
   ]
  },
  {
   "cell_type": "code",
   "execution_count": 24,
   "metadata": {},
   "outputs": [
    {
     "name": "stdout",
     "output_type": "stream",
     "text": [
      "              precision    recall  f1-score   support\n",
      "\n",
      "           0       0.50      0.98      0.67       724\n",
      "           1       0.74      0.06      0.11       737\n",
      "\n",
      "    accuracy                           0.51      1461\n",
      "   macro avg       0.62      0.52      0.39      1461\n",
      "weighted avg       0.62      0.51      0.38      1461\n",
      "\n"
     ]
    }
   ],
   "source": [
    "X_new = msr_vectorizer.transform(new_data['processed_token'])\n",
    "sparse_matrix_new = pd.DataFrame(X_new.toarray(), columns = msr_vectorizer.get_feature_names())\n",
    "X_new_count = pp.concat_loc_sum(sparse_matrix_new, new_data)\n",
    "\n",
    "new_preds = msr_model.predict(X_new_count)\n",
    "print(classification_report(y_new, new_preds))"
   ]
  }
 ],
 "metadata": {
  "kernelspec": {
   "display_name": "Python 3",
   "language": "python",
   "name": "python3"
  },
  "language_info": {
   "codemirror_mode": {
    "name": "ipython",
    "version": 3
   },
   "file_extension": ".py",
   "mimetype": "text/x-python",
   "name": "python",
   "nbconvert_exporter": "python",
   "pygments_lexer": "ipython3",
   "version": "3.7.4"
  }
 },
 "nbformat": 4,
 "nbformat_minor": 4
}
