{
 "cells": [
  {
   "cell_type": "markdown",
   "metadata": {},
   "source": [
    "This approach substitutes a token in a test case by it's synonym, the thesaurus below lists the token:synonym data. Every token in each test case is analysed and, if it is in the thesaurus, the replacement by it's synonym is done.\n",
    "\n",
    "The ideia behind is that if we have more broad words that could help the model classify as flaky or not."
   ]
  },
  {
   "cell_type": "code",
   "execution_count": 1,
   "metadata": {},
   "outputs": [],
   "source": [
    "from sklearn.model_selection import train_test_split\n",
    "from sklearn.naive_bayes import MultinomialNB, ComplementNB\n",
    "from sklearn.feature_extraction.text import CountVectorizer, TfidfVectorizer\n",
    "from sklearn.metrics import f1_score\n",
    "from sklearn.metrics import plot_roc_curve\n",
    "from sklearn.metrics import classification_report\n",
    "from nltk.tokenize import word_tokenize\n",
    "from sklearn.pipeline import Pipeline\n",
    "import pandas as pd\n",
    "import numpy as np\n",
    "import seaborn as sns\n",
    "import re\n",
    "from matplotlib import pyplot as plt\n",
    "import preprocessing as pp"
   ]
  },
  {
   "cell_type": "code",
   "execution_count": 2,
   "metadata": {},
   "outputs": [],
   "source": [
    "thesaurus = {\n",
    "    \"services\":\"network web\",\n",
    "    \"service\":\"network web\",\n",
    "    \"client\":\"network\",\n",
    "    \"table\":\"database\",\n",
    "    \"thread\":\"concurrency\",\n",
    "    \"id\":\"database\",\n",
    "    \"server\":\"network\",\n",
    "    \"call\":\" \",\n",
    "    \"action\":\"concurrency\",\n",
    "    \"cluster\":\"network node\",\n",
    "    \"node\":\"network\",\n",
    "    \"nodes\":\"network\",\n",
    "    \"job\":\"concurrency\",\n",
    "    \"jobs\":\"concurrency\",\n",
    "    \"job1\":\"concurrency\",\n",
    "    \"job2\":\"concurrency\",\n",
    "    \"coordinator\":\"concurrency\",\n",
    "    \"nodes\":\"network\",\n",
    "    \"block\":\"io\",\n",
    "    \"get\":\"network\",\n",
    "    \"runtest\":\"test\",\n",
    "    \"row\":\"database\",\n",
    "    \"enqueue\":\"stack\",\n",
    "    \"oozie\":\" \",\n",
    "    \"coord\":\" \",\n",
    "    \"url\":\"web network\",\n",
    "    \"geturl\":\"web network\",\n",
    "    \"assert\":\" \",\n",
    "    \"fs\":\"io file\",\n",
    "    \"assertequals\":\" \",\n",
    "    \"assertsame\":\" \",\n",
    "    \"assertthat\":\" \",\n",
    "    \"asserttrue\":\" \",\n",
    "    \"assertnotnull\":\" \",\n",
    "    \"assertnull\":\" \",\n",
    "    \"assertfalse\":\" \",\n",
    "    \"testscan\":\" \",\n",
    "    \"run\":\"concurrency\",\n",
    "    \"file\":\"file io\",\n",
    "    \"http\":\"web network\",\n",
    "    \"httprequest\":\"web network\",\n",
    "    \"createrequest\":\"web network\",\n",
    "    \"request\":\"web network\",\n",
    "    \"bytes\":\"database\",\n",
    "    \"tobyte\":\"database\",\n",
    "    \"tobytes\":\"database\",\n",
    "    \"tostring\":\"string\",\n",
    "    \"foo\":\" \",\n",
    "    \"value\":\" \",\n",
    "    \"connection\":\"network database\",\n",
    "    \"createtable\":\"database\",\n",
    "    \"createfile\":\"file io\",\n",
    "    \"mkdir\":\"io\",\n",
    "    \"xml\":\"file\",\n",
    "    \"sleep\":\"concurrency\",\n",
    "    \"insert\":\"database\",\n",
    "    \"log\":\"file io\",\n",
    "    \"close\":\"file network database\",\n",
    "    \"currenttimemillis\":\"time\",\n",
    "    \"timeunit\":\"time\",\n",
    "    \"mock\":\" \",\n",
    "    \"record\":\"database\",\n",
    "    \"getfilesystem\":\"file io\",\n",
    "    \"workflow\":\"concurrency\",\n",
    "    \"worklfow\":\"concurrency\",\n",
    "    \"system\":\"io\",\n",
    "    \"controller\":\"concurrency\",\n",
    "    \"runtestscenarioconnect\":\" \",\n",
    "    \"readjsonfile\":\"io\",\n",
    "    \"test1\":\" \",\n",
    "    \"test\":\" \",\n",
    "    \"open\":\"file io\",\n",
    "    \"gettime\":\"time\",\n",
    "    \"function\":\" \",\n",
    "    \"getendpointbean\":\" \",\n",
    "    \"wf\":\" \",\n",
    "    \"dir\":\"io\",\n",
    "    \"path\":\"file io\",\n",
    "    \"mtfs\":\" \",\n",
    "    \"the\":\" \",\n",
    "    \"name\":\" \",\n",
    "    \"have\":\" \",\n",
    "    \"not\":\" \",\n",
    "    \"is\":\" \",\n",
    "    \"user\":\" \",\n",
    "    \"be\":\" \",\n",
    "    \"off\":\" \",\n",
    "    \"been\":\" \",\n",
    "    \"context\":\" \",\n",
    "    \"ok\":\" \",\n",
    "    \"next\":\" \",\n",
    "    \"len\":\" \",\n",
    "    \"in\":\" \",\n",
    "    \"to\":\" \",\n",
    "    \"end\":\" \",\n",
    "    \"and\":\" \",\n",
    "    \"of\":\" \",\n",
    "    \"equals\":\" \",\n",
    "    \"should\":\" \",\n",
    "    \"createconnection\":\"network\",\n",
    "    \"count\":\" \",\n",
    "    \"tablename\":\"database\",\n",
    "    \"column\":\"database\",\n",
    "    \"serverport\":\"network\",\n",
    "    \"getsockettimeout\":\"network\",\n",
    "    \"host\":\"network\",\n",
    "    \"pool\":\"network database\",\n",
    "    \"assertjob\":\" \",\n",
    "    \"gethttpconnectioncount\":\"web network\",\n",
    "    \"getcolumn\":\"database\",\n",
    "    \"getcolumns\":\"database\",\n",
    "    \"columnnames\":\"database\",\n",
    "    \"createcolumn\":\"database\",\n",
    "    \"hostname\":\"network\",\n",
    "    \"host1\":\"network\",\n",
    "    \"tostrings\":\"string\",\n",
    "    \"testutils\":\" \",\n",
    "    \"testfile\":\"io\",\n",
    "    \"rows\":\"database\",\n",
    "    \"method\":\" \"\n",
    "}"
   ]
  },
  {
   "cell_type": "code",
   "execution_count": 4,
   "metadata": {},
   "outputs": [],
   "source": [
    "def document_to_synonims(document):\n",
    "    '''Replaces tokens of a document by its synonims/semantic related words.\n",
    "        Synset_option: 1 = synonyms \n",
    "                       2 = semantic related words'''\n",
    "    \n",
    "    synset = []\n",
    "    for word in document:\n",
    "        terms = thesaurus.get(word)    \n",
    "        if bool(terms):   \n",
    "            synset.append(terms)\n",
    "        else:\n",
    "            synset.append(word)\n",
    "            \n",
    "    return ' '.join(map(str, synset))\n",
    "\n",
    "\n",
    "def preprocess_tokens(data):\n",
    "    '''Tokenizes each document before replacing synonims.\n",
    "        Returns: list of processed documents'''\n",
    "    \n",
    "    processed_tokens = [] \n",
    "    for row in data['clean_token']:\n",
    "        tokenized_row = word_tokenize(row)\n",
    "        processed_row = document_to_synonims(tokenized_row)\n",
    "        processed_tokens.append(processed_row)\n",
    "        \n",
    "    return processed_tokens\n",
    "\n",
    "def preprocess(token):\n",
    "    token = str(token) \n",
    "    token_lowered = token.lower()\n",
    "    \n",
    "    #any url turns into urllink\n",
    "    url_pattern = '(https?:\\/\\/(?:www\\.|(?!www))[a-zA-Z0-9][a-zA-Z0-9-]+[a-zA-Z0-9]\\.[^\\s]{2,}|www\\.[a-zA-Z0-9][a-zA-Z0-9-]+[a-zA-Z0-9]\\.[^\\s]{2,}|https?:\\/\\/(?:www\\.|(?!www))[a-zA-Z0-9]+\\.[^\\s]{2,}|www\\.[a-zA-Z0-9]+\\.[^\\s]{2,})'\n",
    "    token_url = re.sub(url_pattern, 'urllink', token_lowered)\n",
    "    \n",
    "    #any date to 'date'\n",
    "    date_pattern = '([12]\\d{3}/(0[1-9]|1[0-2])/(0[1-9]|[12]\\d|3[01]))|([12]\\d{3}-(0[1-9]|1[0-2])-(0[1-9]|[12]\\d|3[01]))|([12]\\d{3}/(0[1-9]|1[0-2])/(0[1-9]|[12]\\d|3[01]))'\n",
    "    token_dates = re.sub(date_pattern, 'date', token_url)\n",
    "    \n",
    "    #any ip to ipaddrezz\n",
    "    ip_pattern = '(([0-9]|[1-9][0-9]|1[0-9]{2}|2[0-4][0-9]|25[0-5])\\.){3}([0-9]|[1-9][0-9]|1[0-9]{2}|2[0-4][0-9]|25[0-5])'\n",
    "    token_ip = re.sub(ip_pattern, ' ipaddrezz ', token_dates)\n",
    "    \n",
    "    #removing number\n",
    "    token_num = re.sub(r'\\b[0-9]+\\b', ' ', token_ip)\n",
    "    \n",
    "    #removing special characters that aren't letters or numbers \n",
    "    special_character_pattern = '[^A-Za-z0-9]+'\n",
    "    token_char = re.sub(special_character_pattern, ' ', token_num)\n",
    "    \n",
    "    return token_char"
   ]
  },
  {
   "cell_type": "markdown",
   "metadata": {},
   "source": [
    "### Loading data"
   ]
  },
  {
   "cell_type": "code",
   "execution_count": 5,
   "metadata": {},
   "outputs": [],
   "source": [
    "msr_data = pd.read_csv('data/msr/raw_msr_dataset.csv', encoding = 'ANSI', index_col=False)\n",
    "msr_data['clean_token'] = msr_data['token'].map(lambda s:preprocess(s)) \n",
    "msr_data['processed_token'] = preprocess_tokens(msr_data)\n",
    "y_msr = msr_data['class']\n",
    "msr = msr_data.drop(columns=['class'])\n",
    "\n",
    "X_train, X_test, y_train, y_test = train_test_split(msr_data['processed_token'], y_msr, \n",
    "                                                    train_size=0.8, random_state=33, shuffle=True)"
   ]
  },
  {
   "cell_type": "code",
   "execution_count": 6,
   "metadata": {},
   "outputs": [
    {
     "data": {
      "text/plain": [
       "1407    check for resolved conf e concurrency network ...\n",
       "865     add network def   invalid execution file io on...\n",
       "1528    property had invalid int   but was read succes...\n",
       "328     a a cc e e gg i i m m q q u u y y kk oo ss ww ...\n",
       "1690    network web network database start network add...\n",
       "                              ...                        \n",
       "57        equal   false equal   true network join jms ...\n",
       "2706    network instances set network     network inst...\n",
       "578     network web network database network address a...\n",
       "1752    monotonic now increment   network file io warn...\n",
       "2439    aap sg qaaad 0o eaaaa kbaaaap sg qaaad 0o eaaa...\n",
       "Name: processed_token, Length: 2243, dtype: object"
      ]
     },
     "execution_count": 6,
     "metadata": {},
     "output_type": "execute_result"
    }
   ],
   "source": [
    "X_train"
   ]
  },
  {
   "cell_type": "code",
   "execution_count": 8,
   "metadata": {},
   "outputs": [],
   "source": [
    "new_data = pd.read_csv('data/new/raw_new_dataset.csv')\n",
    "new_data['clean_token'] = new_data['token'].map(lambda t:preprocess(t)) \n",
    "new_data['processed_token'] = preprocess_tokens(new_data)\n",
    "y_new = new_data['class']\n",
    "new_data = new_data.drop(columns=['class'])"
   ]
  },
  {
   "cell_type": "code",
   "execution_count": 9,
   "metadata": {},
   "outputs": [],
   "source": [
    "def plot_word_count(data, n):\n",
    "    counter = CountVectorizer()\n",
    "    bow = counter.fit_transform(data)\n",
    "    sparse_matrix = pd.DataFrame(bow.toarray(), columns = counter.get_feature_names())\n",
    "    counts = sparse_matrix.sum().sort_values(ascending=False)\n",
    "\n",
    "    sns.barplot(x=counts.index[:n], y=counts.values[:n], palette='Blues_d')\n",
    "    plt.xticks(rotation=90)\n",
    "    plt.title('Word frequency in corpus')"
   ]
  },
  {
   "cell_type": "code",
   "execution_count": 10,
   "metadata": {},
   "outputs": [
    {
     "data": {
      "image/png": "[encoded data removed]",
      "text/plain": [
       "<Figure size 432x288 with 1 Axes>"
      ]
     },
     "metadata": {
      "needs_background": "light"
     },
     "output_type": "display_data"
    }
   ],
   "source": [
    "plot_word_count(msr_data['processed_token'], n=40)"
   ]
  },
  {
   "cell_type": "code",
   "execution_count": 11,
   "metadata": {},
   "outputs": [
    {
     "data": {
      "image/png": "[encoded data removed]",
      "text/plain": [
       "<Figure size 432x288 with 1 Axes>"
      ]
     },
     "metadata": {
      "needs_background": "light"
     },
     "output_type": "display_data"
    }
   ],
   "source": [
    "plot_word_count(new_data['processed_token'], n=40)"
   ]
  },
  {
   "cell_type": "code",
   "execution_count": 13,
   "metadata": {},
   "outputs": [
    {
     "data": {
      "text/plain": [
       "0       subject logger header synchronous setlayout er...\n",
       "1       subject logger header synchronous setlayout er...\n",
       "2       msg getclass debug getname mp getbody logger s...\n",
       "3       html getclass font color red b b font msg2 fon...\n",
       "4       msg d w d d d w getname logger getmessagelist ...\n",
       "                              ...                        \n",
       "1456    fail       invalid delta tuserinfo constructor...\n",
       "1457    min   addownbytes   max   tuserinfo generaltes...\n",
       "1458    min     max   tuserinfo getuseridtest   k getu...\n",
       "1459                        tuserinfo timeouttest timeout\n",
       "1460    userinfo   database mownbytes mlastheartbeatms...\n",
       "Name: processed_token, Length: 1461, dtype: object"
      ]
     },
     "execution_count": 13,
     "metadata": {},
     "output_type": "execute_result"
    }
   ],
   "source": [
    "new_data['processed_token']"
   ]
  },
  {
   "cell_type": "code",
   "execution_count": 14,
   "metadata": {},
   "outputs": [
    {
     "data": {
      "image/png": "[encoded data removed]",
      "text/plain": [
       "<Figure size 432x288 with 1 Axes>"
      ]
     },
     "metadata": {
      "needs_background": "light"
     },
     "output_type": "display_data"
    }
   ],
   "source": [
    "def plot_sample_length_distribution(sample_texts):\n",
    "    \"\"\"Plots the sample length distribution.\n",
    "\n",
    "    # Arguments\n",
    "        samples_texts: list, sample texts.\n",
    "    \"\"\"\n",
    "    plt.hist([len(s) for s in sample_texts], 50)\n",
    "    plt.xlabel('Length of a sample')\n",
    "    plt.ylabel('Number of samples')\n",
    "    plt.title('Sample length distribution')\n",
    "    plt.show()\n",
    "    \n",
    "plot_sample_length_distribution(msr_data['processed_token'])"
   ]
  },
  {
   "cell_type": "code",
   "execution_count": 15,
   "metadata": {},
   "outputs": [
    {
     "data": {
      "image/png": "[encoded data removed]",
      "text/plain": [
       "<Figure size 432x288 with 1 Axes>"
      ]
     },
     "metadata": {
      "needs_background": "light"
     },
     "output_type": "display_data"
    }
   ],
   "source": [
    "plot_sample_length_distribution(new_data['processed_token'])"
   ]
  },
  {
   "cell_type": "code",
   "execution_count": 16,
   "metadata": {},
   "outputs": [
    {
     "data": {
      "text/plain": [
       "78.0"
      ]
     },
     "execution_count": 16,
     "metadata": {},
     "output_type": "execute_result"
    }
   ],
   "source": [
    "def get_num_words_per_sample(sample_texts):\n",
    "    \"\"\"Returns the median number of words per sample given corpus.\n",
    "\n",
    "    # Arguments\n",
    "        sample_texts: list, sample texts.\n",
    "\n",
    "    # Returns\n",
    "        int, median number of words per sample.\n",
    "    \"\"\"\n",
    "    num_words = [len(s.split()) for s in sample_texts]\n",
    "    return np.median(num_words)\n",
    "\n",
    "get_num_words_per_sample(msr_data['processed_token'])"
   ]
  },
  {
   "cell_type": "code",
   "execution_count": 17,
   "metadata": {},
   "outputs": [
    {
     "data": {
      "text/plain": [
       "15.0"
      ]
     },
     "execution_count": 17,
     "metadata": {},
     "output_type": "execute_result"
    }
   ],
   "source": [
    "get_num_words_per_sample(new_data['processed_token'])"
   ]
  },
  {
   "cell_type": "markdown",
   "metadata": {},
   "source": [
    "###  Model cross-validation"
   ]
  },
  {
   "cell_type": "code",
   "execution_count": 22,
   "metadata": {},
   "outputs": [
    {
     "name": "stdout",
     "output_type": "stream",
     "text": [
      "Accuracy: 0.92 (+/- 0.02)\n"
     ]
    }
   ],
   "source": [
    "from sklearn.model_selection import cross_val_score\n",
    "\n",
    "text_clf = Pipeline([\n",
    "                      ('vectorizer', CountVectorizer(stop_words='english')),\n",
    "                      ('model', MultinomialNB())])\n",
    "\n",
    "scores = cross_val_score(text_clf, msr_data['processed_token'], y_msr, cv=5)\n",
    "print(\"Accuracy: %0.2f (+/- %0.2f)\" % (scores.mean(), scores.std() * 2))"
   ]
  },
  {
   "cell_type": "markdown",
   "metadata": {},
   "source": [
    "### Training model"
   ]
  },
  {
   "cell_type": "code",
   "execution_count": 24,
   "metadata": {
    "jupyter": {
     "outputs_hidden": true
    }
   },
   "outputs": [
    {
     "data": {
      "text/plain": [
       "Pipeline(steps=[('vectorizer', CountVectorizer(stop_words='english')),\n",
       "                ('model', MultinomialNB())])"
      ]
     },
     "execution_count": 24,
     "metadata": {},
     "output_type": "execute_result"
    }
   ],
   "source": [
    "text_clf.fit(msr_data['processed_token'], y_msr)"
   ]
  },
  {
   "cell_type": "markdown",
   "metadata": {},
   "source": [
    "### Evaluating model on new data"
   ]
  },
  {
   "cell_type": "code",
   "execution_count": 26,
   "metadata": {},
   "outputs": [
    {
     "name": "stdout",
     "output_type": "stream",
     "text": [
      "              precision    recall  f1-score   support\n",
      "\n",
      "           0       0.54      0.45      0.49       724\n",
      "           1       0.53      0.62      0.58       737\n",
      "\n",
      "    accuracy                           0.54      1461\n",
      "   macro avg       0.54      0.54      0.53      1461\n",
      "weighted avg       0.54      0.54      0.53      1461\n",
      "\n",
      "f1 0.5755485893416927\n"
     ]
    }
   ],
   "source": [
    "new_preds = text_clf.predict(new_data['processed_token'])\n",
    "print(classification_report(y_new, new_preds))\n",
    "print('f1', f1_score(y_new, new_preds))"
   ]
  },
  {
   "cell_type": "code",
   "execution_count": 28,
   "metadata": {},
   "outputs": [
    {
     "name": "stdout",
     "output_type": "stream",
     "text": [
      "-2.6349012395876397 network\n",
      "-2.8582570375332317 concurrency\n",
      "-3.2757878517848926 io\n",
      "-3.323136902102492 file\n",
      "-3.543159799764531 database\n",
      "-4.264056893277378 web\n",
      "-4.658543524959219 set\n",
      "-4.891043492327884 date\n",
      "-4.9737910975121205 add\n",
      "-4.986191610710576 conf\n",
      "-5.014209710960147 create\n",
      "-5.191229125339068 time\n",
      "-5.224602634155574 app\n",
      "-5.312025449126733 start\n",
      "-5.358780648205795 data\n",
      "-5.399710453625837 status\n",
      "-5.453702804982552 fail\n",
      "-5.5274825675167865 bundle\n",
      "-5.603831238762376 execute\n",
      "-5.6188190297278675 string\n",
      "-5.654689655995867 true\n",
      "-5.6955116505161225 size\n",
      "-5.717490557234897 property\n",
      "-5.796453601041699 purged\n",
      "-5.804501934224527 check\n",
      "-5.841543205904876 uri\n",
      "-5.869175144566962 write\n",
      "-5.875661653796569 node\n",
      "-5.899812114028852 null\n",
      "-5.968804985515804 instance\n",
      "-5.97118877687108 utils\n",
      "-5.978374436531954 error\n",
      "-5.990466482296983 list\n",
      "-6.012607608174196 case\n",
      "-6.025123416106027 expected\n",
      "-6.0741655011736295 input\n",
      "-6.079470553403323 init\n",
      "-6.079470553403323 cmd\n",
      "-6.084803899378685 delete\n",
      "-6.095556691154948 info\n",
      "-6.120181738460337 new\n",
      "-6.1369419073178015 type\n",
      "-6.1539877745907905 contains\n",
      "-6.191948536830013 update\n",
      "-6.206941321416155 configuration\n",
      "-6.213001946027846 build\n",
      "-6.22216231542651 wait\n",
      "-6.237618573663202 dfs\n",
      "-6.250157922915937 exception\n",
      "-6.253317483206305 stream\n",
      "-6.272487399314025 map\n",
      "-6.311966210287813 shutdown\n",
      "-6.339178773812698 long\n",
      "-6.342633008680785 simple\n",
      "-6.346099216657271 getid\n",
      "-6.367152625855104 message\n",
      "-6.367152625855104 evaluate\n",
      "-6.374270093623968 code\n",
      "-6.377847914971852 hcat\n",
      "-6.377847914971852 00z\n",
      "-6.385042190605879 false\n",
      "-6.436905664615453 current\n",
      "-6.440715193032121 parse\n",
      "-6.44837806577769 local\n",
      "-6.44837806577769 java\n",
      "-6.4561001118716 dataset\n",
      "-6.475670208065697 verify\n",
      "-6.479630609281794 region\n",
      "-6.483606757661434 event\n",
      "-6.495630950628235 getstatus\n",
      "-6.520121970636531 tracker\n",
      "-6.5367890231217425 read\n",
      "-6.545227891767607 enabled\n",
      "-6.545227891767607 default\n",
      "-6.562322325126908 num\n",
      "-6.562322325126908 key\n",
      "-6.566641986271424 jpa\n",
      "-6.592959294588797 tmp\n",
      "-6.592959294588797 session\n",
      "-6.597413644938178 destroy\n",
      "-6.601887925333099 sla\n",
      "-6.610896995275465 action1\n",
      "-6.6154321504408555 submit\n",
      "-6.6199879669767165 response\n",
      "-6.638421668665555 jar\n",
      "-6.643083681771366 events\n",
      "-6.652473422121205 hdfs\n",
      "-6.666725444828407 actions\n",
      "-6.676340903527849 exists\n",
      "-6.705754788734142 security\n",
      "-6.705754788734142 script\n",
      "-6.705754788734142 jpaservice\n",
      "-6.705754788734142 arrays\n",
      "-6.710742330245181 files\n",
      "-6.715754872068725 group\n",
      "-6.720792666098682 class\n",
      "-6.725855968055229 mkdirs\n",
      "-6.741201537729889 servlet\n",
      "-6.746369507888332 manager\n",
      "-6.751564324765436 template\n"
     ]
    }
   ],
   "source": [
    "def show_most_informative_features(vectorizer, clf, n=100):\n",
    "    feature_names = vectorizer.get_feature_names()\n",
    "    coefs_with_fns = sorted(zip(clf.coef_[0], feature_names))\n",
    "    top = zip(coefs_with_fns[:n], coefs_with_fns[:-(n + 1):-1])\n",
    "    \n",
    "    for (coef_1, fn_1), (coef_2, fn_2) in top:\n",
    "        #print(\"\\t%.4f\\t%-15s\\t\\t%.4f\\t%-15s\" % (coef_1, fn_1, coef_2, fn_2))\n",
    "        print(coef_2, fn_2)\n",
    "        \n",
    "show_most_informative_features(text_clf['vectorizer'], text_clf['model'])"
   ]
  },
  {
   "cell_type": "markdown",
   "metadata": {},
   "source": [
    "### Experimenting with RandomForest"
   ]
  },
  {
   "cell_type": "code",
   "execution_count": 29,
   "metadata": {},
   "outputs": [
    {
     "name": "stdout",
     "output_type": "stream",
     "text": [
      "              precision    recall  f1-score   support\n",
      "\n",
      "           0       0.93      0.96      0.94       283\n",
      "           1       0.96      0.92      0.94       278\n",
      "\n",
      "    accuracy                           0.94       561\n",
      "   macro avg       0.94      0.94      0.94       561\n",
      "weighted avg       0.94      0.94      0.94       561\n",
      "\n"
     ]
    }
   ],
   "source": [
    "from sklearn.ensemble import RandomForestClassifier\n",
    "\n",
    "text_clf2 = Pipeline([\n",
    "    ('vectorizer', CountVectorizer(max_features=1000)),\n",
    "    ('model', RandomForestClassifier())])\n",
    "\n",
    "text_clf2.fit(X_train, y_train)\n",
    "preds = text_clf2.predict(X_test)\n",
    "print(classification_report(y_test, preds))"
   ]
  },
  {
   "cell_type": "code",
   "execution_count": 30,
   "metadata": {},
   "outputs": [
    {
     "data": {
      "text/html": [
       "<div>\n",
       "<style scoped>\n",
       "    .dataframe tbody tr th:only-of-type {\n",
       "        vertical-align: middle;\n",
       "    }\n",
       "\n",
       "    .dataframe tbody tr th {\n",
       "        vertical-align: top;\n",
       "    }\n",
       "\n",
       "    .dataframe thead th {\n",
       "        text-align: right;\n",
       "    }\n",
       "</style>\n",
       "<table border=\"1\" class=\"dataframe\">\n",
       "  <thead>\n",
       "    <tr style=\"text-align: right;\">\n",
       "      <th></th>\n",
       "      <th>importance</th>\n",
       "    </tr>\n",
       "  </thead>\n",
       "  <tbody>\n",
       "    <tr>\n",
       "      <td>concurrency</td>\n",
       "      <td>0.045577</td>\n",
       "    </tr>\n",
       "    <tr>\n",
       "      <td>database</td>\n",
       "      <td>0.031414</td>\n",
       "    </tr>\n",
       "    <tr>\n",
       "      <td>network</td>\n",
       "      <td>0.027112</td>\n",
       "    </tr>\n",
       "    <tr>\n",
       "      <td>getid</td>\n",
       "      <td>0.021933</td>\n",
       "    </tr>\n",
       "    <tr>\n",
       "      <td>node</td>\n",
       "      <td>0.021728</td>\n",
       "    </tr>\n",
       "    <tr>\n",
       "      <td>app</td>\n",
       "      <td>0.017852</td>\n",
       "    </tr>\n",
       "    <tr>\n",
       "      <td>dfs</td>\n",
       "      <td>0.012132</td>\n",
       "    </tr>\n",
       "    <tr>\n",
       "      <td>io</td>\n",
       "      <td>0.011571</td>\n",
       "    </tr>\n",
       "    <tr>\n",
       "      <td>getstatus</td>\n",
       "      <td>0.011499</td>\n",
       "    </tr>\n",
       "    <tr>\n",
       "      <td>jpa</td>\n",
       "      <td>0.010786</td>\n",
       "    </tr>\n",
       "    <tr>\n",
       "      <td>file</td>\n",
       "      <td>0.009800</td>\n",
       "    </tr>\n",
       "    <tr>\n",
       "      <td>web</td>\n",
       "      <td>0.009795</td>\n",
       "    </tr>\n",
       "    <tr>\n",
       "      <td>test</td>\n",
       "      <td>0.009010</td>\n",
       "    </tr>\n",
       "    <tr>\n",
       "      <td>evaluate</td>\n",
       "      <td>0.008552</td>\n",
       "    </tr>\n",
       "    <tr>\n",
       "      <td>case</td>\n",
       "      <td>0.008407</td>\n",
       "    </tr>\n",
       "  </tbody>\n",
       "</table>\n",
       "</div>"
      ],
      "text/plain": [
       "             importance\n",
       "concurrency    0.045577\n",
       "database       0.031414\n",
       "network        0.027112\n",
       "getid          0.021933\n",
       "node           0.021728\n",
       "app            0.017852\n",
       "dfs            0.012132\n",
       "io             0.011571\n",
       "getstatus      0.011499\n",
       "jpa            0.010786\n",
       "file           0.009800\n",
       "web            0.009795\n",
       "test           0.009010\n",
       "evaluate       0.008552\n",
       "case           0.008407"
      ]
     },
     "execution_count": 30,
     "metadata": {},
     "output_type": "execute_result"
    }
   ],
   "source": [
    "importances = pd.DataFrame(text_clf2['model'].feature_importances_, \n",
    "                           index = text_clf2['vectorizer'].get_feature_names(),\n",
    "                           columns=['importance']).sort_values('importance', ascending=False)\n",
    "\n",
    "importances[:15]"
   ]
  },
  {
   "cell_type": "code",
   "execution_count": 31,
   "metadata": {},
   "outputs": [
    {
     "data": {
      "text/plain": [
       "Text(0, 0.5, 'Token')"
      ]
     },
     "execution_count": 31,
     "metadata": {},
     "output_type": "execute_result"
    },
    {
     "data": {
      "image/png": "[encoded data removed]",
      "text/plain": [
       "<Figure size 432x288 with 1 Axes>"
      ]
     },
     "metadata": {
      "needs_background": "light"
     },
     "output_type": "display_data"
    }
   ],
   "source": [
    "sns.barplot(y=importances.index[:10], x=importances['importance'][:10])\n",
    "plt.title('Top 10 features')\n",
    "plt.ylabel('Token')"
   ]
  },
  {
   "cell_type": "markdown",
   "metadata": {},
   "source": [
    "### Evaluating RF model on new data"
   ]
  },
  {
   "cell_type": "code",
   "execution_count": 32,
   "metadata": {},
   "outputs": [
    {
     "name": "stdout",
     "output_type": "stream",
     "text": [
      "              precision    recall  f1-score   support\n",
      "\n",
      "           0       0.51      0.98      0.67       724\n",
      "           1       0.78      0.08      0.14       737\n",
      "\n",
      "    accuracy                           0.52      1461\n",
      "   macro avg       0.64      0.53      0.40      1461\n",
      "weighted avg       0.64      0.52      0.40      1461\n",
      "\n",
      "f1 0.138442521631644\n"
     ]
    }
   ],
   "source": [
    "new_preds = text_clf2.predict(new_data['processed_token'])\n",
    "print(classification_report(y_new, new_preds))\n",
    "print('f1', f1_score(y_new, new_preds))"
   ]
  }
 ],
 "metadata": {
  "kernelspec": {
   "display_name": "Python 3",
   "language": "python",
   "name": "python3"
  },
  "language_info": {
   "codemirror_mode": {
    "name": "ipython",
    "version": 3
   },
   "file_extension": ".py",
   "mimetype": "text/x-python",
   "name": "python",
   "nbconvert_exporter": "python",
   "pygments_lexer": "ipython3",
   "version": "3.7.4"
  }
 },
 "nbformat": 4,
 "nbformat_minor": 4
}
