{
 "cells": [
  {
   "cell_type": "code",
   "execution_count": 10,
   "metadata": {},
   "outputs": [],
   "source": [
    "from sklearn.model_selection import train_test_split\n",
    "from sklearn.ensemble import RandomForestClassifier\n",
    "from sklearn.feature_extraction.text import CountVectorizer\n",
    "from sklearn.metrics import plot_roc_curve\n",
    "from sklearn.metrics import classification_report\n",
    "import pandas as pd\n",
    "import seaborn as sns\n",
    "from preprocessing import concat_loc_sum, sum_java_words"
   ]
  },
  {
   "cell_type": "markdown",
   "metadata": {},
   "source": [
    "### Removing tokens that appear in more than 10% of documents.\n",
    "It's possible to do this setting the parameter max_df=0.1 "
   ]
  },
  {
   "cell_type": "code",
   "execution_count": 13,
   "metadata": {},
   "outputs": [],
   "source": [
    "msr_data = pd.read_csv('../msr_results/tokenslockeywordskeywordcount.csv', encoding = 'ANSI')\n",
    "y_msr = msr_data['class']\n",
    "msr = msr_data.drop(columns=['class'])"
   ]
  },
  {
   "cell_type": "markdown",
   "metadata": {},
   "source": [
    "Training the model on MSR data and evaluating on 20% of the same dataset."
   ]
  },
  {
   "cell_type": "code",
   "execution_count": 5,
   "metadata": {},
   "outputs": [
    {
     "name": "stdout",
     "output_type": "stream",
     "text": [
      "              precision    recall  f1-score   support\n",
      "\n",
      "           0       0.93      0.96      0.94       283\n",
      "           1       0.96      0.92      0.94       278\n",
      "\n",
      "    accuracy                           0.94       561\n",
      "   macro avg       0.94      0.94      0.94       561\n",
      "weighted avg       0.94      0.94      0.94       561\n",
      "\n"
     ]
    }
   ],
   "source": [
    "X_train, X_test, y_train, y_test = train_test_split(msr, y_msr, train_size=0.8, \n",
    "                                                random_state=33, shuffle=True)\n",
    "\n",
    "msr_vectorizer = CountVectorizer(max_features=1000, max_df=0.1)\n",
    "bow_train = msr_vectorizer.fit_transform(X_train['token'])\n",
    "sparse_matrix_train = pd.DataFrame(bow_train.toarray(), columns = msr_vectorizer.get_feature_names())\n",
    "X_train_count = concat_loc_sum(sparse_matrix_train, X_train)\n",
    "\n",
    "bow_test = msr_vectorizer.transform(X_test['token'])\n",
    "sparse_matrix_test = pd.DataFrame(bow_test.toarray(), columns = msr_vectorizer.get_feature_names())\n",
    "X_test_count = concat_loc_sum(sparse_matrix_test, X_test)\n",
    "\n",
    "msr_model = RandomForestClassifier(n_estimators=100, random_state=33)\n",
    "msr_model.fit(X_train_count, y_train)\n",
    "preds = msr_model.predict(X_test_count)\n",
    "\n",
    "print(classification_report(y_test, preds))"
   ]
  },
  {
   "cell_type": "code",
   "execution_count": 14,
   "metadata": {},
   "outputs": [
    {
     "data": {
      "image/png": "[encoded data removed]",
      "text/plain": [
       "<Figure size 432x288 with 1 Axes>"
      ]
     },
     "metadata": {
      "needs_background": "light"
     },
     "output_type": "display_data"
    }
   ],
   "source": [
    "roc = plot_roc_curve(msr_model, X_test_count, y_test)"
   ]
  },
  {
   "cell_type": "code",
   "execution_count": 15,
   "metadata": {},
   "outputs": [
    {
     "data": {
      "text/html": [
       "<div>\n",
       "<style scoped>\n",
       "    .dataframe tbody tr th:only-of-type {\n",
       "        vertical-align: middle;\n",
       "    }\n",
       "\n",
       "    .dataframe tbody tr th {\n",
       "        vertical-align: top;\n",
       "    }\n",
       "\n",
       "    .dataframe thead th {\n",
       "        text-align: right;\n",
       "    }\n",
       "</style>\n",
       "<table border=\"1\" class=\"dataframe\">\n",
       "  <thead>\n",
       "    <tr style=\"text-align: right;\">\n",
       "      <th></th>\n",
       "      <th>importance</th>\n",
       "    </tr>\n",
       "  </thead>\n",
       "  <tbody>\n",
       "    <tr>\n",
       "      <td>loc</td>\n",
       "      <td>0.038714</td>\n",
       "    </tr>\n",
       "    <tr>\n",
       "      <td>workflow</td>\n",
       "      <td>0.030199</td>\n",
       "    </tr>\n",
       "    <tr>\n",
       "      <td>cluster</td>\n",
       "      <td>0.023158</td>\n",
       "    </tr>\n",
       "    <tr>\n",
       "      <td>app</td>\n",
       "      <td>0.020318</td>\n",
       "    </tr>\n",
       "    <tr>\n",
       "      <td>coordinator</td>\n",
       "      <td>0.020052</td>\n",
       "    </tr>\n",
       "    <tr>\n",
       "      <td>node</td>\n",
       "      <td>0.014867</td>\n",
       "    </tr>\n",
       "    <tr>\n",
       "      <td>jpa</td>\n",
       "      <td>0.014121</td>\n",
       "    </tr>\n",
       "    <tr>\n",
       "      <td>wf</td>\n",
       "      <td>0.013069</td>\n",
       "    </tr>\n",
       "    <tr>\n",
       "      <td>jpaservice</td>\n",
       "      <td>0.012843</td>\n",
       "    </tr>\n",
       "    <tr>\n",
       "      <td>getfilesystem</td>\n",
       "      <td>0.012789</td>\n",
       "    </tr>\n",
       "    <tr>\n",
       "      <td>dfs</td>\n",
       "      <td>0.012241</td>\n",
       "    </tr>\n",
       "    <tr>\n",
       "      <td>row</td>\n",
       "      <td>0.011498</td>\n",
       "    </tr>\n",
       "    <tr>\n",
       "      <td>evaluate</td>\n",
       "      <td>0.011183</td>\n",
       "    </tr>\n",
       "    <tr>\n",
       "      <td>runtest</td>\n",
       "      <td>0.009819</td>\n",
       "    </tr>\n",
       "    <tr>\n",
       "      <td>return</td>\n",
       "      <td>0.009751</td>\n",
       "    </tr>\n",
       "  </tbody>\n",
       "</table>\n",
       "</div>"
      ],
      "text/plain": [
       "               importance\n",
       "loc              0.038714\n",
       "workflow         0.030199\n",
       "cluster          0.023158\n",
       "app              0.020318\n",
       "coordinator      0.020052\n",
       "node             0.014867\n",
       "jpa              0.014121\n",
       "wf               0.013069\n",
       "jpaservice       0.012843\n",
       "getfilesystem    0.012789\n",
       "dfs              0.012241\n",
       "row              0.011498\n",
       "evaluate         0.011183\n",
       "runtest          0.009819\n",
       "return           0.009751"
      ]
     },
     "execution_count": 15,
     "metadata": {},
     "output_type": "execute_result"
    }
   ],
   "source": [
    "importances = pd.DataFrame(msr_model.feature_importances_, index = X_train_count.columns,\n",
    "                            columns=['importance']).sort_values('importance', ascending=False)\n",
    "\n",
    "importances[:15]"
   ]
  },
  {
   "cell_type": "code",
   "execution_count": 18,
   "metadata": {},
   "outputs": [
    {
     "data": {
      "text/plain": [
       "Text(0, 0.5, 'Token')"
      ]
     },
     "execution_count": 18,
     "metadata": {},
     "output_type": "execute_result"
    },
    {
     "data": {
      "image/png": "[encoded data removed]",
      "text/plain": [
       "<Figure size 432x288 with 1 Axes>"
      ]
     },
     "metadata": {
      "needs_background": "light"
     },
     "output_type": "display_data"
    }
   ],
   "source": [
    "sns.barplot(y=importances.index[:10], x=importances['importance'][:10])\n",
    "plt.title('Top 10 features')\n",
    "plt.ylabel('Token')"
   ]
  },
  {
   "cell_type": "markdown",
   "metadata": {},
   "source": [
    "### Evaluating model on new data"
   ]
  },
  {
   "cell_type": "code",
   "execution_count": 19,
   "metadata": {},
   "outputs": [],
   "source": [
    "new_data = pd.read_csv('../new_data/dataset.csv')\n",
    "y_new = new_data['class']\n",
    "new = new_data.drop(columns=['class'])"
   ]
  },
  {
   "cell_type": "code",
   "execution_count": 20,
   "metadata": {},
   "outputs": [
    {
     "name": "stdout",
     "output_type": "stream",
     "text": [
      "              precision    recall  f1-score   support\n",
      "\n",
      "           0       0.51      0.95      0.66       724\n",
      "           1       0.67      0.10      0.17       737\n",
      "\n",
      "    accuracy                           0.52      1461\n",
      "   macro avg       0.59      0.52      0.42      1461\n",
      "weighted avg       0.59      0.52      0.41      1461\n",
      "\n"
     ]
    }
   ],
   "source": [
    "X_new = msr_vectorizer.transform(new['token'])\n",
    "sparse_matrix_new = pd.DataFrame(X_new.toarray(), columns = msr_vectorizer.get_feature_names())\n",
    "X_new_count = concat_loc_sum(sparse_matrix_new, new_data)\n",
    "\n",
    "new_preds = msr_model.predict(X_new_count)\n",
    "print(classification_report(y_new, new_preds))"
   ]
  }
 ],
 "metadata": {
  "kernelspec": {
   "display_name": "Python 3",
   "language": "python",
   "name": "python3"
  },
  "language_info": {
   "codemirror_mode": {
    "name": "ipython",
    "version": 3
   },
   "file_extension": ".py",
   "mimetype": "text/x-python",
   "name": "python",
   "nbconvert_exporter": "python",
   "pygments_lexer": "ipython3",
   "version": "3.7.4"
  }
 },
 "nbformat": 4,
 "nbformat_minor": 4
}
